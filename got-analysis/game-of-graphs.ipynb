{
 "cells": [
  {
   "cell_type": "markdown",
   "id": "62259917",
   "metadata": {},
   "source": [
    "# Game of Graphs - Graph analytics on a GoT dataset"
   ]
  },
  {
   "cell_type": "markdown",
   "id": "b1358e7b",
   "metadata": {},
   "source": [
    "First, we need to run Memgraph. The easiest way to do this, is to run Memgraph Platform with Docker.\n",
    "```\n",
    "docker run -it -p 7687:7687 -p 7444:7444 -p 3000:3000 memgraph/memgraph-platform\n",
    "```"
   ]
  },
  {
   "cell_type": "code",
   "execution_count": 170,
   "id": "7b913342",
   "metadata": {},
   "outputs": [],
   "source": [
    "from gqlalchemy import Memgraph\n",
    "memgraph = Memgraph(\"127.0.0.1\", 7687)"
   ]
  },
  {
   "cell_type": "markdown",
   "id": "d3c44ad9",
   "metadata": {},
   "source": [
    "Let's see if there's anything in the database. To do that, we can count the number of nodes in the database with the following Cypher query:\n",
    "```\n",
    "MATCH (n) RETURN count(n) AS number_of_nodes;\n",
    "```\n",
    "\n",
    "With the GQLAlchemy, you can execute that query and fetch its results:"
   ]
  },
  {
   "cell_type": "code",
   "execution_count": 9,
   "id": "69bcdc59",
   "metadata": {},
   "outputs": [
    {
     "name": "stdout",
     "output_type": "stream",
     "text": [
      "{'number_of_nodes': 0}\n"
     ]
    }
   ],
   "source": [
    "results = memgraph.execute_and_fetch(\n",
    "    \"\"\"\n",
    "    MATCH (n) RETURN count(n) AS number_of_nodes ;\n",
    "    \"\"\"\n",
    ")\n",
    "print(next(results))"
   ]
  },
  {
   "cell_type": "markdown",
   "id": "dcf51341",
   "metadata": {},
   "source": [
    "Besides simple Cypher query execution, you can also use GQLAlchemy query builder:"
   ]
  },
  {
   "cell_type": "code",
   "execution_count": 5,
   "id": "02d2d12a",
   "metadata": {
    "scrolled": true
   },
   "outputs": [
    {
     "name": "stdout",
     "output_type": "stream",
     "text": [
      "{'number_of_nodes': 2677}\n"
     ]
    }
   ],
   "source": [
    "from gqlalchemy import match\n",
    "results = match().node(variable=\"n\").return_({\"count(n)\": \"number_of_nodes\"}).execute()\n",
    "print(next(results))"
   ]
  },
  {
   "cell_type": "markdown",
   "id": "19cf5a0c",
   "metadata": {},
   "source": [
    "The simplest way to load a dataset into Memgraph is by using **Memgraph Lab** which is currently running on `localhost:3000`. The first thing you're going to see on that address is the **Quick Connect**. You just have to click `Connect`!"
   ]
  },
  {
   "cell_type": "code",
   "execution_count": 172,
   "id": "44ceb144",
   "metadata": {},
   "outputs": [
    {
     "name": "stdout",
     "output_type": "stream",
     "text": [
      "zsh:1: unknown group\r\n"
     ]
    }
   ],
   "source": [
    "![](got-analysis/img/memgraph-lab-quick-connect.png)"
   ]
  },
  {
   "cell_type": "markdown",
   "id": "d55e08a4",
   "metadata": {},
   "source": [
    "In the similar way, you can determine the number of relationships in the database:"
   ]
  },
  {
   "cell_type": "code",
   "execution_count": 6,
   "id": "74b9ecd2",
   "metadata": {},
   "outputs": [
    {
     "name": "stdout",
     "output_type": "stream",
     "text": [
      "{'number_of_relationships': 11967}\n"
     ]
    }
   ],
   "source": [
    "results = memgraph.execute_and_fetch(\n",
    "    \"\"\"\n",
    "    MATCH ()-[r]->() RETURN count(r) AS number_of_relationships ;\n",
    "    \"\"\"\n",
    ")\n",
    "print(next(results))"
   ]
  },
  {
   "cell_type": "markdown",
   "id": "3d427183",
   "metadata": {},
   "source": [
    "And with the query builder like this:"
   ]
  },
  {
   "cell_type": "code",
   "execution_count": 7,
   "id": "ec484450",
   "metadata": {
    "scrolled": true
   },
   "outputs": [
    {
     "name": "stdout",
     "output_type": "stream",
     "text": [
      "{'number_of_relationships': 11967}\n"
     ]
    }
   ],
   "source": [
    "from gqlalchemy import match\n",
    "results = match().node().to(variable=\"r\").node().return_({\"count(r)\": \"number_of_relationships\"}).execute()\n",
    "print(next(results))"
   ]
  },
  {
   "cell_type": "code",
   "execution_count": 16,
   "id": "d387293e",
   "metadata": {},
   "outputs": [],
   "source": [
    "from gqlalchemy import Node, Relationship, Field\n",
    "\n",
    "class Character(Node):\n",
    "    name: str\n",
    "\n",
    "class Allegiance(Node):\n",
    "    name: str\n",
    "        \n",
    "class Death(Node):\n",
    "    order: int\n",
    "        \n",
    "class Episode(Node):\n",
    "    name: str\n",
    "    number: int\n",
    "    imdb_rating: float\n",
    "\n",
    "class Season(Node):\n",
    "    number: int\n",
    "\n",
    "class Location(Node):\n",
    "    name: str\n",
    "\n",
    "class Killed(Relationship, type=\"KILLED\"):\n",
    "    method: str\n",
    "    count: int\n",
    "\n",
    "class LoyalTo(Relationship, type=\"LOYAL_TO\"):\n",
    "    pass\n",
    "\n",
    "class VictimIn(Relationship, type=\"VICTIM_IN\"):\n",
    "    pass\n",
    "\n",
    "class KillerIn(Relationship, type=\"KILLER_IN\"):\n",
    "    pass\n",
    "\n",
    "class HappenedIn(Relationship, type=\"HAPPENED_IN\"):\n",
    "    pass\n",
    "\n",
    "class PartOf(Relationship, type=\"PART_OF\"):\n",
    "    pass"
   ]
  },
  {
   "cell_type": "markdown",
   "id": "583112f1",
   "metadata": {},
   "source": [
    "List the episodes where most deaths occurred:"
   ]
  },
  {
   "cell_type": "code",
   "execution_count": 14,
   "id": "118403fc",
   "metadata": {},
   "outputs": [
    {
     "name": "stdout",
     "output_type": "stream",
     "text": [
      "{'episode_name': 'The Bells ', 'kill_count': 844}\n",
      "{'episode_name': 'The Spoils of War ', 'kill_count': 205}\n",
      "{'episode_name': 'The Winds of Winter', 'kill_count': 203}\n",
      "{'episode_name': 'Battle of the Bastards', 'kill_count': 133}\n",
      "{'episode_name': 'The Watchers on the Wall ', 'kill_count': 86}\n",
      "{'episode_name': 'Blackwater ', 'kill_count': 72}\n",
      "{'episode_name': 'The Dance of Dragons', 'kill_count': 58}\n",
      "{'episode_name': 'Dragonstone ', 'kill_count': 54}\n",
      "{'episode_name': 'Sons of the Harpy', 'kill_count': 48}\n",
      "{'episode_name': 'The Rains of Castamere', 'kill_count': 45}\n"
     ]
    }
   ],
   "source": [
    "results = memgraph.execute_and_fetch(\n",
    "    \"\"\"\n",
    "    MATCH (d:Death)-[:HAPPENED_IN]->(e:Episode)\n",
    "    RETURN e.name AS episode_name, COUNT(d) AS kill_count\n",
    "    ORDER BY kill_count DESC\n",
    "    LIMIT 10;\n",
    "    \"\"\"\n",
    ")\n",
    "\n",
    "for result in results:\n",
    "    print(result)\n"
   ]
  },
  {
   "cell_type": "code",
   "execution_count": 22,
   "id": "b99e8f42",
   "metadata": {},
   "outputs": [
    {
     "name": "stdout",
     "output_type": "stream",
     "text": [
      "<Character id=73 labels={'Character'} properties={'name': 'Othor'}> <VictimIn id=1107 start_node_id=73 end_node_id=499 nodes=(73, 499) type=VICTIM_IN properties={}> <Death id=499 labels={'Death'} properties={'order': 47}> <HappenedIn id=5435 start_node_id=499 end_node_id=74 nodes=(499, 74) type=HAPPENED_IN properties={}> <Location id=74 labels={'Location'} properties={'name': 'Castle Black'}>\n",
      "\n",
      "<Character id=134 labels={'Character'} properties={'name': 'Qhorin Halfhand'}> <VictimIn id=2498 start_node_id=134 end_node_id=638 nodes=(134, 638) type=VICTIM_IN properties={}> <Death id=638 labels={'Death'} properties={'order': 186}> <HappenedIn id=5852 start_node_id=638 end_node_id=1 nodes=(638, 1) type=HAPPENED_IN properties={}> <Location id=1 labels={'Location'} properties={'name': 'Beyond the Wall'}>\n",
      "\n",
      "<Character id=49 labels={'Character'} properties={'name': 'Wildling'}> <VictimIn id=833 start_node_id=49 end_node_id=676 nodes=(49, 676) type=VICTIM_IN properties={}> <Death id=676 labels={'Death'} properties={'order': 224}> <HappenedIn id=5966 start_node_id=676 end_node_id=221 nodes=(676, 221) type=HAPPENED_IN properties={}> <Location id=221 labels={'Location'} properties={'name': 'The Gift'}>\n",
      "\n",
      "<Character id=49 labels={'Character'} properties={'name': 'Wildling'}> <VictimIn id=875 start_node_id=49 end_node_id=853 nodes=(49, 853) type=VICTIM_IN properties={}> <Death id=853 labels={'Death'} properties={'order': 401}> <HappenedIn id=6497 start_node_id=853 end_node_id=74 nodes=(853, 74) type=HAPPENED_IN properties={}> <Location id=74 labels={'Location'} properties={'name': 'Castle Black'}>\n",
      "\n",
      "<Character id=49 labels={'Character'} properties={'name': 'Wildling'}> <VictimIn id=876 start_node_id=49 end_node_id=854 nodes=(49, 854) type=VICTIM_IN properties={}> <Death id=854 labels={'Death'} properties={'order': 402}> <HappenedIn id=6500 start_node_id=854 end_node_id=74 nodes=(854, 74) type=HAPPENED_IN properties={}> <Location id=74 labels={'Location'} properties={'name': 'Castle Black'}>\n",
      "\n",
      "<Character id=49 labels={'Character'} properties={'name': 'Wildling'}> <VictimIn id=877 start_node_id=49 end_node_id=855 nodes=(49, 855) type=VICTIM_IN properties={}> <Death id=855 labels={'Death'} properties={'order': 403}> <HappenedIn id=6503 start_node_id=855 end_node_id=74 nodes=(855, 74) type=HAPPENED_IN properties={}> <Location id=74 labels={'Location'} properties={'name': 'Castle Black'}>\n",
      "\n",
      "<Character id=49 labels={'Character'} properties={'name': 'Wildling'}> <VictimIn id=878 start_node_id=49 end_node_id=859 nodes=(49, 859) type=VICTIM_IN properties={}> <Death id=859 labels={'Death'} properties={'order': 407}> <HappenedIn id=6515 start_node_id=859 end_node_id=74 nodes=(859, 74) type=HAPPENED_IN properties={}> <Location id=74 labels={'Location'} properties={'name': 'Castle Black'}>\n",
      "\n",
      "<Character id=49 labels={'Character'} properties={'name': 'Wildling'}> <VictimIn id=879 start_node_id=49 end_node_id=861 nodes=(49, 861) type=VICTIM_IN properties={}> <Death id=861 labels={'Death'} properties={'order': 409}> <HappenedIn id=6521 start_node_id=861 end_node_id=74 nodes=(861, 74) type=HAPPENED_IN properties={}> <Location id=74 labels={'Location'} properties={'name': 'Castle Black'}>\n",
      "\n",
      "<Character id=49 labels={'Character'} properties={'name': 'Wildling'}> <VictimIn id=880 start_node_id=49 end_node_id=865 nodes=(49, 865) type=VICTIM_IN properties={}> <Death id=865 labels={'Death'} properties={'order': 413}> <HappenedIn id=6533 start_node_id=865 end_node_id=74 nodes=(865, 74) type=HAPPENED_IN properties={}> <Location id=74 labels={'Location'} properties={'name': 'Castle Black'}>\n",
      "\n",
      "<Character id=225 labels={'Character'} properties={'name': 'Orell'}> <VictimIn id=3117 start_node_id=225 end_node_id=679 nodes=(225, 679) type=VICTIM_IN properties={}> <Death id=679 labels={'Death'} properties={'order': 227}> <HappenedIn id=5975 start_node_id=679 end_node_id=221 nodes=(679, 221) type=HAPPENED_IN properties={}> <Location id=221 labels={'Location'} properties={'name': 'The Gift'}>\n",
      "\n",
      "<Character id=265 labels={'Character'} properties={'name': 'Nights Watch mutineer'}> <VictimIn id=3334 start_node_id=265 end_node_id=755 nodes=(265, 755) type=VICTIM_IN properties={}> <Death id=755 labels={'Death'} properties={'order': 303}> <HappenedIn id=6203 start_node_id=755 end_node_id=1 nodes=(755, 1) type=HAPPENED_IN properties={}> <Location id=1 labels={'Location'} properties={'name': 'Beyond the Wall'}>\n",
      "\n",
      "<Character id=265 labels={'Character'} properties={'name': 'Nights Watch mutineer'}> <VictimIn id=3336 start_node_id=265 end_node_id=757 nodes=(265, 757) type=VICTIM_IN properties={}> <Death id=757 labels={'Death'} properties={'order': 305}> <HappenedIn id=6209 start_node_id=757 end_node_id=1 nodes=(757, 1) type=HAPPENED_IN properties={}> <Location id=1 labels={'Location'} properties={'name': 'Beyond the Wall'}>\n",
      "\n",
      "<Character id=265 labels={'Character'} properties={'name': 'Nights Watch mutineer'}> <VictimIn id=3338 start_node_id=265 end_node_id=759 nodes=(265, 759) type=VICTIM_IN properties={}> <Death id=759 labels={'Death'} properties={'order': 307}> <HappenedIn id=6215 start_node_id=759 end_node_id=1 nodes=(759, 1) type=HAPPENED_IN properties={}> <Location id=1 labels={'Location'} properties={'name': 'Beyond the Wall'}>\n",
      "\n",
      "<Character id=265 labels={'Character'} properties={'name': 'Nights Watch mutineer'}> <VictimIn id=3339 start_node_id=265 end_node_id=761 nodes=(265, 761) type=VICTIM_IN properties={}> <Death id=761 labels={'Death'} properties={'order': 309}> <HappenedIn id=6221 start_node_id=761 end_node_id=1 nodes=(761, 1) type=HAPPENED_IN properties={}> <Location id=1 labels={'Location'} properties={'name': 'Beyond the Wall'}>\n",
      "\n",
      "<Character id=190 labels={'Character'} properties={'name': 'Karl Tanner'}> <VictimIn id=2972 start_node_id=190 end_node_id=763 nodes=(190, 763) type=VICTIM_IN properties={}> <Death id=763 labels={'Death'} properties={'order': 311}> <HappenedIn id=6227 start_node_id=763 end_node_id=1 nodes=(763, 1) type=HAPPENED_IN properties={}> <Location id=1 labels={'Location'} properties={'name': 'Beyond the Wall'}>\n",
      "\n",
      "<Character id=255 labels={'Character'} properties={'name': 'Styr'}> <VictimIn id=3275 start_node_id=255 end_node_id=866 nodes=(255, 866) type=VICTIM_IN properties={}> <Death id=866 labels={'Death'} properties={'order': 414}> <HappenedIn id=6536 start_node_id=866 end_node_id=74 nodes=(866, 74) type=HAPPENED_IN properties={}> <Location id=74 labels={'Location'} properties={'name': 'Castle Black'}>\n",
      "\n",
      "<Character id=307 labels={'Character'} properties={'name': 'Mance Rayder'}> <VictimIn id=3572 start_node_id=307 end_node_id=898 nodes=(307, 898) type=VICTIM_IN properties={}> <Death id=898 labels={'Death'} properties={'order': 446}> <HappenedIn id=6632 start_node_id=898 end_node_id=74 nodes=(898, 74) type=HAPPENED_IN properties={}> <Location id=74 labels={'Location'} properties={'name': 'Castle Black'}>\n",
      "\n",
      "<Character id=105 labels={'Character'} properties={'name': 'Janos Slynt'}> <VictimIn id=2409 start_node_id=105 end_node_id=910 nodes=(105, 910) type=VICTIM_IN properties={}> <Death id=910 labels={'Death'} properties={'order': 458}> <HappenedIn id=6668 start_node_id=910 end_node_id=74 nodes=(910, 74) type=HAPPENED_IN properties={}> <Location id=74 labels={'Location'} properties={'name': 'Castle Black'}>\n",
      "\n",
      "<Character id=366 labels={'Character'} properties={'name': 'Bowen Marsh'}> <VictimIn id=3874 start_node_id=366 end_node_id=1076 nodes=(366, 1076) type=VICTIM_IN properties={}> <Death id=1076 labels={'Death'} properties={'order': 624}> <HappenedIn id=7166 start_node_id=1076 end_node_id=74 nodes=(1076, 74) type=HAPPENED_IN properties={}> <Location id=74 labels={'Location'} properties={'name': 'Castle Black'}>\n",
      "\n",
      "<Character id=367 labels={'Character'} properties={'name': 'Othell Yarwyck'}> <VictimIn id=3876 start_node_id=367 end_node_id=1077 nodes=(367, 1077) type=VICTIM_IN properties={}> <Death id=1077 labels={'Death'} properties={'order': 625}> <HappenedIn id=7169 start_node_id=1077 end_node_id=74 nodes=(1077, 74) type=HAPPENED_IN properties={}> <Location id=74 labels={'Location'} properties={'name': 'Castle Black'}>\n",
      "\n",
      "<Character id=287 labels={'Character'} properties={'name': 'Alliser Thorne'}> <VictimIn id=3412 start_node_id=287 end_node_id=1078 nodes=(287, 1078) type=VICTIM_IN properties={}> <Death id=1078 labels={'Death'} properties={'order': 626}> <HappenedIn id=7172 start_node_id=1078 end_node_id=74 nodes=(1078, 74) type=HAPPENED_IN properties={}> <Location id=74 labels={'Location'} properties={'name': 'Castle Black'}>\n",
      "\n",
      "<Character id=293 labels={'Character'} properties={'name': 'Olly'}> <VictimIn id=3434 start_node_id=293 end_node_id=1079 nodes=(293, 1079) type=VICTIM_IN properties={}> <Death id=1079 labels={'Death'} properties={'order': 627}> <HappenedIn id=7175 start_node_id=1079 end_node_id=74 nodes=(1079, 74) type=HAPPENED_IN properties={}> <Location id=74 labels={'Location'} properties={'name': 'Castle Black'}>\n",
      "\n",
      "<Character id=183 labels={'Character'} properties={'name': 'Bolton soldier'}> <VictimIn id=2836 start_node_id=183 end_node_id=1151 nodes=(183, 1151) type=VICTIM_IN properties={}> <Death id=1151 labels={'Death'} properties={'order': 699}> <HappenedIn id=7391 start_node_id=1151 end_node_id=9 nodes=(1151, 9) type=HAPPENED_IN properties={}> <Location id=9 labels={'Location'} properties={'name': 'Winterfell'}>\n",
      "\n",
      "<Character id=183 labels={'Character'} properties={'name': 'Bolton soldier'}> <VictimIn id=2837 start_node_id=183 end_node_id=1152 nodes=(183, 1152) type=VICTIM_IN properties={}> <Death id=1152 labels={'Death'} properties={'order': 700}> <HappenedIn id=7394 start_node_id=1152 end_node_id=9 nodes=(1152, 9) type=HAPPENED_IN properties={}> <Location id=9 labels={'Location'} properties={'name': 'Winterfell'}>\n",
      "\n",
      "<Character id=183 labels={'Character'} properties={'name': 'Bolton soldier'}> <VictimIn id=2841 start_node_id=183 end_node_id=1156 nodes=(183, 1156) type=VICTIM_IN properties={}> <Death id=1156 labels={'Death'} properties={'order': 704}> <HappenedIn id=7406 start_node_id=1156 end_node_id=9 nodes=(1156, 9) type=HAPPENED_IN properties={}> <Location id=9 labels={'Location'} properties={'name': 'Winterfell'}>\n",
      "\n",
      "<Character id=183 labels={'Character'} properties={'name': 'Bolton soldier'}> <VictimIn id=2842 start_node_id=183 end_node_id=1157 nodes=(183, 1157) type=VICTIM_IN properties={}> <Death id=1157 labels={'Death'} properties={'order': 705}> <HappenedIn id=7409 start_node_id=1157 end_node_id=9 nodes=(1157, 9) type=HAPPENED_IN properties={}> <Location id=9 labels={'Location'} properties={'name': 'Winterfell'}>\n",
      "\n",
      "<Character id=183 labels={'Character'} properties={'name': 'Bolton soldier'}> <VictimIn id=2844 start_node_id=183 end_node_id=1159 nodes=(183, 1159) type=VICTIM_IN properties={}> <Death id=1159 labels={'Death'} properties={'order': 707}> <HappenedIn id=7415 start_node_id=1159 end_node_id=9 nodes=(1159, 9) type=HAPPENED_IN properties={}> <Location id=9 labels={'Location'} properties={'name': 'Winterfell'}>\n",
      "\n",
      "<Character id=183 labels={'Character'} properties={'name': 'Bolton soldier'}> <VictimIn id=2846 start_node_id=183 end_node_id=1161 nodes=(183, 1161) type=VICTIM_IN properties={}> <Death id=1161 labels={'Death'} properties={'order': 709}> <HappenedIn id=7421 start_node_id=1161 end_node_id=9 nodes=(1161, 9) type=HAPPENED_IN properties={}> <Location id=9 labels={'Location'} properties={'name': 'Winterfell'}>\n",
      "\n",
      "<Character id=183 labels={'Character'} properties={'name': 'Bolton soldier'}> <VictimIn id=2847 start_node_id=183 end_node_id=1162 nodes=(183, 1162) type=VICTIM_IN properties={}> <Death id=1162 labels={'Death'} properties={'order': 710}> <HappenedIn id=7424 start_node_id=1162 end_node_id=9 nodes=(1162, 9) type=HAPPENED_IN properties={}> <Location id=9 labels={'Location'} properties={'name': 'Winterfell'}>\n",
      "\n",
      "<Character id=183 labels={'Character'} properties={'name': 'Bolton soldier'}> <VictimIn id=2857 start_node_id=183 end_node_id=1172 nodes=(183, 1172) type=VICTIM_IN properties={}> <Death id=1172 labels={'Death'} properties={'order': 720}> <HappenedIn id=7454 start_node_id=1172 end_node_id=9 nodes=(1172, 9) type=HAPPENED_IN properties={}> <Location id=9 labels={'Location'} properties={'name': 'Winterfell'}>\n",
      "\n",
      "<Character id=183 labels={'Character'} properties={'name': 'Bolton soldier'}> <VictimIn id=2858 start_node_id=183 end_node_id=1173 nodes=(183, 1173) type=VICTIM_IN properties={}> <Death id=1173 labels={'Death'} properties={'order': 721}> <HappenedIn id=7457 start_node_id=1173 end_node_id=9 nodes=(1173, 9) type=HAPPENED_IN properties={}> <Location id=9 labels={'Location'} properties={'name': 'Winterfell'}>\n",
      "\n",
      "<Character id=183 labels={'Character'} properties={'name': 'Bolton soldier'}> <VictimIn id=2859 start_node_id=183 end_node_id=1174 nodes=(183, 1174) type=VICTIM_IN properties={}> <Death id=1174 labels={'Death'} properties={'order': 722}> <HappenedIn id=7460 start_node_id=1174 end_node_id=9 nodes=(1174, 9) type=HAPPENED_IN properties={}> <Location id=9 labels={'Location'} properties={'name': 'Winterfell'}>\n",
      "\n",
      "<Character id=183 labels={'Character'} properties={'name': 'Bolton soldier'}> <VictimIn id=2871 start_node_id=183 end_node_id=1186 nodes=(183, 1186) type=VICTIM_IN properties={}> <Death id=1186 labels={'Death'} properties={'order': 734}> <HappenedIn id=7496 start_node_id=1186 end_node_id=9 nodes=(1186, 9) type=HAPPENED_IN properties={}> <Location id=9 labels={'Location'} properties={'name': 'Winterfell'}>\n",
      "\n",
      "<Character id=183 labels={'Character'} properties={'name': 'Bolton soldier'}> <VictimIn id=2872 start_node_id=183 end_node_id=1187 nodes=(183, 1187) type=VICTIM_IN properties={}> <Death id=1187 labels={'Death'} properties={'order': 735}> <HappenedIn id=7499 start_node_id=1187 end_node_id=9 nodes=(1187, 9) type=HAPPENED_IN properties={}> <Location id=9 labels={'Location'} properties={'name': 'Winterfell'}>\n",
      "\n",
      "<Character id=183 labels={'Character'} properties={'name': 'Bolton soldier'}> <VictimIn id=2873 start_node_id=183 end_node_id=1188 nodes=(183, 1188) type=VICTIM_IN properties={}> <Death id=1188 labels={'Death'} properties={'order': 736}> <HappenedIn id=7502 start_node_id=1188 end_node_id=9 nodes=(1188, 9) type=HAPPENED_IN properties={}> <Location id=9 labels={'Location'} properties={'name': 'Winterfell'}>\n",
      "\n",
      "<Character id=183 labels={'Character'} properties={'name': 'Bolton soldier'}> <VictimIn id=2875 start_node_id=183 end_node_id=1190 nodes=(183, 1190) type=VICTIM_IN properties={}> <Death id=1190 labels={'Death'} properties={'order': 738}> <HappenedIn id=7508 start_node_id=1190 end_node_id=9 nodes=(1190, 9) type=HAPPENED_IN properties={}> <Location id=9 labels={'Location'} properties={'name': 'Winterfell'}>\n",
      "\n",
      "<Character id=183 labels={'Character'} properties={'name': 'Bolton soldier'}> <VictimIn id=2877 start_node_id=183 end_node_id=1192 nodes=(183, 1192) type=VICTIM_IN properties={}> <Death id=1192 labels={'Death'} properties={'order': 740}> <HappenedIn id=7514 start_node_id=1192 end_node_id=9 nodes=(1192, 9) type=HAPPENED_IN properties={}> <Location id=9 labels={'Location'} properties={'name': 'Winterfell'}>\n",
      "\n",
      "<Character id=183 labels={'Character'} properties={'name': 'Bolton soldier'}> <VictimIn id=2879 start_node_id=183 end_node_id=1194 nodes=(183, 1194) type=VICTIM_IN properties={}> <Death id=1194 labels={'Death'} properties={'order': 742}> <HappenedIn id=7520 start_node_id=1194 end_node_id=9 nodes=(1194, 9) type=HAPPENED_IN properties={}> <Location id=9 labels={'Location'} properties={'name': 'Winterfell'}>\n",
      "\n",
      "<Character id=183 labels={'Character'} properties={'name': 'Bolton soldier'}> <VictimIn id=2885 start_node_id=183 end_node_id=1202 nodes=(183, 1202) type=VICTIM_IN properties={}> <Death id=1202 labels={'Death'} properties={'order': 750}> <HappenedIn id=7544 start_node_id=1202 end_node_id=9 nodes=(1202, 9) type=HAPPENED_IN properties={}> <Location id=9 labels={'Location'} properties={'name': 'Winterfell'}>\n",
      "\n",
      "<Character id=183 labels={'Character'} properties={'name': 'Bolton soldier'}> <VictimIn id=2888 start_node_id=183 end_node_id=1205 nodes=(183, 1205) type=VICTIM_IN properties={}> <Death id=1205 labels={'Death'} properties={'order': 753}> <HappenedIn id=7553 start_node_id=1205 end_node_id=9 nodes=(1205, 9) type=HAPPENED_IN properties={}> <Location id=9 labels={'Location'} properties={'name': 'Winterfell'}>\n",
      "\n",
      "<Character id=183 labels={'Character'} properties={'name': 'Bolton soldier'}> <VictimIn id=2892 start_node_id=183 end_node_id=1212 nodes=(183, 1212) type=VICTIM_IN properties={}> <Death id=1212 labels={'Death'} properties={'order': 760}> <HappenedIn id=7574 start_node_id=1212 end_node_id=9 nodes=(1212, 9) type=HAPPENED_IN properties={}> <Location id=9 labels={'Location'} properties={'name': 'Winterfell'}>\n",
      "\n",
      "<Character id=183 labels={'Character'} properties={'name': 'Bolton soldier'}> <VictimIn id=2901 start_node_id=183 end_node_id=1223 nodes=(183, 1223) type=VICTIM_IN properties={}> <Death id=1223 labels={'Death'} properties={'order': 771}> <HappenedIn id=7607 start_node_id=1223 end_node_id=9 nodes=(1223, 9) type=HAPPENED_IN properties={}> <Location id=9 labels={'Location'} properties={'name': 'Winterfell'}>\n",
      "\n",
      "<Character id=42 labels={'Character'} properties={'name': 'Lannister soldier'}> <VictimIn id=737 start_node_id=42 end_node_id=2487 nodes=(42, 2487) type=VICTIM_IN properties={}> <Death id=2487 labels={'Death'} properties={'order': 2035}> <HappenedIn id=11399 start_node_id=2487 end_node_id=15 nodes=(2487, 15) type=HAPPENED_IN properties={}> <Location id=15 labels={'Location'} properties={'name': 'Kings Landing'}>\n",
      "\n",
      "<Character id=42 labels={'Character'} properties={'name': 'Lannister soldier'}> <VictimIn id=738 start_node_id=42 end_node_id=2488 nodes=(42, 2488) type=VICTIM_IN properties={}> <Death id=2488 labels={'Death'} properties={'order': 2036}> <HappenedIn id=11402 start_node_id=2488 end_node_id=15 nodes=(2488, 15) type=HAPPENED_IN properties={}> <Location id=15 labels={'Location'} properties={'name': 'Kings Landing'}>\n",
      "\n",
      "<Character id=42 labels={'Character'} properties={'name': 'Lannister soldier'}> <VictimIn id=739 start_node_id=42 end_node_id=2489 nodes=(42, 2489) type=VICTIM_IN properties={}> <Death id=2489 labels={'Death'} properties={'order': 2037}> <HappenedIn id=11405 start_node_id=2489 end_node_id=15 nodes=(2489, 15) type=HAPPENED_IN properties={}> <Location id=15 labels={'Location'} properties={'name': 'Kings Landing'}>\n",
      "\n",
      "<Character id=42 labels={'Character'} properties={'name': 'Lannister soldier'}> <VictimIn id=765 start_node_id=42 end_node_id=2593 nodes=(42, 2593) type=VICTIM_IN properties={}> <Death id=2593 labels={'Death'} properties={'order': 2141}> <HappenedIn id=11717 start_node_id=2593 end_node_id=15 nodes=(2593, 15) type=HAPPENED_IN properties={}> <Location id=15 labels={'Location'} properties={'name': 'Kings Landing'}>\n",
      "\n",
      "<Character id=42 labels={'Character'} properties={'name': 'Lannister soldier'}> <VictimIn id=766 start_node_id=42 end_node_id=2594 nodes=(42, 2594) type=VICTIM_IN properties={}> <Death id=2594 labels={'Death'} properties={'order': 2142}> <HappenedIn id=11720 start_node_id=2594 end_node_id=15 nodes=(2594, 15) type=HAPPENED_IN properties={}> <Location id=15 labels={'Location'} properties={'name': 'Kings Landing'}>\n",
      "\n",
      "<Character id=42 labels={'Character'} properties={'name': 'Lannister soldier'}> <VictimIn id=769 start_node_id=42 end_node_id=2663 nodes=(42, 2663) type=VICTIM_IN properties={}> <Death id=2663 labels={'Death'} properties={'order': 2211}> <HappenedIn id=11927 start_node_id=2663 end_node_id=15 nodes=(2663, 15) type=HAPPENED_IN properties={}> <Location id=15 labels={'Location'} properties={'name': 'Kings Landing'}>\n",
      "\n",
      "<Character id=42 labels={'Character'} properties={'name': 'Lannister soldier'}> <VictimIn id=770 start_node_id=42 end_node_id=2664 nodes=(42, 2664) type=VICTIM_IN properties={}> <Death id=2664 labels={'Death'} properties={'order': 2212}> <HappenedIn id=11930 start_node_id=2664 end_node_id=15 nodes=(2664, 15) type=HAPPENED_IN properties={}> <Location id=15 labels={'Location'} properties={'name': 'Kings Landing'}>\n",
      "\n",
      "<Character id=391 labels={'Character'} properties={'name': 'Stark Soldier'}> <VictimIn id=4102 start_node_id=391 end_node_id=2665 nodes=(391, 2665) type=VICTIM_IN properties={}> <Death id=2665 labels={'Death'} properties={'order': 2213}> <HappenedIn id=11933 start_node_id=2665 end_node_id=15 nodes=(2665, 15) type=HAPPENED_IN properties={}> <Location id=15 labels={'Location'} properties={'name': 'Kings Landing'}>\n",
      "\n",
      "<Character id=93 labels={'Character'} properties={'name': 'Daenerys Targaryen'}> <VictimIn id=2341 start_node_id=93 end_node_id=2676 nodes=(93, 2676) type=VICTIM_IN properties={}> <Death id=2676 labels={'Death'} properties={'order': 2224}> <HappenedIn id=11966 start_node_id=2676 end_node_id=15 nodes=(2676, 15) type=HAPPENED_IN properties={}> <Location id=15 labels={'Location'} properties={'name': 'Kings Landing'}>\n",
      "\n"
     ]
    }
   ],
   "source": [
    "results = memgraph.execute_and_fetch(\n",
    "    \"\"\"\n",
    "    MATCH (jon:Character {name: 'Jon Snow'})-[:KILLED]->(victim:Character)\n",
    "    MATCH (jon)-[:KILLER_IN]->(death:Death)<-[victim_to_death:VICTIM_IN]-(victim)\n",
    "    MATCH (death)-[death_to_location:HAPPENED_IN]->(location:Location)\n",
    "    RETURN victim,victim_to_death,death,death_to_location,location;\n",
    "    \"\"\"\n",
    ")\n",
    "\n",
    "for result in results:\n",
    "    print(result[\"victim\"], result[\"victim_to_death\"], result[\"death\"], result[\"death_to_location\"], result[\"location\"])\n",
    "    print()\n",
    "\n"
   ]
  },
  {
   "cell_type": "code",
   "execution_count": 30,
   "id": "cd90abb5",
   "metadata": {},
   "outputs": [
    {
     "name": "stdout",
     "output_type": "stream",
     "text": [
      "{'total_number_of_deaths': 2224}\n"
     ]
    }
   ],
   "source": [
    "results = memgraph.execute_and_fetch(\n",
    "    \"\"\"\n",
    "    MATCH (d:Death)\n",
    "    RETURN count(d) AS total_number_of_deaths;\n",
    "    \"\"\"\n",
    ")\n",
    "\n",
    "print(next(results))"
   ]
  },
  {
   "cell_type": "code",
   "execution_count": 32,
   "id": "00b0ed2b",
   "metadata": {
    "scrolled": true
   },
   "outputs": [
    {
     "name": "stdout",
     "output_type": "stream",
     "text": [
      "{'total_number_of_characters': 289}\n"
     ]
    }
   ],
   "source": [
    "results = memgraph.execute_and_fetch(\n",
    "    \"\"\"\n",
    "    MATCH (c:Character)\n",
    "    RETURN count(c) AS total_number_of_characters;\n",
    "    \"\"\"\n",
    ")\n",
    "\n",
    "print(next(results))"
   ]
  },
  {
   "cell_type": "code",
   "execution_count": 33,
   "id": "73cb2352",
   "metadata": {
    "scrolled": true
   },
   "outputs": [
    {
     "name": "stdout",
     "output_type": "stream",
     "text": [
      "{'total_number_of_seasons': 8}\n"
     ]
    }
   ],
   "source": [
    "results = memgraph.execute_and_fetch(\n",
    "    \"\"\"\n",
    "    MATCH (s:Season)\n",
    "    RETURN count(s) AS total_number_of_seasons;\n",
    "    \"\"\"\n",
    ")\n",
    "\n",
    "print(next(results))"
   ]
  },
  {
   "cell_type": "code",
   "execution_count": 83,
   "id": "7f900509",
   "metadata": {},
   "outputs": [],
   "source": [
    "season_1 = ['Winter Is Coming ', 'The Kingsroad ', 'Lord Snow', \n",
    "            'Cripples Bastards and Broken Things ', 'The Wolf and the Lion ', \n",
    "            'A Golden Crown ', 'You Win or You Die', 'The Pointy End ', \n",
    "            'Baelor ', 'Fire and Blood']"
   ]
  },
  {
   "cell_type": "code",
   "execution_count": 84,
   "id": "0ac76325",
   "metadata": {},
   "outputs": [],
   "source": [
    "set_season_1 = set(season_1)"
   ]
  },
  {
   "cell_type": "code",
   "execution_count": 117,
   "id": "c09f3fdd",
   "metadata": {},
   "outputs": [
    {
     "name": "stdout",
     "output_type": "stream",
     "text": [
      "['Lord Snow']\n"
     ]
    }
   ],
   "source": [
    "season_1 = ['Winter Is Coming ', 'The Kingsroad ', 'Lord Snow', \n",
    "            'Cripples Bastards and Broken Things ', 'The Wolf and the Lion ', \n",
    "            'A Golden Crown ', 'You Win or You Die', 'The Pointy End ', \n",
    "            'Baelor ', 'Fire and Blood']\n",
    "\n",
    "set_season_1 = set(season_1)\n",
    "\n",
    "results = memgraph.execute_and_fetch(\n",
    "    \"\"\"\n",
    "    MATCH (e:Episode)-[p:PART_OF]->(s:Season {number: 1})\n",
    "    RETURN e;\n",
    "    \"\"\"\n",
    ")\n",
    "\n",
    "season_1_deaths = []\n",
    "\n",
    "for result in results:\n",
    "    season_1_deaths.append(result[\"e\"].name)\n",
    "\n",
    "set_season_1_deaths = set(season_1_deaths)\n",
    "missing = list(sorted(set_season_1 - set_season_1_deaths))\n",
    "print(missing)"
   ]
  },
  {
   "cell_type": "code",
   "execution_count": 86,
   "id": "24ac5f11",
   "metadata": {},
   "outputs": [],
   "source": [
    "set_season_1_deaths = set(season_1_deaths)"
   ]
  },
  {
   "cell_type": "code",
   "execution_count": 87,
   "id": "62ef464a",
   "metadata": {
    "scrolled": false
   },
   "outputs": [
    {
     "name": "stdout",
     "output_type": "stream",
     "text": [
      "['Lord Snow']\n"
     ]
    }
   ],
   "source": [
    "missing = list(sorted(set_season_1 - set_season_1_deaths))\n",
    "print(missing)"
   ]
  },
  {
   "cell_type": "code",
   "execution_count": 76,
   "id": "344f1785",
   "metadata": {},
   "outputs": [],
   "source": [
    "season_2 = [\"The North Remembers\", \"The Night Lands \", \"What Is Dead May Never Die\", \"Garden of Bones\", \"The Ghost of Harrenhal \", \"The Old Gods and the New\", \"A Man Without Honor\", \"The Prince of Winterfell\", \"Blackwater \", \"Valar Morghulis \"]"
   ]
  },
  {
   "cell_type": "code",
   "execution_count": 77,
   "id": "9ddfb26e",
   "metadata": {},
   "outputs": [],
   "source": [
    "set_season_2 = set(season_2)"
   ]
  },
  {
   "cell_type": "code",
   "execution_count": 70,
   "id": "2d80ea5e",
   "metadata": {
    "scrolled": true
   },
   "outputs": [
    {
     "name": "stdout",
     "output_type": "stream",
     "text": [
      "['The North Remembers', 'The Night Lands ', 'What Is Dead May Never Die', 'Garden of Bones', 'The Ghost of Harrenhal ', 'The Old Gods and the New', 'A Man Without Honor', 'Blackwater ', 'Valar Morghulis ']\n"
     ]
    }
   ],
   "source": [
    "results = memgraph.execute_and_fetch(\n",
    "    \"\"\"\n",
    "    MATCH (e:Episode)-[p:PART_OF]->(s:Season {number: 2})\n",
    "    RETURN e;\n",
    "    \"\"\"\n",
    ")\n",
    "season_2_deaths = []\n",
    "for result in results:\n",
    "    season_2_deaths.append(result[\"e\"].name)\n",
    "\n",
    "print(season_2_deaths)"
   ]
  },
  {
   "cell_type": "code",
   "execution_count": 74,
   "id": "34fe1ff4",
   "metadata": {},
   "outputs": [],
   "source": [
    "set_season_2_deaths = set(season_2_deaths)"
   ]
  },
  {
   "cell_type": "code",
   "execution_count": 78,
   "id": "1896d619",
   "metadata": {},
   "outputs": [
    {
     "name": "stdout",
     "output_type": "stream",
     "text": [
      "['The Prince of Winterfell']\n"
     ]
    }
   ],
   "source": [
    "missing_2 = list(sorted(set_season_2 - set_season_2_deaths))\n",
    "print(missing_2)"
   ]
  },
  {
   "cell_type": "code",
   "execution_count": 93,
   "id": "9b67feb6",
   "metadata": {},
   "outputs": [],
   "source": [
    "season_3 = [\"Valar Dohaeris \", \"Dark Wings Dark Words \", \"Walk of Punishment \", \"And Now His Watch Is Ended \", \"Kissed by Fire\", \"The Climb \", \"The Bear and the Maiden Fair\", \"Second Sons \", \"The Rains of Castamere\", \"Mhysa \"]"
   ]
  },
  {
   "cell_type": "code",
   "execution_count": 94,
   "id": "a6cbadd1",
   "metadata": {},
   "outputs": [],
   "source": [
    "set_season_3 = set(season_3)"
   ]
  },
  {
   "cell_type": "code",
   "execution_count": 90,
   "id": "69ecd065",
   "metadata": {},
   "outputs": [
    {
     "name": "stdout",
     "output_type": "stream",
     "text": [
      "['Valar Dohaeris ', 'Dark Wings Dark Words ', 'Walk of Punishment ', 'And Now His Watch Is Ended ', 'Kissed by Fire', 'The Climb ', 'Second Sons ', 'The Rains of Castamere', 'Mhysa ']\n"
     ]
    }
   ],
   "source": [
    "results = memgraph.execute_and_fetch(\n",
    "    \"\"\"\n",
    "    MATCH (e:Episode)-[p:PART_OF]->(s:Season {number: 3})\n",
    "    RETURN e;\n",
    "    \"\"\"\n",
    ")\n",
    "season_3_deaths = []\n",
    "for result in results:\n",
    "    season_3_deaths.append(result[\"e\"].name)\n",
    "\n",
    "print(season_3_deaths)"
   ]
  },
  {
   "cell_type": "code",
   "execution_count": 91,
   "id": "308f2045",
   "metadata": {},
   "outputs": [],
   "source": [
    "set_season_3_deaths = set(season_3_deaths)"
   ]
  },
  {
   "cell_type": "code",
   "execution_count": 95,
   "id": "3643c275",
   "metadata": {},
   "outputs": [
    {
     "name": "stdout",
     "output_type": "stream",
     "text": [
      "['The Bear and the Maiden Fair']\n"
     ]
    }
   ],
   "source": [
    "missing_3 = list(sorted(set_season_3 - set_season_3_deaths))\n",
    "print(missing_3)"
   ]
  },
  {
   "cell_type": "code",
   "execution_count": 99,
   "id": "d8c84d59",
   "metadata": {},
   "outputs": [],
   "source": [
    "season_6 = [\"The Red Woman \", \"Home \", \"Oathbreaker \", \"Book of the Stranger \", \"The Door \", \"Blood of My Blood\", \"The Broken Man \", \"No One\", \"Battle of the Bastards\", \"The Winds of Winter\"]"
   ]
  },
  {
   "cell_type": "code",
   "execution_count": 100,
   "id": "d1463aa8",
   "metadata": {},
   "outputs": [],
   "source": [
    "set_season_6 = set(season_6)"
   ]
  },
  {
   "cell_type": "code",
   "execution_count": 98,
   "id": "f8b5beb8",
   "metadata": {},
   "outputs": [
    {
     "name": "stdout",
     "output_type": "stream",
     "text": [
      "['The Red Woman ', 'Home ', 'Oathbreaker ', 'Book of the Stranger ', 'The Door ', 'The Broken Man ', 'No One', 'Battle of the Bastards', 'The Winds of Winter']\n"
     ]
    }
   ],
   "source": [
    "results = memgraph.execute_and_fetch(\n",
    "    \"\"\"\n",
    "    MATCH (e:Episode)-[p:PART_OF]->(s:Season {number: 6})\n",
    "    RETURN e;\n",
    "    \"\"\"\n",
    ")\n",
    "season_6_deaths = []\n",
    "for result in results:\n",
    "    season_6_deaths.append(result[\"e\"].name)\n",
    "\n",
    "print(season_6_deaths)"
   ]
  },
  {
   "cell_type": "code",
   "execution_count": 101,
   "id": "7460da2e",
   "metadata": {},
   "outputs": [],
   "source": [
    "set_season_6_deaths = set(season_6_deaths)"
   ]
  },
  {
   "cell_type": "code",
   "execution_count": 102,
   "id": "79c5009c",
   "metadata": {
    "scrolled": true
   },
   "outputs": [
    {
     "name": "stdout",
     "output_type": "stream",
     "text": [
      "['Blood of My Blood']\n"
     ]
    }
   ],
   "source": [
    "missing_6 = list(sorted(set_season_6 - set_season_6_deaths))\n",
    "print(missing_6)"
   ]
  },
  {
   "cell_type": "code",
   "execution_count": 108,
   "id": "44dddee8",
   "metadata": {
    "scrolled": true
   },
   "outputs": [
    {
     "name": "stdout",
     "output_type": "stream",
     "text": [
      "Character: Dothraki man | Method: Arakh\n",
      "Character: Sandor the Hound Clegane | Method: Dragonfire (Dragon)\n",
      "Character: Melisandre the Red Woman of Asshai | Method: Old Age\n",
      "Character: Bolton soldier | Method: Arrow\n",
      "Character: Jaqen Hghar | Method: Poison\n",
      "Character: Peasant | Method: Poison\n",
      "Character: Greyjoy Soldier | Method: Sword\n",
      "Character: Greyjoy Soldier | Method: Axe\n",
      "Character: Greyjoy Soldier | Method: Mace\n",
      "Character: Greyjoy Soldier | Method: Knife\n",
      "Character: Tommen Baratheon | Method: Falling\n",
      "Character: Sons of the Harpy agent | Method: Sword\n",
      "Character: Aemon Targaryen | Method: Old Age\n",
      "Character: Gladiator | Method: Sword\n",
      "Character: Gladiator | Method: Spear\n",
      "Character: Selyse Florent | Method: Rope\n"
     ]
    }
   ],
   "source": [
    "results = memgraph.execute_and_fetch(\n",
    "    \"\"\"\n",
    "    MATCH (c:Character)-[k:KILLED]->(d:Character)\n",
    "    WHERE c = d\n",
    "    RETURN c, k;\n",
    "    \"\"\"\n",
    ")\n",
    "\n",
    "for result in results:\n",
    "    print(\"Character:\", result[\"c\"].name, \"| Method:\", result[\"k\"].method)"
   ]
  },
  {
   "cell_type": "code",
   "execution_count": 109,
   "id": "b2dfa57d",
   "metadata": {},
   "outputs": [
    {
     "name": "stdout",
     "output_type": "stream",
     "text": [
      "Character: Melisandre the Red Woman of Asshai\n",
      "Character: Aemon Targaryen\n"
     ]
    }
   ],
   "source": [
    "results = memgraph.execute_and_fetch(\n",
    "    \"\"\"\n",
    "    MATCH (c:Character)-[k:KILLED {method: 'Old Age'}]->(d:Character)\n",
    "    WHERE c = d\n",
    "    RETURN c;\n",
    "    \"\"\"\n",
    ")\n",
    "\n",
    "for result in results:\n",
    "    print(\"Character:\", result[\"c\"].name)"
   ]
  },
  {
   "cell_type": "code",
   "execution_count": 116,
   "id": "499f7f63",
   "metadata": {},
   "outputs": [
    {
     "name": "stdout",
     "output_type": "stream",
     "text": [
      "Season: 1 Number of episodes: 9\n",
      "Season: 2 Number of episodes: 9\n",
      "Season: 3 Number of episodes: 9\n",
      "Season: 4 Number of episodes: 10\n",
      "Season: 5 Number of episodes: 10\n",
      "Season: 6 Number of episodes: 9\n",
      "Season: 7 Number of episodes: 7\n",
      "Season: 8 Number of episodes: 6\n"
     ]
    }
   ],
   "source": [
    "results = memgraph.execute_and_fetch(\n",
    "    \"\"\"\n",
    "    MATCH (e:Episode)-[:PART_OF]->(s:Season)\n",
    "    RETURN s, collect(e) AS episodes\n",
    "    ORDER BY s.number;\n",
    "    \"\"\"\n",
    ")\n",
    "\n",
    "for result in results:\n",
    "    print(\"Season:\", result[\"s\"].number, \"Number of episodes:\", len(result[\"episodes\"]))"
   ]
  },
  {
   "cell_type": "code",
   "execution_count": 119,
   "id": "bc80f5ee",
   "metadata": {},
   "outputs": [
    {
     "name": "stdout",
     "output_type": "stream",
     "text": [
      "Manticore\n"
     ]
    }
   ],
   "source": [
    "results = memgraph.execute_and_fetch(\n",
    "    \"\"\"\n",
    "    MATCH (c:Character)-[v:VICTIM_IN]->(d:Death)\n",
    "    -[:HAPPENED_IN]->(e:Episode {number: 1})\n",
    "    -[p:PART_OF]->(s:Season {number: 3})\n",
    "    RETURN c;\n",
    "    \"\"\"\n",
    ")\n",
    "\n",
    "print(next(results)[\"c\"].name)"
   ]
  },
  {
   "cell_type": "code",
   "execution_count": 120,
   "id": "f3eba381",
   "metadata": {},
   "outputs": [
    {
     "name": "stdout",
     "output_type": "stream",
     "text": [
      "Hoster Tully\n"
     ]
    }
   ],
   "source": [
    "results = memgraph.execute_and_fetch(\n",
    "    \"\"\"\n",
    "    MATCH (c:Character)-[v:VICTIM_IN]->(d:Death)\n",
    "    -[:HAPPENED_IN]->(e:Episode {number: 2})\n",
    "    -[p:PART_OF]->(s:Season {number: 3})\n",
    "    RETURN c;\n",
    "    \"\"\"\n",
    ")\n",
    "\n",
    "print(next(results)[\"c\"].name)"
   ]
  },
  {
   "cell_type": "code",
   "execution_count": 121,
   "id": "9dc74403",
   "metadata": {},
   "outputs": [
    {
     "name": "stdout",
     "output_type": "stream",
     "text": [
      "Ned Umber\n"
     ]
    }
   ],
   "source": [
    "results = memgraph.execute_and_fetch(\n",
    "    \"\"\"\n",
    "    MATCH (c:Character)-[v:VICTIM_IN]->(d:Death)\n",
    "    -[:HAPPENED_IN]->(e:Episode {number: 2})\n",
    "    -[p:PART_OF]->(s:Season {number: 8})\n",
    "    RETURN c;\n",
    "    \"\"\"\n",
    ")\n",
    "\n",
    "print(next(results)[\"c\"].name)"
   ]
  },
  {
   "cell_type": "markdown",
   "id": "64f36421",
   "metadata": {},
   "source": [
    "List the locations where most deaths occurred:"
   ]
  },
  {
   "cell_type": "code",
   "execution_count": 123,
   "id": "8b713289",
   "metadata": {},
   "outputs": [
    {
     "name": "stdout",
     "output_type": "stream",
     "text": [
      "Kings Landing 1170\n",
      "Roseroad 207\n",
      "Winterfell 169\n",
      "Meereen 136\n",
      "The Twins 89\n",
      "Beyond the Wall 78\n",
      "Castle Black 66\n",
      "The Narrow Sea 35\n",
      "Riverlands 28\n",
      "The Wall 26\n"
     ]
    }
   ],
   "source": [
    "results = memgraph.execute_and_fetch(\n",
    "    \"\"\"\n",
    "    MATCH (l:Location)<-[:HAPPENED_IN]-(d:Death)\n",
    "    RETURN l AS location, count(d) AS death_count\n",
    "    ORDER BY death_count DESC\n",
    "    LIMIT 10;\n",
    "    \"\"\"\n",
    ")\n",
    "\n",
    "for result in results:\n",
    "    print(result[\"location\"].name, result[\"death_count\"])\n"
   ]
  },
  {
   "cell_type": "code",
   "execution_count": 126,
   "id": "085a95d5",
   "metadata": {},
   "outputs": [
    {
     "name": "stdout",
     "output_type": "stream",
     "text": [
      "The Bells  844\n",
      "The Spoils of War  205\n",
      "The Winds of Winter 203\n",
      "Battle of the Bastards 133\n",
      "The Watchers on the Wall  86\n",
      "Blackwater  72\n",
      "The Dance of Dragons 58\n",
      "Dragonstone  54\n",
      "Sons of the Harpy 48\n",
      "The Rains of Castamere 45\n"
     ]
    }
   ],
   "source": [
    "results = memgraph.execute_and_fetch(\n",
    "    \"\"\"\n",
    "    MATCH (d:Death)-[:HAPPENED_IN]->(e:Episode)\n",
    "    RETURN e AS episode, count(d) AS death_count\n",
    "    ORDER BY death_count DESC\n",
    "    LIMIT 10;\n",
    "    \"\"\"\n",
    ")\n",
    "\n",
    "for result in results:\n",
    "    print(result[\"episode\"].name, result[\"death_count\"])\n"
   ]
  },
  {
   "cell_type": "code",
   "execution_count": 131,
   "id": "a772004e",
   "metadata": {},
   "outputs": [
    {
     "name": "stdout",
     "output_type": "stream",
     "text": [
      "8 892\n",
      "6 396\n",
      "7 334\n",
      "4 170\n",
      "5 158\n",
      "2 130\n",
      "3 86\n",
      "1 58\n"
     ]
    }
   ],
   "source": [
    "results = memgraph.execute_and_fetch(\n",
    "    \"\"\"\n",
    "    MATCH (d:Death)-[:HAPPENED_IN]->(s:Season)\n",
    "    RETURN s AS season, count(d) AS death_count\n",
    "    ORDER BY death_count DESC;\n",
    "    \"\"\"\n",
    ")\n",
    "\n",
    "for result in results:\n",
    "    print(result[\"season\"].number, result[\"death_count\"])\n"
   ]
  },
  {
   "cell_type": "code",
   "execution_count": 136,
   "id": "b2e7f25a",
   "metadata": {},
   "outputs": [
    {
     "name": "stdout",
     "output_type": "stream",
     "text": [
      "Season: 4 | Rating: 9.31\n",
      "Season: 1 | Rating: 9.14\n",
      "Season: 6 | Rating: 9.13\n",
      "Season: 7 | Rating: 9.1\n",
      "Season: 3 | Rating: 9.09\n",
      "Season: 2 | Rating: 8.98\n",
      "Season: 5 | Rating: 8.83\n",
      "Season: 8 | Rating: 6.38\n"
     ]
    }
   ],
   "source": [
    "results = memgraph.execute_and_fetch(\n",
    "    \"\"\"\n",
    "    MATCH (e:Episode)-[:PART_OF]->(s:Season)\n",
    "    RETURN s AS season, round(100 * avg(e.imdb_rating))/100 AS rating\n",
    "    ORDER BY rating DESC;\n",
    "    \"\"\"\n",
    ")\n",
    "\n",
    "for result in results:\n",
    "    print(\"Season:\", result[\"season\"].number, \"| Rating:\", result[\"rating\"])"
   ]
  },
  {
   "cell_type": "code",
   "execution_count": 141,
   "id": "3a82e3f4",
   "metadata": {},
   "outputs": [
    {
     "name": "stdout",
     "output_type": "stream",
     "text": [
      "Allegiance: White Walkers | Kills: 205 | Deaths: 5 | KDR: 41.0\n",
      "Allegiance: Warlocks of Qarth | Kills: 11 | Deaths: 1 | KDR: 11.0\n",
      "Allegiance: House Clegane | Kills: 54 | Deaths: 5 | KDR: 10.8\n",
      "Allegiance: House Targaryen | Kills: 1329 | Deaths: 151 | KDR: 8.8\n",
      "Allegiance: Lord of Light | Kills: 7 | Deaths: 1 | KDR: 7.0\n",
      "Allegiance: House Umber | Kills: 7 | Deaths: 2 | KDR: 3.5\n",
      "Allegiance: Faceless Men | Kills: 3 | Deaths: 1 | KDR: 3.0\n",
      "Allegiance: House Baratheon of Kings Landing | Kills: 194 | Deaths: 66 | KDR: 2.94\n",
      "Allegiance: Nights Watch | Kills: 394 | Deaths: 143 | KDR: 2.76\n",
      "Allegiance: Sand Snakes | Kills: 8 | Deaths: 3 | KDR: 2.67\n"
     ]
    }
   ],
   "source": [
    "results = memgraph.execute_and_fetch(\n",
    "    \"\"\"\n",
    "    MATCH (:Character)-[death:KILLED]->(:Character)-[:LOYAL_TO]->(a:Allegiance)\n",
    "    WITH a, sum(death.count) AS deaths\n",
    "    MATCH (:Character)<-[kill:KILLED]-(:Character)-[:LOYAL_TO]->(a)\n",
    "    RETURN a AS allegiance,\n",
    "           sum(kill.count) AS kills,\n",
    "           deaths,\n",
    "           round(100 *(tofloat(sum(kill.count))/deaths))/100 AS KDR\n",
    "    ORDER BY KDR DESC\n",
    "    LIMIT 10;\n",
    "    \"\"\"\n",
    ")\n",
    "\n",
    "for result in results:\n",
    "    print(\"Allegiance:\", result[\"allegiance\"].name, \"| Kills:\", result[\"kills\"], \n",
    "          \"| Deaths:\", result[\"deaths\"], \"| KDR:\", result[\"KDR\"])"
   ]
  },
  {
   "cell_type": "code",
   "execution_count": 145,
   "id": "252c2c60",
   "metadata": {},
   "outputs": [
    {
     "name": "stdout",
     "output_type": "stream",
     "text": [
      "Allegiance: House Bolton | Deaths: 49\n",
      "Allegiance: House Stark | Deaths: 42\n"
     ]
    }
   ],
   "source": [
    "results = memgraph.execute_and_fetch(\n",
    "    \"\"\"\n",
    "    MATCH (c:Character)-[:LOYAL_TO]->(a:Allegiance)\n",
    "    MATCH (c)-[:VICTIM_IN]-(d:Death)-[:HAPPENED_IN]-(:Episode {name: 'Battle of the Bastards'})\n",
    "    RETURN a AS house, count(d) AS death_count\n",
    "    ORDER BY death_count DESC\n",
    "    LIMIT 2;\n",
    "    \"\"\"\n",
    ")\n",
    "\n",
    "for result in results:\n",
    "    print(\"Allegiance:\", result[\"house\"].name, \"| Deaths:\", result[\"death_count\"])"
   ]
  },
  {
   "cell_type": "code",
   "execution_count": 148,
   "id": "0161a57e",
   "metadata": {
    "scrolled": true
   },
   "outputs": [
    {
     "name": "stdout",
     "output_type": "stream",
     "text": [
      "Victim: Golden Company soldier | Kill Count: 374 | Episode name: The Bells \n",
      "Victim: Kings Landing Citizen | Kill Count: 227 | Episode name: The Bells \n",
      "Victim: Lannister soldier | Kill Count: 178 | Episode name: The Spoils of War \n",
      "Victim: Lannister soldier | Kill Count: 166 | Episode name: The Bells \n",
      "Victim: Sons of the Harpy agent | Kill Count: 54 | Episode name: The Dance of Dragons\n",
      "Victim: Dothraki Khal | Kill Count: 14 | Episode name: Book of the Stranger \n",
      "Victim: The Masters Soldier | Kill Count: 12 | Episode name: Battle of the Bastards\n",
      "Victim: Greyjoy Soldier | Kill Count: 2 | Episode name: The Bells \n",
      "Victim: Horse | Kill Count: 2 | Episode name: The Spoils of War \n",
      "Victim: Xaro Xhoan Daxos | Kill Count: 1 | Episode name: Valar Morghulis \n",
      "Victim: Khal Moro | Kill Count: 1 | Episode name: Book of the Stranger \n",
      "Victim: Golden Company horse | Kill Count: 1 | Episode name: The Bells \n",
      "Victim: Pyat Pree | Kill Count: 1 | Episode name: Valar Morghulis \n",
      "Victim: Zalla | Kill Count: 1 | Episode name: The Children \n",
      "Victim: Kraznys mo Nakloz | Kill Count: 1 | Episode name: And Now His Watch Is Ended \n",
      "Victim: Varys | Kill Count: 1 | Episode name: The Bells \n",
      "Victim: Doreah | Kill Count: 1 | Episode name: Valar Morghulis \n",
      "Victim: Cersei Lannister | Kill Count: 1 | Episode name: The Bells \n",
      "Victim: Goat | Kill Count: 1 | Episode name: The Laws of Gods and Men \n",
      "Victim: Mirri Maz Duur | Kill Count: 1 | Episode name: Fire and Blood\n",
      "Victim: Khal Drogo | Kill Count: 1 | Episode name: Fire and Blood\n",
      "Victim: Dickon Tarly | Kill Count: 1 | Episode name: Eastwatch\n",
      "Victim: Randyll Tarly | Kill Count: 1 | Episode name: Eastwatch\n",
      "Victim: Jaime Lannister | Kill Count: 1 | Episode name: The Bells \n"
     ]
    }
   ],
   "source": [
    "results = memgraph.execute_and_fetch(\n",
    "    \"\"\"\n",
    "    MATCH (daenerys:Character {name: 'Daenerys Targaryen'})-[:KILLED]->(victim:Character)\n",
    "    MATCH (daenerys)-[:KILLER_IN]->(d:Death)<-[:VICTIM_IN]-(victim)\n",
    "    MATCH (d)-[:HAPPENED_IN]-(e:Episode)\n",
    "    RETURN DISTINCT victim, count(d) AS kill_count, e AS episode\n",
    "    ORDER BY kill_count DESC;\n",
    "    \"\"\"\n",
    ")\n",
    "\n",
    "for result in results:\n",
    "    print(\"Victim:\", result[\"victim\"].name, \"| Kill Count:\", result[\"kill_count\"]\n",
    "          , \"| Episode name:\", result[\"episode\"].name)"
   ]
  },
  {
   "cell_type": "code",
   "execution_count": 150,
   "id": "7431f497",
   "metadata": {
    "scrolled": true
   },
   "outputs": [
    {
     "name": "stdout",
     "output_type": "stream",
     "text": [
      "Episode: The Bells  | Rank: 0.043164724601018695\n",
      "Episode: The Winds of Winter | Rank: 0.010801371244279762\n",
      "Episode: The Spoils of War  | Rank: 0.010652824071617746\n",
      "Episode: Battle of the Bastards | Rank: 0.007326424536668109\n",
      "Episode: The Watchers on the Wall  | Rank: 0.004888653411156207\n",
      "Episode: Blackwater  | Rank: 0.0040451560244256475\n",
      "Episode: The Dance of Dragons | Rank: 0.003304325314698726\n",
      "Episode: Dragonstone  | Rank: 0.002979021268992005\n",
      "Episode: Sons of the Harpy | Rank: 0.002835536547706026\n",
      "Episode: The Rains of Castamere | Rank: 0.002811794141977363\n"
     ]
    }
   ],
   "source": [
    "results = memgraph.execute_and_fetch(\n",
    "    \"\"\"\n",
    "    CALL pagerank.get()\n",
    "    YIELD *\n",
    "    WITH node, rank\n",
    "    WHERE node:Episode\n",
    "    RETURN node, rank\n",
    "    ORDER BY rank DESC\n",
    "    LIMIT 10;\n",
    "    \"\"\"\n",
    ")\n",
    "\n",
    "for result in results:\n",
    "    print(\"Episode:\", result[\"node\"].name, \"| Rank:\", result[\"rank\"])"
   ]
  },
  {
   "cell_type": "code",
   "execution_count": 151,
   "id": "e0752e79",
   "metadata": {
    "scrolled": true
   },
   "outputs": [
    {
     "name": "stdout",
     "output_type": "stream",
     "text": [
      "Episode: Kings Landing | Rank: 0.06106011381918924\n",
      "Episode: Roseroad | Rank: 0.010786290904476399\n",
      "Episode: Winterfell | Rank: 0.009650604216610618\n",
      "Episode: Meereen | Rank: 0.007653449136907163\n",
      "Episode: The Twins | Rank: 0.005029859049634092\n",
      "Episode: Beyond the Wall | Rank: 0.0048574484597048535\n",
      "Episode: Castle Black | Rank: 0.003955983097311168\n",
      "Episode: The Narrow Sea | Rank: 0.0021040262793516795\n",
      "Episode: Riverlands | Rank: 0.0019043870463720024\n",
      "Episode: The Wall | Rank: 0.001583596860766157\n"
     ]
    }
   ],
   "source": [
    "results = memgraph.execute_and_fetch(\n",
    "    \"\"\"\n",
    "    CALL pagerank.get()\n",
    "    YIELD *\n",
    "    WITH node, rank\n",
    "    WHERE node:Location\n",
    "    RETURN node, rank\n",
    "    ORDER BY rank DESC\n",
    "    LIMIT 10;\n",
    "    \"\"\"\n",
    ")\n",
    "\n",
    "for result in results:\n",
    "    print(\"Episode:\", result[\"node\"].name, \"| Rank:\", result[\"rank\"])"
   ]
  },
  {
   "cell_type": "code",
   "execution_count": 152,
   "id": "01a8bc91",
   "metadata": {},
   "outputs": [
    {
     "name": "stdout",
     "output_type": "stream",
     "text": [
      "Victim: Bolton soldier | Kill count: 20\n",
      "Victim: Lannister soldier | Kill count: 7\n",
      "Victim: Daenerys Targaryen | Kill count: 1\n",
      "Victim: Olly | Kill count: 1\n",
      "Victim: Stark Soldier | Kill count: 1\n",
      "Victim: Alliser Thorne | Kill count: 1\n",
      "Victim: Othell Yarwyck | Kill count: 1\n",
      "Victim: Bowen Marsh | Kill count: 1\n"
     ]
    }
   ],
   "source": [
    "results = memgraph.execute_and_fetch(\n",
    "    \"\"\"\n",
    "    MATCH (jon:Character {name: 'Jon Snow'})-[:KILLED]->(victim:Character)\n",
    "    MATCH (jon)-[:VICTIM_IN]->(jon_death:Death)\n",
    "    MATCH (jon)-[:KILLER_IN]->(victim_death:Death)<-[:VICTIM_IN]-(victim)\n",
    "    WHERE victim_death.order > jon_death.order\n",
    "    RETURN DISTINCT victim, count(victim_death) AS kill_count\n",
    "    ORDER BY kill_count DESC;\n",
    "    \"\"\"\n",
    ")\n",
    "\n",
    "for result in results:\n",
    "    print(\"Victim:\", result[\"victim\"].name, \"| Kill count:\", result[\"kill_count\"])\n",
    "\n",
    "\n"
   ]
  },
  {
   "cell_type": "code",
   "execution_count": 159,
   "id": "85125dab",
   "metadata": {},
   "outputs": [
    {
     "name": "stdout",
     "output_type": "stream",
     "text": [
      "Olly killed Jon Snow and Jon Snow killed Olly\n"
     ]
    }
   ],
   "source": [
    "results = memgraph.execute_and_fetch(\n",
    "    \"\"\"\n",
    "    MATCH (jon:Character {name: 'Jon Snow'})-[v:VICTIM_IN]\n",
    "    ->(d:Death)<-[k:KILLER_IN]-(c:Character)\n",
    "    WITH jon, v, d, k, c\n",
    "    MATCH (c)-[v2:VICTIM_IN]->(d2:Death)<-[k2:KILLER_IN]-(c2:Character)\n",
    "    RETURN c, jon;\n",
    "    \"\"\"\n",
    ")\n",
    "\n",
    "for result in results:\n",
    "    print(result[\"c\"].name, \"killed\", result[\"jon\"].name, \"and\", \n",
    "          result[\"jon\"].name, \"killed\", result[\"c\"].name)"
   ]
  },
  {
   "cell_type": "code",
   "execution_count": 164,
   "id": "6824c25b",
   "metadata": {
    "scrolled": true
   },
   "outputs": [
    {
     "name": "stdout",
     "output_type": "stream",
     "text": [
      "Traitor: Jon Snow | Kill count: 9\n",
      "Traitor: Ramsay Bolton | Kill count: 4\n",
      "Traitor: Theon Greyjoy | Kill count: 4\n",
      "Traitor: Sandor the Hound Clegane | Kill count: 3\n",
      "Traitor: Reek | Kill count: 2\n",
      "Traitor: Euron Greyjoy | Kill count: 2\n",
      "Traitor: Daario Naharis | Kill count: 2\n",
      "Traitor: Gregor the Mountain Clegane | Kill count: 2\n",
      "Traitor: Daenerys Targaryen | Kill count: 2\n",
      "Traitor: Tyrion Lannister | Kill count: 2\n"
     ]
    }
   ],
   "source": [
    "results = memgraph.execute_and_fetch(\n",
    "    \"\"\"\n",
    "    MATCH (killer:Character)-[:KILLED]->(victim:Character)\n",
    "    MATCH (killer)-[:LOYAL_TO]->(a:Allegiance)<-[:LOYAL_TO]-(victim)\n",
    "    RETURN killer AS traitor, count(victim) AS kill_count\n",
    "    ORDER BY kill_count DESC\n",
    "    LIMIT 10;\n",
    "    \"\"\"\n",
    ")\n",
    "\n",
    "for result in results:\n",
    "    print(\"Traitor:\", result[\"traitor\"].name, \"| Kill count:\", result[\"kill_count\"])"
   ]
  },
  {
   "cell_type": "code",
   "execution_count": 168,
   "id": "04953863",
   "metadata": {},
   "outputs": [
    {
     "name": "stdout",
     "output_type": "stream",
     "text": [
      "Olly\n",
      "Jon Snow\n",
      "Daenerys Targaryen\n",
      "Golden Company soldier\n"
     ]
    }
   ],
   "source": [
    "results = memgraph.execute_and_fetch(\n",
    "    \"\"\"\n",
    "    MATCH p = (:Character)-[:KILLED * wShortest (e,v | e.count) kill_count]->(:Character)\n",
    "    RETURN nodes(p) AS kill_list, kill_count\n",
    "    ORDER BY kill_count DESC\n",
    "    LIMIT 1;\n",
    "    \"\"\"\n",
    ")\n",
    "\n",
    "for result in results:\n",
    "    for kill in result[\"kill_list\"]:\n",
    "        print(kill.properties[\"name\"])"
   ]
  },
  {
   "cell_type": "code",
   "execution_count": 171,
   "id": "afc29877",
   "metadata": {},
   "outputs": [
    {
     "name": "stdout",
     "output_type": "stream",
     "text": [
      "Daenerys Targaryen | BC: 0.26416716859707723\n",
      "Lannister soldier | BC: 0.11163138590238252\n",
      "Sons of the Harpy agent | BC: 0.04326120746568803\n",
      "Jon Snow | BC: 0.04152733973021268\n",
      "Wildling | BC: 0.03782396045716543\n",
      "Stark Soldier | BC: 0.028609456095599388\n",
      "Baratheon of Dragonstone soldier | BC: 0.027533816622595363\n",
      "Cersei Lannister | BC: 0.026445092829209992\n",
      "Stark soldier | BC: 0.024328184592014475\n",
      "Nights Watch brother | BC: 0.022719177729567427\n"
     ]
    }
   ],
   "source": [
    "results = memgraph.execute_and_fetch(\n",
    "    \"\"\"\n",
    "    CALL betweenness_centrality.get(False)\n",
    "    YIELD node, betweenness_centrality\n",
    "    WITH node, betweenness_centrality\n",
    "    WHERE 'Character' IN labels(node)\n",
    "    RETURN node, betweenness_centrality\n",
    "    ORDER BY betweenness_centrality DESC\n",
    "    LIMIT 10;\n",
    "    \"\"\"\n",
    ")\n",
    "\n",
    "for result in results:\n",
    "    print(result[\"node\"].name, \"| BC:\", result[\"betweenness_centrality\"])"
   ]
  }
 ],
 "metadata": {
  "kernelspec": {
   "display_name": "Python 3 (ipykernel)",
   "language": "python",
   "name": "python3"
  },
  "language_info": {
   "codemirror_mode": {
    "name": "ipython",
    "version": 3
   },
   "file_extension": ".py",
   "mimetype": "text/x-python",
   "name": "python",
   "nbconvert_exporter": "python",
   "pygments_lexer": "ipython3",
   "version": "3.9.10"
  }
 },
 "nbformat": 4,
 "nbformat_minor": 5
}
