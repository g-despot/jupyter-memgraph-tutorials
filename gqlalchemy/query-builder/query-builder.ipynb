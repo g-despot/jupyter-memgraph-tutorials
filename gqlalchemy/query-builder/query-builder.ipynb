{
 "cells": [
  {
   "cell_type": "markdown",
   "id": "1ff8bf62",
   "metadata": {},
   "source": [
    "# How to use GQLAlchemy query builder? \n",
    "\n",
    "**GQLAlchemy query builder** will help you build Cypher queries in no time! With this blog post, you will learn how to use different query builder methods to create, change, get, set, and remove data from Memgraph.\n",
    "\n",
    "## Set everything up\n",
    "\n",
    "If you want to try the code from this blog post, make sure to install [Docker](https://docs.docker.com/get-docker/) and [GQLAlchemy](https://pypi.org/project/gqlalchemy/). Docker is used because **Memgraph** is a native Linux application and can't be installed on Windows and macOS. After you install Docker, you can set up Memgraph by running:\n",
    "\n",
    "```\n",
    "docker run -it -p 7687:7687 -p 3000:3000 memgraph/memgraph-platform\n",
    "```\n",
    "\n",
    "This command will start the download and after it finishes, run the Memgraph container.\n",
    "\n",
    "We will be using the **GQLAlchemy** object graph mapper (OGM) to connect to Memgraph and execute **Cypher** queries easily. GQLAlchemy also serves as a Python driver/client for Memgraph. You can install it using:\n",
    "\n",
    "```\n",
    "pip install gqlalchemy==1.2.0\n",
    "```\n",
    "\n",
    "> **Hint**: You may need to install [CMake](https://cmake.org/download/) before installing GQLAlchemy."
   ]
  },
  {
   "cell_type": "code",
   "execution_count": 1,
   "id": "addd5b06",
   "metadata": {},
   "outputs": [],
   "source": [
    "from gqlalchemy import Memgraph"
   ]
  },
  {
   "cell_type": "code",
   "execution_count": 2,
   "id": "710e6d40",
   "metadata": {},
   "outputs": [],
   "source": [
    "memgraph = Memgraph(\"127.0.0.1\", 7687)"
   ]
  },
  {
   "cell_type": "markdown",
   "id": "d636f52d",
   "metadata": {},
   "source": [
    "Make sure that Memgraph is empty before starting with anything else. Also,  you should drop all indexes, if there are any since you'll be creating new ones."
   ]
  },
  {
   "cell_type": "code",
   "execution_count": 3,
   "id": "6d8e2f6d",
   "metadata": {},
   "outputs": [],
   "source": [
    "memgraph.drop_database()\n",
    "memgraph.drop_indexes()"
   ]
  },
  {
   "cell_type": "markdown",
   "id": "cdaf9bb7",
   "metadata": {},
   "source": [
    "## Define graph schema\n",
    "\n",
    "You will create **Python classes** that will represent the graph schema. This way, all the objects that are returned from Memgraph will be of the correct type if the class definition can be found. That is not a part of the query builder, but it will help you work with the nodes and relationships."
   ]
  },
  {
   "cell_type": "code",
   "execution_count": 4,
   "id": "f25b4e86",
   "metadata": {},
   "outputs": [],
   "source": [
    "from typing import Optional\n",
    "from gqlalchemy import Node, Relationship, Field\n",
    "\n",
    "class Movie(Node):\n",
    "    id: int = Field(index=True, unique=True, exists=True, db=memgraph)\n",
    "    title: Optional[str]\n",
    "\n",
    "class User(Node):\n",
    "    id: int = Field(index=True, unique=True, exists=True, db=memgraph)\n",
    "    name: Optional[str]\n",
    "\n",
    "class Rated(Relationship, type=\"RATED\"):\n",
    "    rating: float"
   ]
  },
  {
   "cell_type": "markdown",
   "id": "ba4c1807",
   "metadata": {},
   "source": [
    "## Create nodes and relationships"
   ]
  },
  {
   "cell_type": "markdown",
   "id": "488cf2c2",
   "metadata": {},
   "source": [
    "To return all the variables from a query, just use the `return_()` method at the end of your query. Don't forget to `execute()` each query. First, you can create some users in the database:"
   ]
  },
  {
   "cell_type": "code",
   "execution_count": 5,
   "id": "6750af67",
   "metadata": {
    "scrolled": true
   },
   "outputs": [
    {
     "name": "stdout",
     "output_type": "stream",
     "text": [
      "{'ron': <User id=21 labels={'User'} properties={'id': 0, 'name': 'Ron'}>}\n",
      "{'john': <User id=22 labels={'User'} properties={'id': 1, 'name': 'John'}>}\n",
      "{'maria': <User id=23 labels={'User'} properties={'id': 2, 'name': 'Maria'}>}\n",
      "{'jenny': <User id=24 labels={'User'} properties={'id': 3, 'name': 'Jenny'}>}\n",
      "{'ian': <User id=25 labels={'User'} properties={'id': 4, 'name': 'Ian'}>}\n"
     ]
    }
   ],
   "source": [
    "from gqlalchemy import create\n",
    "\n",
    "\n",
    "ron = next(create().node(labels=\"User\", id=0, name=\"Ron\", variable=\"ron\").return_().execute())\n",
    "john = next(create().node(labels=\"User\", id=1, name=\"John\", variable=\"john\").return_().execute())\n",
    "maria = next(create().node(labels=\"User\", id=2, name=\"Maria\", variable=\"maria\").return_().execute())\n",
    "jenny = next(create().node(labels=\"User\", id=3, name=\"Jenny\", variable=\"jenny\").return_().execute())\n",
    "ian = next(create().node(labels=\"User\", id=4, name=\"Ian\", variable=\"ian\").return_().execute())\n",
    "\n",
    "users = [ron, john, maria, jenny, ian]\n",
    "\n",
    "for user in users:\n",
    "    print(user)"
   ]
  },
  {
   "cell_type": "markdown",
   "id": "3a8abdf8",
   "metadata": {},
   "source": [
    "Next, create a couple of movies:"
   ]
  },
  {
   "cell_type": "code",
   "execution_count": 6,
   "id": "aef97845",
   "metadata": {},
   "outputs": [
    {
     "name": "stdout",
     "output_type": "stream",
     "text": [
      "{'lotr': <Movie id=26 labels={'Movie'} properties={'id': 0, 'title': 'LOTR'}>}\n",
      "{'home_alone': <Movie id=27 labels={'Movie'} properties={'id': 1, 'title': 'Home Alone'}>}\n",
      "{'star_wars': <Movie id=28 labels={'Movie'} properties={'id': 2, 'title': 'Star Wars'}>}\n",
      "{'hobbit': <Movie id=29 labels={'Movie'} properties={'id': 3, 'title': 'Hobbit'}>}\n",
      "{'matrix': <Movie id=30 labels={'Movie'} properties={'id': 4, 'title': 'Matrix'}>}\n"
     ]
    }
   ],
   "source": [
    "lotr = next(create().node(labels=\"Movie\", id=0, title=\"LOTR\", variable=\"lotr\").return_().execute())\n",
    "home_alone = next(create().node(labels=\"Movie\", id=1, title=\"Home Alone\", variable=\"home_alone\").return_().execute())\n",
    "star_wars = next(create().node(labels=\"Movie\", id=2, title=\"Star Wars\", variable=\"star_wars\").return_().execute())\n",
    "hobbit = next(create().node(labels=\"Movie\", id=3, title=\"Hobbit\", variable=\"hobbit\").return_().execute())\n",
    "matrix = next(create().node(labels=\"Movie\", id=4, title=\"Matrix\", variable=\"matrix\").return_().execute())\n",
    "\n",
    "movies = [lotr, home_alone, star_wars, hobbit, matrix]\n",
    "for movie in movies:\n",
    "    print(movie)"
   ]
  },
  {
   "cell_type": "markdown",
   "id": "10b877bf",
   "metadata": {},
   "source": [
    "Now you need to connect users and movies with the `RATED` relationship:"
   ]
  },
  {
   "cell_type": "code",
   "execution_count": 7,
   "id": "def20d50",
   "metadata": {},
   "outputs": [],
   "source": [
    "from gqlalchemy import match\n",
    "\n",
    "match().node(labels=\"User\", id=0, variable=\"u\").match().node(labels=\"Movie\", id=0, variable=\"m\").create().node(variable=\"u\").to(edge_label=\"RATED\", rating=5.0).node(variable=\"m\").execute()\n",
    "match().node(labels=\"User\", id=0, variable=\"u\").match().node(labels=\"Movie\", id=1, variable=\"m\").create().node(variable=\"u\").to(edge_label=\"RATED\", rating=3.2).node(variable=\"m\").execute()\n",
    "match().node(labels=\"User\", id=0, variable=\"u\").match().node(labels=\"Movie\", id=2, variable=\"m\").create().node(variable=\"u\").to(edge_label=\"RATED\", rating=4.3).node(variable=\"m\").execute()\n",
    "match().node(labels=\"User\", id=1, variable=\"u\").match().node(labels=\"Movie\", id=0, variable=\"m\").create().node(variable=\"u\").to(edge_label=\"RATED\", rating=5.0).node(variable=\"m\").execute()\n",
    "match().node(labels=\"User\", id=2, variable=\"u\").match().node(labels=\"Movie\", id=0, variable=\"m\").create().node(variable=\"u\").to(edge_label=\"RATED\", rating=4.9).node(variable=\"m\").execute()\n",
    "match().node(labels=\"User\", id=3, variable=\"u\").match().node(labels=\"Movie\", id=3, variable=\"m\").create().node(variable=\"u\").to(edge_label=\"RATED\", rating=2.3).node(variable=\"m\").execute()\n",
    "match().node(labels=\"User\", id=3, variable=\"u\").match().node(labels=\"Movie\", id=4, variable=\"m\").create().node(variable=\"u\").to(edge_label=\"RATED\", rating=4.8).node(variable=\"m\").execute()\n",
    "match().node(labels=\"User\", id=4, variable=\"u\").match().node(labels=\"Movie\", id=0, variable=\"m\").create().node(variable=\"u\").to(edge_label=\"RATED\", rating=4.0).node(variable=\"m\").execute()"
   ]
  },
  {
   "cell_type": "markdown",
   "id": "4a7d5b9a",
   "metadata": {},
   "source": [
    "To check whether the data is correctly imported into Memgraph, you can open [**Memgraph Lab**](https://memgraph.com/docs/memgraph-lab/) on `localhost:3000`. In the query editor, run: \n",
    "\n",
    "```\n",
    "MATCH (u)-[r]->(m) \n",
    "RETURN u, r, m;\n",
    "``` \n",
    "\n",
    "You'll see the imported data visualized as a graph below:"
   ]
  },
  {
   "cell_type": "markdown",
   "id": "8d9dd041",
   "metadata": {},
   "source": [
    "![](memgraph-lab-visualization.png)"
   ]
  },
  {
   "cell_type": "markdown",
   "id": "b3733761",
   "metadata": {},
   "source": [
    "![](memgraph-lab-graph.png)"
   ]
  },
  {
   "cell_type": "markdown",
   "id": "d24801d7",
   "metadata": {},
   "source": [
    "## Filter results\n",
    "\n",
    "You can **filter data by comparing property of graph object to a value** (a literal). To return only a subset of variables from a query, specify them in the `return()` method. Below you can see how to compare `name` and `title` properties of nodes to a string value."
   ]
  },
  {
   "cell_type": "code",
   "execution_count": 8,
   "id": "2fd07099",
   "metadata": {},
   "outputs": [
    {
     "name": "stdout",
     "output_type": "stream",
     "text": [
      "Maria's id: 2\n",
      "LOTR id: 0\n"
     ]
    }
   ],
   "source": [
    "results = list(match()\n",
    "            .node(labels=\"User\", variable=\"u\")\n",
    "            .to(edge_label=\"RATED\")\n",
    "            .node(labels=\"Movie\", variable=\"m\")\n",
    "            .where(item=\"u.name\", operator=\"=\", literal=\"Maria\")\n",
    "            .and_where(item=\"m.title\", operator=\"=\", literal=\"LOTR\")\n",
    "            .return_({\"u.id\": \"user_id\", \"m.id\": \"movie_id\"})\n",
    "            .execute()\n",
    "        )\n",
    "\n",
    "for result in results:\n",
    "    print(\"Maria's id:\", result[\"user_id\"])\n",
    "    print(\"LOTR id:\", result[\"movie_id\"])"
   ]
  },
  {
   "cell_type": "markdown",
   "id": "67576f02",
   "metadata": {},
   "source": [
    "You filtered the data by finding a user with `name` Maria who rated the movie with `title` LOTR. \n",
    "\n",
    "You can also negate the expression in `WHERE` clause, using the `where_not()` method. Similarly, you have `and_not_where()`, `or_not_where()` and `xor_not_where()` methods."
   ]
  },
  {
   "cell_type": "code",
   "execution_count": 9,
   "id": "1c0df4b7",
   "metadata": {},
   "outputs": [
    {
     "name": "stdout",
     "output_type": "stream",
     "text": [
      "Ron\n",
      "John\n",
      "Ian\n"
     ]
    }
   ],
   "source": [
    "results = list(match()\n",
    "            .node(labels=\"User\", variable=\"u\")\n",
    "            .to(edge_label=\"RATED\")\n",
    "            .node(labels=\"Movie\", variable=\"m\")\n",
    "            .where_not(item=\"u.name\", operator=\"=\", literal=\"Maria\")\n",
    "            .and_where(item=\"m.title\", operator=\"=\", literal=\"LOTR\")\n",
    "            .return_({\"u.name\": \"user_name\"})\n",
    "            .execute()\n",
    "        )\n",
    "\n",
    "for result in results:\n",
    "    print(result[\"user_name\"])"
   ]
  },
  {
   "cell_type": "markdown",
   "id": "7081168f",
   "metadata": {},
   "source": [
    "What happened above? You filtered the data by finding the names of all users who are not Maria and who rated the movie LOTR.\n",
    "\n",
    "You can also **filter data by comparing properties** of graph objects:"
   ]
  },
  {
   "cell_type": "code",
   "execution_count": 10,
   "id": "d01ba2f0",
   "metadata": {},
   "outputs": [
    {
     "name": "stdout",
     "output_type": "stream",
     "text": [
      "Ron\n",
      "John\n",
      "Jenny\n",
      "Ian\n"
     ]
    }
   ],
   "source": [
    "results = list(match()\n",
    "            .node(labels=\"User\", name=\"Maria\", variable=\"u\")\n",
    "            .match()\n",
    "            .node(labels=\"User\", variable=\"v\")\n",
    "            .where(item=\"u.name\", operator=\"!=\", expression=\"v.name\")\n",
    "            .return_({\"v.name\": \"user_name\"})\n",
    "            .execute()\n",
    "        )\n",
    "\n",
    "for result in results:\n",
    "    print(result[\"user_name\"])"
   ]
  },
  {
   "cell_type": "markdown",
   "id": "89680549",
   "metadata": {},
   "source": [
    "You found all the users who don't have property `name` set to Maria.\n",
    "\n",
    "Nodes can be also be **filtered by their label** using the `where()` method instead of specifying it directly in the `node()` part of the query builder. You have to use `expression` as a third keyword argument again, since you don't want the quotes surrounding the label in the Cypher clause."
   ]
  },
  {
   "cell_type": "code",
   "execution_count": 11,
   "id": "754f9dcf",
   "metadata": {},
   "outputs": [
    {
     "name": "stdout",
     "output_type": "stream",
     "text": [
      "{'u': <Movie id=26 labels={'Movie'} properties={'id': 0, 'title': 'LOTR'}>}\n",
      "{'u': <Movie id=27 labels={'Movie'} properties={'id': 1, 'title': 'Home Alone'}>}\n",
      "{'u': <Movie id=28 labels={'Movie'} properties={'id': 2, 'title': 'Star Wars'}>}\n",
      "{'u': <Movie id=29 labels={'Movie'} properties={'id': 3, 'title': 'Hobbit'}>}\n",
      "{'u': <Movie id=30 labels={'Movie'} properties={'id': 4, 'title': 'Matrix'}>}\n"
     ]
    }
   ],
   "source": [
    "results = list(match()\n",
    "            .node(variable=\"u\")\n",
    "            .where(item=\"u\", operator=\":\", expression=\"Movie\")\n",
    "            .return_()\n",
    "            .execute()\n",
    "        )\n",
    "\n",
    "for result in results:\n",
    "    print(result)"
   ]
  },
  {
   "cell_type": "markdown",
   "id": "ab0ffc81",
   "metadata": {},
   "source": [
    "Above you filtered all nodes in the database by the `Movie` label."
   ]
  },
  {
   "cell_type": "markdown",
   "id": "4263412b",
   "metadata": {},
   "source": [
    "## Call procedures"
   ]
  },
  {
   "cell_type": "markdown",
   "id": "b4ef130a",
   "metadata": {},
   "source": [
    "Let's see which movie is the most important in the network. You can suppose that the most important movie will be the one that the largest number of users rated. To order the returned results, use the `order_by()` method after the `return_()` method."
   ]
  },
  {
   "cell_type": "code",
   "execution_count": 12,
   "id": "d625c2e5",
   "metadata": {},
   "outputs": [
    {
     "name": "stdout",
     "output_type": "stream",
     "text": [
      "LOTR 0.26900584795321636\n",
      "Hobbit 0.1\n",
      "Matrix 0.1\n",
      "Home Alone 0.09005847953216374\n",
      "Star Wars 0.09005847953216374\n"
     ]
    }
   ],
   "source": [
    "from gqlalchemy import call\n",
    "from gqlalchemy.query_builder import Order\n",
    "\n",
    "results = list(call(\"pagerank.get\")\n",
    "            .yield_()\n",
    "            .with_({\"node\": \"node\", \"rank\": \"rank\"})\n",
    "            .where(item=\"node\", operator=\":\", expression=\"Movie\")\n",
    "            .return_({\"node.title\": \"movie_title\", \"rank\": \"rank\"})\n",
    "            .order_by(properties=(\"rank\", Order.DESC))\n",
    "            .execute()\n",
    "        )\n",
    "\n",
    "for result in results:\n",
    "    print(result[\"movie_title\"], result[\"rank\"])"
   ]
  },
  {
   "cell_type": "markdown",
   "id": "add7c562",
   "metadata": {},
   "source": [
    "## Delete and remove objects\n",
    "\n",
    "To **delete a node** from the database, use the `delete()` method:"
   ]
  },
  {
   "cell_type": "code",
   "execution_count": 13,
   "id": "6a08c208",
   "metadata": {},
   "outputs": [],
   "source": [
    "match().node(labels=\"User\", id=4, variable=\"u\").delete(variable_expressions=[\"u\"], detach=True).execute()"
   ]
  },
  {
   "cell_type": "markdown",
   "id": "67d302b7",
   "metadata": {},
   "source": [
    "You deleted Ian from the database and the relationships he was connected with.\n",
    "\n",
    "To **delete a relationship** from the database, again use the `delete()` method:"
   ]
  },
  {
   "cell_type": "code",
   "execution_count": 14,
   "id": "aba34afb",
   "metadata": {},
   "outputs": [],
   "source": [
    "match().node(labels=\"User\", id=0).to(edge_label=\"RATED\", variable=\"r\").node(labels=\"Movie\", id=0).delete(variable_expressions=[\"r\"]).execute()"
   ]
  },
  {
   "cell_type": "markdown",
   "id": "526fb889",
   "metadata": {},
   "source": [
    "Above you deleted the relationship between Ron and LOTR, that is, it seems like Ron hasn't rated LOTR.\n",
    "\n",
    "To remove a property from the database, use the `remove()` method:"
   ]
  },
  {
   "cell_type": "code",
   "execution_count": 15,
   "id": "8a5cce19",
   "metadata": {},
   "outputs": [
    {
     "name": "stdout",
     "output_type": "stream",
     "text": [
      "{'u': <User id=23 labels={'User'} properties={'id': 2, 'name': None}>}\n"
     ]
    }
   ],
   "source": [
    "results = list(match()\n",
    "            .node(labels=\"User\", name=\"Maria\", variable=\"u\")\n",
    "            .remove(items=[\"u.name\"])\n",
    "            .return_()\n",
    "            .execute()\n",
    "        )\n",
    "\n",
    "for result in results:\n",
    "    print(result)"
   ]
  },
  {
   "cell_type": "markdown",
   "id": "badcaf49",
   "metadata": {},
   "source": [
    "Now Maria's `name` is set to `None`, so you can only recognize her by the `id` in the database."
   ]
  },
  {
   "cell_type": "markdown",
   "id": "4a575d22",
   "metadata": {},
   "source": [
    "## Set properties"
   ]
  },
  {
   "cell_type": "markdown",
   "id": "24ff470c",
   "metadata": {},
   "source": [
    "Let's get Maria her name back!"
   ]
  },
  {
   "cell_type": "code",
   "execution_count": 16,
   "id": "c3bd2210",
   "metadata": {
    "scrolled": false
   },
   "outputs": [
    {
     "ename": "ImportError",
     "evalue": "cannot import name 'Operator' from 'gqlalchemy.query_builder' (/opt/homebrew/lib/python3.9/site-packages/gqlalchemy/query_builder.py)",
     "output_type": "error",
     "traceback": [
      "\u001b[0;31m---------------------------------------------------------------------------\u001b[0m",
      "\u001b[0;31mImportError\u001b[0m                               Traceback (most recent call last)",
      "Input \u001b[0;32mIn [16]\u001b[0m, in \u001b[0;36m<cell line: 1>\u001b[0;34m()\u001b[0m\n\u001b[0;32m----> 1\u001b[0m \u001b[38;5;28;01mfrom\u001b[39;00m \u001b[38;5;21;01mgqlalchemy\u001b[39;00m\u001b[38;5;21;01m.\u001b[39;00m\u001b[38;5;21;01mquery_builder\u001b[39;00m \u001b[38;5;28;01mimport\u001b[39;00m Operator\n\u001b[1;32m      3\u001b[0m results \u001b[38;5;241m=\u001b[39m \u001b[38;5;28mlist\u001b[39m(match()\n\u001b[1;32m      4\u001b[0m             \u001b[38;5;241m.\u001b[39mnode(labels\u001b[38;5;241m=\u001b[39m\u001b[38;5;124m\"\u001b[39m\u001b[38;5;124mUser\u001b[39m\u001b[38;5;124m\"\u001b[39m, \u001b[38;5;28mid\u001b[39m\u001b[38;5;241m=\u001b[39m\u001b[38;5;241m2\u001b[39m, variable\u001b[38;5;241m=\u001b[39m\u001b[38;5;124m\"\u001b[39m\u001b[38;5;124mu\u001b[39m\u001b[38;5;124m\"\u001b[39m)\n\u001b[1;32m      5\u001b[0m             \u001b[38;5;241m.\u001b[39mset_(item\u001b[38;5;241m=\u001b[39m\u001b[38;5;124m\"\u001b[39m\u001b[38;5;124mu.name\u001b[39m\u001b[38;5;124m\"\u001b[39m, operator\u001b[38;5;241m=\u001b[39mOperator\u001b[38;5;241m.\u001b[39mASSIGNMENT, literal\u001b[38;5;241m=\u001b[39m\u001b[38;5;124m\"\u001b[39m\u001b[38;5;124mMaria\u001b[39m\u001b[38;5;124m\"\u001b[39m)\n\u001b[1;32m      6\u001b[0m             \u001b[38;5;241m.\u001b[39mreturn_()\n\u001b[1;32m      7\u001b[0m             \u001b[38;5;241m.\u001b[39mexecute()\n\u001b[1;32m      8\u001b[0m         )\n\u001b[1;32m     10\u001b[0m \u001b[38;5;28;01mfor\u001b[39;00m result \u001b[38;5;129;01min\u001b[39;00m results:\n",
      "\u001b[0;31mImportError\u001b[0m: cannot import name 'Operator' from 'gqlalchemy.query_builder' (/opt/homebrew/lib/python3.9/site-packages/gqlalchemy/query_builder.py)"
     ]
    }
   ],
   "source": [
    "from gqlalchemy.query_builder import Operator\n",
    "\n",
    "results = list(match()\n",
    "            .node(labels=\"User\", id=2, variable=\"u\")\n",
    "            .set_(item=\"u.name\", operator=Operator.ASSIGNMENT, literal=\"Maria\")\n",
    "            .return_()\n",
    "            .execute()\n",
    "        )\n",
    "\n",
    "for result in results:\n",
    "    print(result)"
   ]
  },
  {
   "cell_type": "markdown",
   "id": "659d955c",
   "metadata": {},
   "source": [
    "Here the `Operator` from the query builder was used, but you can also use a simple string (`\"=\"`).\n",
    "\n",
    "And Maria is back!\n",
    "\n",
    "![memgraph-lab-node](memgraph-lab-node.png)"
   ]
  },
  {
   "cell_type": "markdown",
   "id": "4ba98ad8",
   "metadata": {},
   "source": [
    "\n",
    "\n",
    "## What's next?\n",
    "\n",
    "Now it's time for you to use Memgraph on a graph problem!\n",
    "\n",
    "You can always check out [Memgraph Playground](https://playground.memgraph.com/) for some cool use cases and examples.\n",
    "If you need some help with GQLAlchemy, join our [Discord](https://www.discord.gg/memgraph) server and have a chat with us."
   ]
  }
 ],
 "metadata": {
  "kernelspec": {
   "display_name": "Python 3 (ipykernel)",
   "language": "python",
   "name": "python3"
  },
  "language_info": {
   "codemirror_mode": {
    "name": "ipython",
    "version": 3
   },
   "file_extension": ".py",
   "mimetype": "text/x-python",
   "name": "python",
   "nbconvert_exporter": "python",
   "pygments_lexer": "ipython3",
   "version": "3.9.10"
  }
 },
 "nbformat": 4,
 "nbformat_minor": 5
}
