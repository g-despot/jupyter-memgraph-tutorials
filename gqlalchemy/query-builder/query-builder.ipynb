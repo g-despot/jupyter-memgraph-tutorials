{
 "cells": [
  {
   "cell_type": "markdown",
   "id": "1ff8bf62",
   "metadata": {},
   "source": [
    "# How to use GQLAlchemy query builder? \n",
    "\n",
    "**GQLAlchemy query builder** will help you build Cypher queries in no time! With this blog post, you will learn how to use different query builder methods to create, change, get, set, and remove data from Memgraph.\n",
    "\n",
    "## Set everything up\n",
    "\n",
    "If you want to try the code from this blog post, make sure to install [Docker](https://docs.docker.com/get-docker/) and [GQLAlchemy](https://pypi.org/project/gqlalchemy/). Docker is used because **Memgraph** is a native Linux application and can't be installed on Windows and macOS. After you install Docker, you can set up Memgraph by running:\n",
    "\n",
    "```\n",
    "docker run -it -p 7687:7687 -p 7444:7444 -p 3000:3000 memgraph/memgraph-platform:2.2.6\n",
    "```\n",
    "\n",
    "This command will start the download and after it finishes, run the Memgraph container.\n",
    "\n",
    "We will be using the **GQLAlchemy** object graph mapper (OGM) to connect to Memgraph and execute **Cypher** queries easily. GQLAlchemy also serves as a Python driver/client for Memgraph. You can install it using:\n",
    "\n",
    "```\n",
    "pip install gqlalchemy==1.2.0\n",
    "```\n",
    "\n",
    "> **Hint**: You may need to install [CMake](https://cmake.org/download/) before installing GQLAlchemy."
   ]
  },
  {
   "cell_type": "code",
   "execution_count": 13,
   "id": "addd5b06",
   "metadata": {},
   "outputs": [],
   "source": [
    "from gqlalchemy import Memgraph"
   ]
  },
  {
   "cell_type": "code",
   "execution_count": 14,
   "id": "710e6d40",
   "metadata": {},
   "outputs": [],
   "source": [
    "memgraph = Memgraph(\"127.0.0.1\", 7687)"
   ]
  },
  {
   "cell_type": "markdown",
   "id": "d636f52d",
   "metadata": {},
   "source": [
    "Make sure that Memgraph is empty before starting with anything else. Also, you should drop all indexes, if there are any, since you'll be creating new ones."
   ]
  },
  {
   "cell_type": "code",
   "execution_count": 15,
   "id": "6d8e2f6d",
   "metadata": {},
   "outputs": [],
   "source": [
    "memgraph.drop_database()\n",
    "memgraph.drop_indexes()"
   ]
  },
  {
   "cell_type": "markdown",
   "id": "cdaf9bb7",
   "metadata": {},
   "source": [
    "## Define graph schema\n",
    "\n",
    "You will create **Python classes** that will represent the graph schema. This way, all the objects that are returned from Memgraph will be of the correct type if the class definition can be found. That is not a part of the query builder, but it will help you work with the nodes and relationships."
   ]
  },
  {
   "cell_type": "code",
   "execution_count": 16,
   "id": "f25b4e86",
   "metadata": {},
   "outputs": [],
   "source": [
    "from typing import Optional\n",
    "from gqlalchemy import Node, Relationship, Field\n",
    "\n",
    "class Movie(Node):\n",
    "    id: int = Field(index=True, unique=True, exists=True, db=memgraph)\n",
    "    title: Optional[str]\n",
    "\n",
    "class User(Node):\n",
    "    id: int = Field(index=True, unique=True, exists=True, db=memgraph)\n",
    "    name: Optional[str]\n",
    "\n",
    "class Rated(Relationship, type=\"RATED\"):\n",
    "    rating: float"
   ]
  },
  {
   "cell_type": "markdown",
   "id": "ba4c1807",
   "metadata": {},
   "source": [
    "## Create nodes and relationships"
   ]
  },
  {
   "cell_type": "markdown",
   "id": "488cf2c2",
   "metadata": {},
   "source": [
    "To return all the variables from a query, just use the `return_()` method at the end of your query. Don't forget to `execute()` each query. First, you can create some users in the database:"
   ]
  },
  {
   "cell_type": "code",
   "execution_count": 17,
   "id": "6750af67",
   "metadata": {
    "scrolled": true
   },
   "outputs": [
    {
     "name": "stdout",
     "output_type": "stream",
     "text": [
      "{'ron': <User id=0 labels={'User'} properties={'id': 0, 'name': 'Ron'}>}\n",
      "{'john': <User id=1 labels={'User'} properties={'id': 1, 'name': 'John'}>}\n",
      "{'maria': <User id=2 labels={'User'} properties={'id': 2, 'name': 'Maria'}>}\n",
      "{'jenny': <User id=3 labels={'User'} properties={'id': 3, 'name': 'Jenny'}>}\n",
      "{'ian': <User id=4 labels={'User'} properties={'id': 4, 'name': 'Ian'}>}\n"
     ]
    }
   ],
   "source": [
    "from gqlalchemy import create\n",
    "\n",
    "\n",
    "ron = next(create().node(labels=\"User\", id=0, name=\"Ron\", variable=\"ron\").return_().execute())\n",
    "john = next(create().node(labels=\"User\", id=1, name=\"John\", variable=\"john\").return_().execute())\n",
    "maria = next(create().node(labels=\"User\", id=2, name=\"Maria\", variable=\"maria\").return_().execute())\n",
    "jenny = next(create().node(labels=\"User\", id=3, name=\"Jenny\", variable=\"jenny\").return_().execute())\n",
    "ian = next(create().node(labels=\"User\", id=4, name=\"Ian\", variable=\"ian\").return_().execute())\n",
    "\n",
    "users = [ron, john, maria, jenny, ian]\n",
    "\n",
    "for user in users:\n",
    "    print(user)"
   ]
  },
  {
   "cell_type": "markdown",
   "id": "3a8abdf8",
   "metadata": {},
   "source": [
    "Next, create a couple of movies:"
   ]
  },
  {
   "cell_type": "code",
   "execution_count": 18,
   "id": "aef97845",
   "metadata": {},
   "outputs": [
    {
     "name": "stdout",
     "output_type": "stream",
     "text": [
      "{'lotr': <Movie id=5 labels={'Movie'} properties={'id': 0, 'title': 'LOTR'}>}\n",
      "{'home_alone': <Movie id=6 labels={'Movie'} properties={'id': 1, 'title': 'Home Alone'}>}\n",
      "{'star_wars': <Movie id=7 labels={'Movie'} properties={'id': 2, 'title': 'Star Wars'}>}\n",
      "{'hobbit': <Movie id=8 labels={'Movie'} properties={'id': 3, 'title': 'Hobbit'}>}\n",
      "{'matrix': <Movie id=9 labels={'Movie'} properties={'id': 4, 'title': 'Matrix'}>}\n"
     ]
    }
   ],
   "source": [
    "lotr = next(create().node(labels=\"Movie\", id=0, title=\"LOTR\", variable=\"lotr\").return_().execute())\n",
    "home_alone = next(create().node(labels=\"Movie\", id=1, title=\"Home Alone\", variable=\"home_alone\").return_().execute())\n",
    "star_wars = next(create().node(labels=\"Movie\", id=2, title=\"Star Wars\", variable=\"star_wars\").return_().execute())\n",
    "hobbit = next(create().node(labels=\"Movie\", id=3, title=\"Hobbit\", variable=\"hobbit\").return_().execute())\n",
    "matrix = next(create().node(labels=\"Movie\", id=4, title=\"Matrix\", variable=\"matrix\").return_().execute())\n",
    "\n",
    "movies = [lotr, home_alone, star_wars, hobbit, matrix]\n",
    "for movie in movies:\n",
    "    print(movie)"
   ]
  },
  {
   "cell_type": "markdown",
   "id": "10b877bf",
   "metadata": {},
   "source": [
    "Now you need to connect users and movies with the `RATED` relationship:"
   ]
  },
  {
   "cell_type": "code",
   "execution_count": 19,
   "id": "def20d50",
   "metadata": {},
   "outputs": [],
   "source": [
    "from gqlalchemy import match\n",
    "\n",
    "match().node(labels=\"User\", id=0, variable=\"u\").match().node(labels=\"Movie\", id=0, variable=\"m\").create().node(variable=\"u\").to(edge_label=\"RATED\", rating=5.0).node(variable=\"m\").execute()\n",
    "match().node(labels=\"User\", id=0, variable=\"u\").match().node(labels=\"Movie\", id=1, variable=\"m\").create().node(variable=\"u\").to(edge_label=\"RATED\", rating=3.2).node(variable=\"m\").execute()\n",
    "match().node(labels=\"User\", id=0, variable=\"u\").match().node(labels=\"Movie\", id=2, variable=\"m\").create().node(variable=\"u\").to(edge_label=\"RATED\", rating=4.3).node(variable=\"m\").execute()\n",
    "match().node(labels=\"User\", id=1, variable=\"u\").match().node(labels=\"Movie\", id=0, variable=\"m\").create().node(variable=\"u\").to(edge_label=\"RATED\", rating=5.0).node(variable=\"m\").execute()\n",
    "match().node(labels=\"User\", id=2, variable=\"u\").match().node(labels=\"Movie\", id=0, variable=\"m\").create().node(variable=\"u\").to(edge_label=\"RATED\", rating=4.9).node(variable=\"m\").execute()\n",
    "match().node(labels=\"User\", id=3, variable=\"u\").match().node(labels=\"Movie\", id=3, variable=\"m\").create().node(variable=\"u\").to(edge_label=\"RATED\", rating=2.3).node(variable=\"m\").execute()\n",
    "match().node(labels=\"User\", id=3, variable=\"u\").match().node(labels=\"Movie\", id=4, variable=\"m\").create().node(variable=\"u\").to(edge_label=\"RATED\", rating=4.8).node(variable=\"m\").execute()\n",
    "match().node(labels=\"User\", id=4, variable=\"u\").match().node(labels=\"Movie\", id=0, variable=\"m\").create().node(variable=\"u\").to(edge_label=\"RATED\", rating=4.0).node(variable=\"m\").execute()"
   ]
  },
  {
   "cell_type": "markdown",
   "id": "4a7d5b9a",
   "metadata": {},
   "source": [
    "To check whether the data is correctly imported into Memgraph, you can open [**Memgraph Lab**](https://memgraph.com/docs/memgraph-lab/) on `localhost:3000`. In the query editor, run: \n",
    "\n",
    "```\n",
    "MATCH (u)-[r]->(m) \n",
    "RETURN u, r, m;\n",
    "``` \n",
    "\n",
    "You'll see the imported data visualized as a graph below:"
   ]
  },
  {
   "cell_type": "markdown",
   "id": "8d9dd041",
   "metadata": {},
   "source": [
    "![](memgraph-lab-visualization.png)"
   ]
  },
  {
   "cell_type": "markdown",
   "id": "d24801d7",
   "metadata": {},
   "source": [
    "## Filter results\n",
    "\n",
    "You can **filter data by comparing the property of a graph object to a value** (a literal). To return only a subset of variables from a query, specify them in the `return()` method. Below you can see how to compare `name` and `title` properties of nodes to a string value."
   ]
  },
  {
   "cell_type": "code",
   "execution_count": 20,
   "id": "2fd07099",
   "metadata": {},
   "outputs": [
    {
     "name": "stdout",
     "output_type": "stream",
     "text": [
      "Maria's id: 2\n",
      "LOTR id: 0\n"
     ]
    }
   ],
   "source": [
    "results = list(match()\n",
    "            .node(labels=\"User\", variable=\"u\")\n",
    "            .to(edge_label=\"RATED\")\n",
    "            .node(labels=\"Movie\", variable=\"m\")\n",
    "            .where(item=\"u.name\", operator=\"=\", literal=\"Maria\")\n",
    "            .and_where(item=\"m.title\", operator=\"=\", literal=\"LOTR\")\n",
    "            .return_({\"u.id\": \"user_id\", \"m.id\": \"movie_id\"})\n",
    "            .execute()\n",
    "        )\n",
    "\n",
    "for result in results:\n",
    "    print(\"Maria's id:\", result[\"user_id\"])\n",
    "    print(\"LOTR id:\", result[\"movie_id\"])"
   ]
  },
  {
   "cell_type": "markdown",
   "id": "67576f02",
   "metadata": {},
   "source": [
    "You filtered the data by finding a user with `name` Maria, who rated the movie with `title` LOTR. \n",
    "\n",
    "You can also negate the expression in `WHERE` clause, using the `where_not()` method. Similarly, you have `and_not_where()`, `or_not_where()` and `xor_not_where()` methods."
   ]
  },
  {
   "cell_type": "code",
   "execution_count": 21,
   "id": "1c0df4b7",
   "metadata": {},
   "outputs": [
    {
     "name": "stdout",
     "output_type": "stream",
     "text": [
      "Ron\n",
      "John\n",
      "Ian\n"
     ]
    }
   ],
   "source": [
    "results = list(match()\n",
    "            .node(labels=\"User\", variable=\"u\")\n",
    "            .to(edge_label=\"RATED\")\n",
    "            .node(labels=\"Movie\", variable=\"m\")\n",
    "            .where_not(item=\"u.name\", operator=\"=\", literal=\"Maria\")\n",
    "            .and_where(item=\"m.title\", operator=\"=\", literal=\"LOTR\")\n",
    "            .return_({\"u.name\": \"user_name\"})\n",
    "            .execute()\n",
    "        )\n",
    "\n",
    "for result in results:\n",
    "    print(result[\"user_name\"])"
   ]
  },
  {
   "cell_type": "markdown",
   "id": "7081168f",
   "metadata": {},
   "source": [
    "What happened above? You filtered the data by finding the names of all users who are not Maria and who rated the movie LOTR.\n",
    "\n",
    "You can also **filter data by comparing properties** of graph objects:"
   ]
  },
  {
   "cell_type": "code",
   "execution_count": 22,
   "id": "d01ba2f0",
   "metadata": {},
   "outputs": [
    {
     "name": "stdout",
     "output_type": "stream",
     "text": [
      "Ron\n",
      "John\n",
      "Jenny\n",
      "Ian\n"
     ]
    }
   ],
   "source": [
    "results = list(match()\n",
    "            .node(labels=\"User\", name=\"Maria\", variable=\"u\")\n",
    "            .match()\n",
    "            .node(labels=\"User\", variable=\"v\")\n",
    "            .where(item=\"u.name\", operator=\"!=\", expression=\"v.name\")\n",
    "            .return_({\"v.name\": \"user_name\"})\n",
    "            .execute()\n",
    "        )\n",
    "\n",
    "for result in results:\n",
    "    print(result[\"user_name\"])"
   ]
  },
  {
   "cell_type": "markdown",
   "id": "89680549",
   "metadata": {},
   "source": [
    "You found all the users that don't have the property `name` set to `Maria`.\n",
    "\n",
    "Nodes can also be **filtered by their label** using the `where()` method instead of specifying it directly in the `node()` method of the query builder. You have to use `expression` as the third keyword argument since you want to escape the quotes surrounding the label in the Cypher clause."
   ]
  },
  {
   "cell_type": "code",
   "execution_count": 23,
   "id": "754f9dcf",
   "metadata": {},
   "outputs": [
    {
     "name": "stdout",
     "output_type": "stream",
     "text": [
      "{'u': <Movie id=5 labels={'Movie'} properties={'id': 0, 'title': 'LOTR'}>}\n",
      "{'u': <Movie id=6 labels={'Movie'} properties={'id': 1, 'title': 'Home Alone'}>}\n",
      "{'u': <Movie id=7 labels={'Movie'} properties={'id': 2, 'title': 'Star Wars'}>}\n",
      "{'u': <Movie id=8 labels={'Movie'} properties={'id': 3, 'title': 'Hobbit'}>}\n",
      "{'u': <Movie id=9 labels={'Movie'} properties={'id': 4, 'title': 'Matrix'}>}\n"
     ]
    }
   ],
   "source": [
    "results = list(match()\n",
    "            .node(variable=\"u\")\n",
    "            .where(item=\"u\", operator=\":\", expression=\"Movie\")\n",
    "            .return_()\n",
    "            .execute()\n",
    "        )\n",
    "\n",
    "for result in results:\n",
    "    print(result)"
   ]
  },
  {
   "cell_type": "markdown",
   "id": "ab0ffc81",
   "metadata": {},
   "source": [
    "Above you filtered all nodes in the database by the `Movie` label."
   ]
  },
  {
   "cell_type": "markdown",
   "id": "4263412b",
   "metadata": {},
   "source": [
    "## Call procedures"
   ]
  },
  {
   "cell_type": "markdown",
   "id": "b4ef130a",
   "metadata": {},
   "source": [
    "Let's see which movie is the most important in the network. You can suppose that the most important movie will be the one that the largest number of users rated. To order the returned results, use the `order_by()` method after the `return_()` method."
   ]
  },
  {
   "cell_type": "code",
   "execution_count": 24,
   "id": "d625c2e5",
   "metadata": {},
   "outputs": [
    {
     "name": "stdout",
     "output_type": "stream",
     "text": [
      "LOTR 0.26900584795321636\n",
      "Hobbit 0.1\n",
      "Matrix 0.1\n",
      "Home Alone 0.09005847953216374\n",
      "Star Wars 0.09005847953216374\n"
     ]
    }
   ],
   "source": [
    "from gqlalchemy import call\n",
    "from gqlalchemy.query_builder import Order\n",
    "\n",
    "results = list(call(\"pagerank.get\")\n",
    "            .yield_()\n",
    "            .with_({\"node\": \"node\", \"rank\": \"rank\"})\n",
    "            .where(item=\"node\", operator=\":\", expression=\"Movie\")\n",
    "            .return_({\"node.title\": \"movie_title\", \"rank\": \"rank\"})\n",
    "            .order_by(properties=(\"rank\", Order.DESC))\n",
    "            .execute()\n",
    "        )\n",
    "\n",
    "for result in results:\n",
    "    print(result[\"movie_title\"], result[\"rank\"])"
   ]
  },
  {
   "cell_type": "markdown",
   "id": "add7c562",
   "metadata": {},
   "source": [
    "## Delete and remove objects\n",
    "\n",
    "To **delete a node** from the database, use the `delete()` method:"
   ]
  },
  {
   "cell_type": "code",
   "execution_count": 25,
   "id": "6a08c208",
   "metadata": {},
   "outputs": [],
   "source": [
    "match().node(labels=\"User\", id=4, variable=\"u\").delete(variable_expressions=[\"u\"], detach=True).execute()"
   ]
  },
  {
   "cell_type": "markdown",
   "id": "67d302b7",
   "metadata": {},
   "source": [
    "You deleted Ian from the database and the relationships he was connected with.\n",
    "\n",
    "To **delete a relationship** from the database, again use the `delete()` method:"
   ]
  },
  {
   "cell_type": "code",
   "execution_count": 26,
   "id": "aba34afb",
   "metadata": {},
   "outputs": [],
   "source": [
    "match().node(labels=\"User\", id=0).to(edge_label=\"RATED\", variable=\"r\").node(labels=\"Movie\", id=0).delete(variable_expressions=[\"r\"]).execute()"
   ]
  },
  {
   "cell_type": "markdown",
   "id": "526fb889",
   "metadata": {},
   "source": [
    "Above you deleted the relationship between Ron and LOTR, that is, it seems like Ron hasn't rated LOTR.\n",
    "\n",
    "To remove a property from the database, use the `remove()` method:"
   ]
  },
  {
   "cell_type": "code",
   "execution_count": 27,
   "id": "8a5cce19",
   "metadata": {},
   "outputs": [
    {
     "name": "stdout",
     "output_type": "stream",
     "text": [
      "{'u': <User id=2 labels={'User'} properties={'id': 2, 'name': None}>}\n"
     ]
    }
   ],
   "source": [
    "results = list(match()\n",
    "            .node(labels=\"User\", name=\"Maria\", variable=\"u\")\n",
    "            .remove(items=[\"u.name\"])\n",
    "            .return_()\n",
    "            .execute()\n",
    "        )\n",
    "\n",
    "for result in results:\n",
    "    print(result)"
   ]
  },
  {
   "cell_type": "markdown",
   "id": "badcaf49",
   "metadata": {},
   "source": [
    "Now Maria's `name` is set to `None`, so you can only recognize her by the `id` in the database."
   ]
  },
  {
   "cell_type": "markdown",
   "id": "4ba98ad8",
   "metadata": {},
   "source": [
    "\n",
    "\n",
    "## What's next?\n",
    "\n",
    "Now it's time for you to use Memgraph on a graph problem!\n",
    "\n",
    "You can always check out [Memgraph Playground](https://playground.memgraph.com/) for some cool use cases and examples.\n",
    "If you need some help with GQLAlchemy, join our [Discord](https://www.discord.gg/memgraph) server and have a chat with us."
   ]
  }
 ],
 "metadata": {
  "kernelspec": {
   "display_name": "Python 3 (ipykernel)",
   "language": "python",
   "name": "python3"
  },
  "language_info": {
   "codemirror_mode": {
    "name": "ipython",
    "version": 3
   },
   "file_extension": ".py",
   "mimetype": "text/x-python",
   "name": "python",
   "nbconvert_exporter": "python",
   "pygments_lexer": "ipython3",
   "version": "3.9.7"
  }
 },
 "nbformat": 4,
 "nbformat_minor": 5
}
