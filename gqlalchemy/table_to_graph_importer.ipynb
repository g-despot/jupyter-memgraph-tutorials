{
 "cells": [
  {
   "cell_type": "markdown",
   "id": "b50a0dba",
   "metadata": {},
   "source": [
    "# Importing Table Data into a Graph Database\n",
    "\n",
    "Are you considering moving from table data to a graph database, but it seems like a complicated migration? With this short tutorial, we are going to show you how to do just that using GQLAlchemy. You will learn how to import table data from files stored in local or online storage to a Memgraph graph database.\n",
    "\n",
    "If at any point you experience problems with this tutorial or something is\n",
    "unclear to you, reach out on our [Discord server](https://discord.gg/memgraph).\n",
    "\n",
    "## 1. Prerequisites\n",
    "\n",
    "For this tutorial, you will need to install:\n",
    "\n",
    "- [Jupyter](https://jupyter.org/install): Jupyter is needed if you want to run this tutorial as a notebook.\n",
    "- [Docker](https://docs.docker.com/get-docker/): Docker is used because Memgraph is a native Linux application and cannot be installed on Windows and macOS.\n",
    "- [GQLAlchemy](https://pypi.org/project/gqlalchemy/): A Python OGM (Object Graph Mapper) that connects to Memgraph\n"
   ]
  },
  {
   "cell_type": "markdown",
   "id": "d81bb720",
   "metadata": {},
   "source": [
    "## 2. Installation using Docker\n",
    "\n",
    "After you install Docker, you can set up Memgraph by running:\n",
    "\n",
    "```\n",
    "docker run -it -p 7687:7687 -p 7444:7444 -p 3000:3000 memgraph/memgraph-platform:2.2.6\n",
    "```\n",
    "\n",
    "This command will start the download and after it finishes, run the Memgraph container.\n"
   ]
  },
  {
   "cell_type": "markdown",
   "id": "2c53ab73",
   "metadata": {},
   "source": [
    "## 3. Connecting to Memgraph with GQLAlchemy\n",
    "\n",
    "We will be using the **GQLAlchemy** object graph mapper (OGM) to connect to Memgraph and execute **Cypher** queries easily. GQLAlchemy also serves as a Python driver/client for Memgraph. You can install it using:\n",
    "\n",
    "```\n",
    "pip install gqlalchemy\n",
    "```\n",
    "\n",
    "> **Hint**: You may need to install [CMake](https://cmake.org/download/) before installing GQLAlchemy.\n",
    "\n",
    "Maybe you got confused when I mentioned Cypher. You can think of Cypher as SQL for graph databases. It contains many of the same language constructs like `CREATE`, `UPDATE`, `DELETE`... and it's used to query the database.\n"
   ]
  },
  {
   "cell_type": "code",
   "execution_count": null,
   "id": "d6e35b90",
   "metadata": {},
   "outputs": [],
   "source": [
    "from gqlalchemy import Memgraph"
   ]
  },
  {
   "cell_type": "code",
   "execution_count": null,
   "id": "17b8101a",
   "metadata": {},
   "outputs": [],
   "source": [
    "memgraph = Memgraph(\"127.0.0.1\", 7687)"
   ]
  },
  {
   "cell_type": "markdown",
   "id": "743d7b6b",
   "metadata": {},
   "source": [
    "Let's make sure that Memgraph is empty before we start with anything else.\n"
   ]
  },
  {
   "cell_type": "code",
   "execution_count": null,
   "id": "5746a3bb",
   "metadata": {},
   "outputs": [],
   "source": [
    "memgraph.drop_database()"
   ]
  },
  {
   "cell_type": "code",
   "execution_count": null,
   "id": "244c7031",
   "metadata": {},
   "outputs": [],
   "source": [
    "results = memgraph.execute_and_fetch(\n",
    "    \"\"\"\n",
    "    MATCH (n) RETURN count(n) AS number_of_nodes ;\n",
    "    \"\"\"\n",
    ")\n",
    "print(next(results))"
   ]
  },
  {
   "cell_type": "markdown",
   "id": "a575bda4",
   "metadata": {},
   "source": [
    "## 4. Making mock table data file\n",
    "\n",
    "For this tutorial, we are going to create CSV files to represent our data. Using two files, you can also model a relationship between them with a foreign key. But more on that later, for now, you can run the following code to make two CSV files, individual.csv and address.csv.\n"
   ]
  },
  {
   "cell_type": "code",
   "execution_count": null,
   "id": "e2dd6420",
   "metadata": {},
   "outputs": [],
   "source": [
    "import csv\n",
    "\n",
    "header = [\"ind_id\", \"name\", \"surname\", \"add_id\"]\n",
    "data = [\n",
    "    [1, \"Tomislav\", \"Petrov\", 1],\n",
    "    [2, \"Ivan\", \"Horvat\", 3],\n",
    "    [3, \"Marko\", \"Horvat\", 3],\n",
    "    [4, \"John\", \"Doe\", 2],\n",
    "    [5, \"John\", \"Though\", 4],\n",
    "]\n",
    "\n",
    "with open(\"individual.csv\", \"w\", encoding=\"UTF8\", newline=\"\") as f:\n",
    "    writer = csv.writer(f)\n",
    "    writer.writerow(header)\n",
    "    writer.writerows(data)"
   ]
  },
  {
   "cell_type": "code",
   "execution_count": null,
   "id": "87c76b83",
   "metadata": {},
   "outputs": [],
   "source": [
    "header = [\"add_id\", \"street\", \"street_num\", \"city\"]\n",
    "data = [\n",
    "    [1, \"Ilica\", 2, \"Zagreb\"],\n",
    "    [2, \"Death Valley\", 0, \"Knowhere\"],\n",
    "    [3, \"Horvacanska\", 3, \"Horvati\"],\n",
    "    [4, \"Broadway\", 12, \"New York\"],\n",
    "]\n",
    "\n",
    "with open(\"address.csv\", \"w\", encoding=\"UTF8\", newline=\"\") as f:\n",
    "    writer = csv.writer(f)\n",
    "    writer.writerow(header)\n",
    "    writer.writerows(data)"
   ]
  },
  {
   "cell_type": "markdown",
   "id": "fe38e88b",
   "metadata": {},
   "source": [
    "## 5. Defining a translation\n",
    "\n",
    "In order to translate the table data into graph form, you need to give the importer instructions on how to do that. For this, you should define a **data configuration object** which can be a dictionary in Python code or a YAML file.\n",
    "\n",
    "Here is a general structure of a data configuration YAML file:\n",
    "\n",
    "```yaml\n",
    "indices:    # indices to be created for each table\n",
    "  individuals:    # name of the table containing individuals with ind_id\n",
    "  - ind_id\n",
    "  address:\n",
    "  - add_id\n",
    "\n",
    "\n",
    "name_mappings:    # how we want to name node labels\n",
    "  individuals:\n",
    "    label: INDIVIDUAL    # nodes made from the individuals table will have the label INDIVIDUAL\n",
    "  address:\n",
    "    label: ADDRESS\n",
    "    column_names_mapping: {\"current_column_name\": \"mapped_name\"}    # (optional) map column names\n",
    "\n",
    "\n",
    "one_to_many_relations:\n",
    "  address: []    # currently needed, leave [] if no relations to define\n",
    "  individuals:\n",
    "    - foreign_key:                # foreign key used for mapping;\n",
    "      column_name: add_id         # specifies its column\n",
    "      reference_table: address    # name of table from which the foreign key is taken\n",
    "      reference_key: add_id       # column name in reference table from which the foreign key is taken\n",
    "    label: LIVES_IN               # label applied to relationship created\n",
    "      from_entity: False          # (optional) define direction of relationship created\n",
    "\n",
    "\n",
    "many_to_many_relations:      # intended to be used in case of associative tables\n",
    "  example:\n",
    "    foreign_key_from:        # describes the source of the relationship\n",
    "      column_name:\n",
    "      reference_table:\n",
    "      reference_key:\n",
    "    foreign_key_to:          # describes the destination of the relationship\n",
    "      column_name:\n",
    "      reference_table:\n",
    "      reference_key:\n",
    "    label:\n",
    "\n",
    "```\n",
    "\n",
    "For our example, we will use a dictionary to simplify the input process. We want to create nodes for all rows in both tables and a relationship `LIVES_IN` between an `INDIVIDUAL` and `ADDRESS` nodes. Also, you will not be using the `many_to_many_relations` field, so your data configuration object is:\n"
   ]
  },
  {
   "cell_type": "code",
   "execution_count": null,
   "id": "8d077675",
   "metadata": {},
   "outputs": [],
   "source": [
    "data_conf = {\n",
    "    \"indices\": {\"address\": [\"add_id\"], \"individual\": [\"ind_id\"]},\n",
    "    \"name_mappings\": {\n",
    "        \"individual\": {\"label\": \"INDIVIDUAL\"},\n",
    "        \"address\": {\"label\": \"ADDRESS\"},\n",
    "    },\n",
    "    \"one_to_many_relations\": {\n",
    "        \"address\": [],\n",
    "        \"individual\": [\n",
    "            {\n",
    "                \"foreign_key\": {\n",
    "                    \"column_name\": \"add_id\",\n",
    "                    \"reference_table\": \"address\",\n",
    "                    \"reference_key\": \"add_id\",\n",
    "                },\n",
    "                \"label\": \"LIVES_IN\",\n",
    "            }\n",
    "        ],\n",
    "    },\n",
    "}"
   ]
  },
  {
   "cell_type": "markdown",
   "id": "947c2325",
   "metadata": {},
   "source": [
    "## 6. Importing from the local file system\n",
    "\n",
    "Finally, to import the data into Memgraph, all you need to do is make an instance of `LocalFileSystemImporter` and call its `translate()` method.\n"
   ]
  },
  {
   "cell_type": "code",
   "execution_count": null,
   "id": "08161204",
   "metadata": {},
   "outputs": [],
   "source": [
    "from gqlalchemy.loaders import CSVLocalFileSystemImporter\n",
    "\n",
    "importer = CSVLocalFileSystemImporter(\n",
    "    data_configuration=data_conf,\n",
    "    path=\"./\",\n",
    ")\n",
    "\n",
    "importer.translate(drop_database_on_start=True)"
   ]
  },
  {
   "cell_type": "markdown",
   "id": "3d9da1f4",
   "metadata": {},
   "source": [
    "## 7. Importing from online file storage\n",
    "\n",
    "Furthermore, we offer support for reading data from online storage providers **Amazon S3** and **Azure Blob** via `AmazonS3Importer` and `AzureBlobImporter`. To use the Azure storage, for example, simply use the following snippet:\n",
    "\n",
    "```python\n",
    "importer = CSVAzureBlobFileSystemImporter(\n",
    "    container_name=\"<your_container_name>\",\n",
    "    data_configuration=data_conf,\n",
    "    account_name=\"<your_account_name>\",\n",
    "    account_key=\"<your_account_key>\",\n",
    ")\n",
    "```\n",
    "\n",
    "For any other service provider, it is possible to implement your custom importer class, [here's how](link-to-how-to-guide). Don't forget that GQLAlchemy is an open source project, so you can submit your extended functionality on our [GitHub repository](https://github.com/memgraph/gqlalchemy).\n"
   ]
  },
  {
   "cell_type": "markdown",
   "id": "d46b4c05",
   "metadata": {},
   "source": [
    "## 8. Querying the database and retrieving results\n",
    "\n",
    "Let's make sure that our data was imported correctly by retrieving it:\n"
   ]
  },
  {
   "cell_type": "code",
   "execution_count": null,
   "id": "7da3d5a7",
   "metadata": {},
   "outputs": [],
   "source": [
    "results = memgraph.execute_and_fetch(\n",
    "    \"\"\"\n",
    "    MATCH (n) RETURN n;\n",
    "    \"\"\"\n",
    ")"
   ]
  },
  {
   "cell_type": "code",
   "execution_count": null,
   "id": "bd3bd070",
   "metadata": {},
   "outputs": [],
   "source": [
    "results = list(results)"
   ]
  },
  {
   "cell_type": "code",
   "execution_count": null,
   "id": "5d078181",
   "metadata": {},
   "outputs": [],
   "source": [
    "for result in results:\n",
    "    print(result[\"n\"])"
   ]
  },
  {
   "cell_type": "markdown",
   "id": "ef5de90b",
   "metadata": {},
   "source": [
    "If you want to do more with your graph data, visit the [Memgraph MAGE](https://github.com/memgraph/mage) graph library (and throw us a star ⭐) and take a look at all of the graph algorithms that have been implemented. You can also implement and submit your own algorithms and utility procedures.\n"
   ]
  },
  {
   "cell_type": "markdown",
   "id": "5d4d4319",
   "metadata": {},
   "source": [
    "## 10. Visualizing the graph in Memgraph Lab\n",
    "\n",
    "Open Memgraph Lab in your browser on the address [localhost:3000](localhost:3000).\n",
    "Execute the following Cypher query:\n",
    "\n",
    "```cypher\n",
    "MATCH (n)-[r]-()\n",
    "RETURN n, r;\n",
    "```\n"
   ]
  },
  {
   "cell_type": "markdown",
   "id": "fbbd74c8",
   "metadata": {},
   "source": [
    "## What's next?\n",
    "\n",
    "Now it's time for you to use Memgraph on a graph problem!\n",
    "\n",
    "You can always check out [Memgraph Playground](https://playground.memgraph.com/) for some cool use cases and examples.\n",
    "If you have any questions or want to share your work with the rest of the community, join our **[Discord Server](https://discord.gg/memgraph)**.\n"
   ]
  }
 ],
 "metadata": {
  "kernelspec": {
   "display_name": "Python 3 (ipykernel)",
   "language": "python",
   "name": "python3"
  },
  "language_info": {
   "codemirror_mode": {
    "name": "ipython",
    "version": 3
   },
   "file_extension": ".py",
   "mimetype": "text/x-python",
   "name": "python",
   "nbconvert_exporter": "python",
   "pygments_lexer": "ipython3",
   "version": "3.9.7"
  }
 },
 "nbformat": 4,
 "nbformat_minor": 5
}
