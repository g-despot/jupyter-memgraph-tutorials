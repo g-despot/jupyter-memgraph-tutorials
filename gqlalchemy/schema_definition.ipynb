{
 "cells": [
  {
   "cell_type": "markdown",
   "id": "b50a0dba",
   "metadata": {},
   "source": [
    "# How to define a graph schema with GQLAlchemy? \n",
    "\n",
    "Through this short tutorial, you will learn how to install Memgraph, connect to it from a Jupyter Notebook and use the GQLAlchemy library to create nodes and relationships in Memgraph.\n",
    "\n",
    "## 1. Prerequisites\n",
    "\n",
    "For this tutorial, you will need to install:\n",
    "- [Jupyter](https://jupyter.org/install)\n",
    "- [Docker](https://docs.docker.com/get-docker/)\n",
    "\n",
    "Docker is used because Memgraph is a native Linux application and cannot be installed on Windows and macOS."
   ]
  },
  {
   "cell_type": "markdown",
   "id": "d81bb720",
   "metadata": {},
   "source": [
    "## 2. Installation using Docker\n",
    "\n",
    "After you install Docker, you can set up Memgraph by running:\n",
    "\n",
    "```\n",
    "docker run -it -p 7687:7687 -p 3000:3000 memgraph/memgraph-platform\n",
    "```\n",
    "\n",
    "This command will start the download and after it finishes, run the Memgraph container."
   ]
  },
  {
   "cell_type": "markdown",
   "id": "2c53ab73",
   "metadata": {},
   "source": [
    "## 3. Connecting to Memgraph with GQLAlchemy\n",
    "\n",
    "We will be using the **GQLAlchemy** object graph mapper (OGM) to connect to Memgraph and execute **Cypher** queries easily. GQLAlchemy also serves as a Python driver/client for Memgraph. You can install it using:\n",
    "\n",
    "```\n",
    "pip install gqlalchemy\n",
    "```\n",
    "\n",
    "> **Hint**: You may need to install [CMake](https://cmake.org/download/) before installing GQLAlchemy.\n",
    "\n",
    "Maybe you got confused when I mentioned Cypher. You can think of Cypher as SQL for graph databases. It contains many of the same language constructs like `CREATE`, `UPDATE`, `DELETE`... and it's used to query the database."
   ]
  },
  {
   "cell_type": "code",
   "execution_count": 15,
   "id": "d6e35b90",
   "metadata": {},
   "outputs": [],
   "source": [
    "from gqlalchemy import Memgraph"
   ]
  },
  {
   "cell_type": "code",
   "execution_count": 16,
   "id": "17b8101a",
   "metadata": {},
   "outputs": [],
   "source": [
    "memgraph = Memgraph(\"127.0.0.1\", 7687)"
   ]
  },
  {
   "cell_type": "markdown",
   "id": "743d7b6b",
   "metadata": {},
   "source": [
    "Let's make sure that Memgraph is empty before we start with anything else."
   ]
  },
  {
   "cell_type": "code",
   "execution_count": 17,
   "id": "5746a3bb",
   "metadata": {},
   "outputs": [],
   "source": [
    "memgraph.drop_database()"
   ]
  },
  {
   "cell_type": "markdown",
   "id": "5010d156",
   "metadata": {},
   "source": [
    "## 4. Creating nodes\n",
    "\n",
    "First, we will need to create a class that will inherit from `gqlalchemy.Node`. Then, we can just create instances of the class and call their `save()` method to store them in the database:"
   ]
  },
  {
   "cell_type": "code",
   "execution_count": 18,
   "id": "b34cac6b",
   "metadata": {},
   "outputs": [
    {
     "data": {
      "text/plain": [
       "<User id=1964 labels={'User'} properties={'id': 1, 'name': 'Leslie'}>"
      ]
     },
     "execution_count": 18,
     "metadata": {},
     "output_type": "execute_result"
    }
   ],
   "source": [
    "from typing import Optional\n",
    "from gqlalchemy import Node, Field\n",
    "\n",
    "\n",
    "class User(Node):\n",
    "    id: int = Field(index=True, unique=True, db=memgraph)\n",
    "    name: Optional[str] = Field()\n",
    "        \n",
    "u1 = User(id=0, name='Ron')\n",
    "u2 = User(id=1, name='Leslie')\n",
    "\n",
    "u1.save(memgraph)\n",
    "u2.save(memgraph)"
   ]
  },
  {
   "cell_type": "markdown",
   "id": "348b694e",
   "metadata": {},
   "source": [
    "What’s going on here:\n",
    "\n",
    "- `Node` is a Python class that maps to a graph object in `Memgraph`.\n",
    "- Classes that inherit from `Node` map to a single label in the graph database.\n",
    "- In this case, the class `User` maps to the label `:User`.\n",
    "- The properties `id` and `name` are mapped to properties of the nodes labeled `User` in the graph database, their types must be defined and are enforced.\n",
    "- If the type of the property is missing the `Optional` keyword, then it can’t be `None` or missing.\n",
    "- `Field` is a function from pydantic that you can use to define constraints in the graph database like uniqueness constraints, indexes and existence constraints.\n",
    "- Whenever you provide a constraint to the `Field` function, you have to provide a `Memgraph` object in the `db` argument as well, so those constraints can be enforced.\n",
    "- In this instance, a uniqueness constraint and an index are added to Memgraph on the label `User` and the property `id` .\n",
    "- `u1` is a `User` object that is created and saved to `Memgraph` in the following Cypher form: `(john1 :User {id: 1, name: \"John\"})`."
   ]
  },
  {
   "cell_type": "markdown",
   "id": "d46b4c05",
   "metadata": {},
   "source": [
    "## 4. Creating relationships\n",
    "\n",
    "First, we will need to create a class that will inherit from `gqlalchemy.Relationship`. Then, we can just create instances of the class and call their `save()` method to store them in the database:"
   ]
  },
  {
   "cell_type": "code",
   "execution_count": 20,
   "id": "7da3d5a7",
   "metadata": {},
   "outputs": [
    {
     "data": {
      "text/plain": [
       "<Follows id=83 start_node_id=1963 end_node_id=1964 nodes=(1963, 1964) type=FOLLOWS properties={}>"
      ]
     },
     "execution_count": 20,
     "metadata": {},
     "output_type": "execute_result"
    }
   ],
   "source": [
    "from gqlalchemy import Relationship\n",
    "from datetime import datetime\n",
    "\n",
    "\n",
    "class Follows(Relationship, type='FOLLOWS'):\n",
    "    pass\n",
    "\n",
    "follows = Follows(\n",
    "    _start_node_id=u1._id,\n",
    "    _end_node_id=u2._id,\n",
    ")\n",
    "follows.save(memgraph)"
   ]
  },
  {
   "cell_type": "markdown",
   "id": "b23b64f6",
   "metadata": {},
   "source": [
    "What’s going on here:\n",
    "\n",
    "- `Relationship` is a Python class that maps to a graph object in `Memgraph`.\n",
    "- Classes that inherit from `Relationship` map to a single type in the graph database.\n",
    "- In this case, the class `Follows` maps to the type `:FOLLOWS`.\n",
    "- The relationship has ne properties, but they can be added the same way as with the `User` class.\n",
    "- When creating a relationship, the arguments `_start_node_id` and `_end_node_id` have to be specified."
   ]
  },
  {
   "cell_type": "markdown",
   "id": "fbbd74c8",
   "metadata": {},
   "source": [
    "## What's next?\n",
    "\n",
    "Now it's time for you to use Memgraph on a graph problem!\n",
    "\n",
    "You can always check out [Memgraph Playground](https://playground.memgraph.com/) for some cool use cases and examples.\n",
    "If you need some help with GQLAlchemy, don't forget to check out the docs"
   ]
  }
 ],
 "metadata": {
  "kernelspec": {
   "display_name": "Python 3 (ipykernel)",
   "language": "python",
   "name": "python3"
  },
  "language_info": {
   "codemirror_mode": {
    "name": "ipython",
    "version": 3
   },
   "file_extension": ".py",
   "mimetype": "text/x-python",
   "name": "python",
   "nbconvert_exporter": "python",
   "pygments_lexer": "ipython3",
   "version": "3.9.7"
  }
 },
 "nbformat": 4,
 "nbformat_minor": 5
}
