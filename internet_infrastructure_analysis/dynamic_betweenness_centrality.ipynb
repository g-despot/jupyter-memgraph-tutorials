{
 "cells": [
  {
   "cell_type": "markdown",
   "source": [
    "#### Preliminaries"
   ],
   "metadata": {
    "collapsed": false,
    "pycharm": {
     "name": "#%% md\n"
    }
   }
  },
  {
   "cell_type": "markdown",
   "source": [
    "First, let’s connect to our instance of Memgraph with gqlalchemy and load the dataset."
   ],
   "metadata": {
    "collapsed": false,
    "pycharm": {
     "name": "#%% md\n"
    }
   }
  },
  {
   "cell_type": "code",
   "execution_count": 1,
   "outputs": [],
   "source": [
    "from gqlalchemy import Memgraph"
   ],
   "metadata": {
    "collapsed": false,
    "pycharm": {
     "name": "#%%\n"
    }
   }
  },
  {
   "cell_type": "code",
   "execution_count": 2,
   "outputs": [],
   "source": [
    "def load_dataset(path: str):\n",
    "    with open(path, mode='r') as dataset:\n",
    "        for statement in dataset:\n",
    "            memgraph.execute(statement)"
   ],
   "metadata": {
    "collapsed": false,
    "pycharm": {
     "name": "#%%\n"
    }
   }
  },
  {
   "cell_type": "code",
   "execution_count": 3,
   "outputs": [],
   "source": [
    "memgraph = Memgraph(\"127.0.0.1\", 7687)    # connect to running instance\n",
    "memgraph.drop_database()                  # make sure it’s empty\n",
    "load_dataset('data/input.cyp')            # load dataset"
   ],
   "metadata": {
    "collapsed": false,
    "pycharm": {
     "name": "#%%\n"
    }
   }
  },
  {
   "cell_type": "markdown",
   "source": [
    "#### Example"
   ],
   "metadata": {
    "collapsed": false,
    "pycharm": {
     "name": "#%% md\n"
    }
   }
  },
  {
   "cell_type": "markdown",
   "source": [
    "With everything set up, calling the `betweenness_centrality_online` module is a matter of a single Cypher query. \n",
    "As we are analyzing how changes affect the undersea internet cable network, we save the computed betweenness centrality scores for later. "
   ],
   "metadata": {
    "collapsed": false,
    "pycharm": {
     "name": "#%% md\n"
    }
   }
  },
  {
   "cell_type": "code",
   "execution_count": 4,
   "outputs": [],
   "source": [
    "memgraph.execute(\n",
    "    \"\"\"\n",
    "    CALL betweenness_centrality_online.set()\n",
    "    YIELD node, betweenness_centrality\n",
    "    SET node.bc = betweenness_centrality;\n",
    "    \"\"\"\n",
    ")"
   ],
   "metadata": {
    "collapsed": false,
    "pycharm": {
     "name": "#%%\n"
    }
   }
  },
  {
   "cell_type": "markdown",
   "source": [
    "Let’s see which landing points have the highest betweenness centrality score in the network:"
   ],
   "metadata": {
    "collapsed": false,
    "pycharm": {
     "name": "#%% md\n"
    }
   }
  },
  {
   "cell_type": "code",
   "execution_count": 5,
   "outputs": [
    {
     "name": "stdout",
     "output_type": "stream",
     "text": [
      "{'id': 15, 'name': 'Tuas, Singapore', 'bc_score': 0.29099145440251284}\n",
      "{'id': 16, 'name': 'Fortaleza, Brazil', 'bc_score': 0.1380757216343068}\n",
      "{'id': 467, 'name': 'Toucheng, Taiwan', 'bc_score': 0.13361801370831092}\n",
      "{'id': 62, 'name': 'Manado, Indonesia', 'bc_score': 0.12915295031722296}\n",
      "{'id': 123, 'name': 'Balboa, Panama', 'bc_score': 0.127837144605276}\n"
     ]
    }
   ],
   "source": [
    "most_central = memgraph.execute_and_fetch(\n",
    "    \"\"\"\n",
    "    MATCH (n: Node)\n",
    "    RETURN n.id AS id, n.name AS name, n.bc AS bc_score\n",
    "    ORDER BY bc_score DESC, name ASC\n",
    "    LIMIT 5;\n",
    "    \"\"\"\n",
    ")\n",
    "for node in most_central:\n",
    "    print(node)"
   ],
   "metadata": {
    "collapsed": false,
    "pycharm": {
     "name": "#%%\n"
    }
   }
  },
  {
   "cell_type": "markdown",
   "source": [
    "Two of the above results, Singapore and Panama, have become international trade hubs owing to their favorable geographic position. They are highly influential nodes in other networks as well."
   ],
   "metadata": {
    "collapsed": false,
    "pycharm": {
     "name": "#%% md\n"
    }
   }
  },
  {
   "cell_type": "markdown",
   "source": [
    "#### Dynamic operation"
   ],
   "metadata": {
    "collapsed": false,
    "pycharm": {
     "name": "#%% md\n"
    }
   }
  },
  {
   "cell_type": "markdown",
   "source": [
    "This part brings us to MAGE’s newest algorithm – [**iCentral**](https://repository.kaust.edu.sa/bitstream/handle/10754/625935/08070346.pdf) dynamic betweenness centrality by [Jamour](http://www.fuadjamour.com/) et al.\n",
    "After each graph update, iCentral can be run to update previously computed values without having to process the entire graph, going hand in hand with Memgraph’s **graph streaming** capabilities.\n",
    "\n",
    "You can set this up in Memgraph with [**triggers**](https://memgraph.com/docs/memgraph/reference-guide/triggers) – pieces of Cypher code that run after database transactions."
   ],
   "metadata": {
    "collapsed": false,
    "pycharm": {
     "name": "#%% md\n"
    }
   }
  },
  {
   "cell_type": "code",
   "execution_count": 6,
   "outputs": [],
   "source": [
    "memgraph.execute(\n",
    "    \"\"\"\n",
    "    CREATE TRIGGER update_bc \n",
    "    BEFORE COMMIT EXECUTE \n",
    "        CALL betweenness_centrality_online.update(createdVertices, createdEdges, deletedVertices, deletedEdges) \n",
    "        YIELD *;\n",
    "    \"\"\"\n",
    ")"
   ],
   "metadata": {
    "collapsed": false,
    "pycharm": {
     "name": "#%%\n"
    }
   }
  },
  {
   "cell_type": "markdown",
   "source": [
    "Let’s see now what happens when a shark (or something else) cuts off a submarine internet cable."
   ],
   "metadata": {
    "collapsed": false,
    "pycharm": {
     "name": "#%% md\n"
    }
   }
  },
  {
   "cell_type": "markdown",
   "source": [
    "![](images/shark.png)"
   ],
   "metadata": {
    "collapsed": false,
    "pycharm": {
     "name": "#%% md\n"
    }
   }
  },
  {
   "cell_type": "code",
   "execution_count": 7,
   "outputs": [],
   "source": [
    "memgraph.execute(\"\"\"MATCH (n {name: \"Tuas, Singapore\"})-[e]-(m {name: \"Jeddah, Saudi Arabia\"}) DELETE e;\"\"\")"
   ],
   "metadata": {
    "collapsed": false,
    "pycharm": {
     "name": "#%%\n"
    }
   }
  },
  {
   "cell_type": "markdown",
   "source": [
    "The above transaction activates the `update_bc` trigger, and previously computed betweenness centrality scores are updated using iCentral.\n",
    "\n",
    "With the cable out of function, internet data must be transmitted over different routes. Some nodes in the network are bound to experience increased strain and internet speed might thus deteriorate. These nodes likely saw their betweenness centrality score increase. To inspect that, we’ll retrieve the new scores with `betweenness_centrality_online.get()` and compare them with the previously saved ones."
   ],
   "metadata": {
    "collapsed": false,
    "pycharm": {
     "name": "#%% md\n"
    }
   }
  },
  {
   "cell_type": "code",
   "execution_count": 8,
   "outputs": [
    {
     "name": "stdout",
     "output_type": "stream",
     "text": [
      "{'id': 111, 'name': 'Jeddah, Saudi Arabia', 'old_bc': 0.061933737931979434, 'bc': 0.004773934386713372, 'delta': -0.057159803545266064}\n",
      "{'id': 352, 'name': 'Songkhla, Thailand', 'old_bc': 0.05259842296405679, 'bc': 0.07514804741735284, 'delta': 0.02254962445329605}\n",
      "{'id': 15, 'name': 'Tuas, Singapore', 'old_bc': 0.29099145440251284, 'bc': 0.2730690696075149, 'delta': -0.017922384794997914}\n",
      "{'id': 175, 'name': 'Yanbu, Saudi Arabia', 'old_bc': 0.06483588246822349, 'bc': 0.0756199291423186, 'delta': 0.010784046674095119}\n",
      "{'id': 210, 'name': 'Dakar, Senegal', 'old_bc': 0.08708567541545127, 'bc': 0.0941236276148527, 'delta': 0.007037952199401426}\n"
     ]
    }
   ],
   "source": [
    "highest_deltas = memgraph.execute_and_fetch(\n",
    "    \"\"\"\n",
    "    CALL betweenness_centrality_online.get()\n",
    "    YIELD node, betweenness_centrality\n",
    "    RETURN \n",
    "        node.id AS id,\n",
    "        node.name AS name, \n",
    "        node.bc AS old_bc,\n",
    "        betweenness_centrality AS bc,\n",
    "        betweenness_centrality - node.bc AS delta\n",
    "    ORDER BY abs(delta) DESC, name ASC\n",
    "    LIMIT 5;\n",
    "    \"\"\"\n",
    ")\n",
    "for result in highest_deltas:\n",
    "    print(result)\n",
    "\n",
    "memgraph.execute(\"DROP TRIGGER update_bc;\")"
   ],
   "metadata": {
    "collapsed": false,
    "pycharm": {
     "name": "#%%\n"
    }
   }
  },
  {
   "cell_type": "markdown",
   "source": [
    "As seen above, the network landing point in Songkhla, Thailand had its score increase by **42.87%** after the update. Conversely, other landing points became less connected to the rest of the network: the centrality of the Jeddah node in Saudi Arabia almost dropped to zero."
   ],
   "metadata": {
    "collapsed": false,
    "pycharm": {
     "name": "#%% md\n"
    }
   }
  },
  {
   "cell_type": "markdown",
   "source": [
    "#### Performance"
   ],
   "metadata": {
    "collapsed": false,
    "pycharm": {
     "name": "#%% md\n"
    }
   }
  },
  {
   "cell_type": "markdown",
   "source": [
    "iCentral builds upon the Brandes algorithm and adds the following improvements in order to improve performance:\n",
    "* **Process only the nodes whose betweenness centrality values change**: after an update, betweenness centrality scores stay the same outside the affected [biconnected component](https://memgraph.com/docs/mage/algorithms/traditional-graph-analytics/biconnected-components-algorithm).\n",
    "* **Avoid repeating shortest-path calculations**: use prior output if it’s possible to tell it’s still valid; if new shortest paths are needed, update the prior ones instead of recomputing.\n",
    "    * Breadth-first search for computing graph dependencies does not need to be done out of nodes equidistant to both endpoints of the updated edge.\n",
    "    * The BFS tree used for computing new graph dependencies (the contributions of a node to other nodes’ scores) can be determined from the tree obtained while computing old graph dependencies."
   ],
   "metadata": {
    "collapsed": false,
    "pycharm": {
     "name": "#%% md\n"
    }
   }
  },
  {
   "cell_type": "code",
   "execution_count": 9,
   "outputs": [
    {
     "name": "stdout",
     "output_type": "stream",
     "text": [
      "{'bcc_id': 0, 'from_id': 10, 'from_name': 'Telisai, Brunei', 'to_id': 11, 'to_name': 'Chung Hom Kok, China'}\n",
      "{'bcc_id': 1, 'from_id': 695, 'from_name': 'Wenchang, China', 'to_id': 696, 'to_name': 'Zhuhai, China'}\n",
      "{'bcc_id': 2, 'from_id': 11, 'from_name': 'Chung Hom Kok, China', 'to_id': 695, 'to_name': 'Wenchang, China'}\n",
      "{'bcc_id': 3, 'from_id': 72, 'from_name': 'Agats, Indonesia', 'to_id': 73, 'to_name': 'Baa, Indonesia'}\n",
      "{'bcc_id': 4, 'from_id': 73, 'from_name': 'Baa, Indonesia', 'to_id': 74, 'to_name': 'Kep. Aru, Indonesia'}\n",
      "{'bcc_id': 5, 'from_id': 74, 'from_name': 'Kep. Aru, Indonesia', 'to_id': 75, 'to_name': 'Kokar, Indonesia'}\n",
      "{'bcc_id': 6, 'from_id': 75, 'from_name': 'Kokar, Indonesia', 'to_id': 76, 'to_name': 'Kota Mappi, Indonesia'}\n",
      "{'bcc_id': 7, 'from_id': 76, 'from_name': 'Kota Mappi, Indonesia', 'to_id': 77, 'to_name': 'Kupang, Indonesia'}\n",
      "{'bcc_id': 8, 'from_id': 77, 'from_name': 'Kupang, Indonesia', 'to_id': 838, 'to_name': 'Alor, Indonesia'}\n",
      "{'bcc_id': 9, 'from_id': 731, 'from_name': 'Labuan Bajo, Indonesia', 'to_id': 732, 'to_name': 'Sape, Indonesia'}\n",
      "{'bcc_id': 10, 'from_id': 77, 'from_name': 'Kupang, Indonesia', 'to_id': 731, 'to_name': 'Labuan Bajo, Indonesia'}\n",
      "{'bcc_id': 11, 'from_id': 552, 'from_name': 'Bima, Indonesia', 'to_id': 553, 'to_name': 'Ende, Indonesia'}\n",
      "{'bcc_id': 12, 'from_id': 77, 'from_name': 'Kupang, Indonesia', 'to_id': 553, 'to_name': 'Ende, Indonesia'}\n",
      "{'bcc_id': 13, 'from_id': 131, 'from_name': 'Broadstairs, United Kingdom', 'to_id': 132, 'to_name': 'Winterton-on-Sea, United Kingdom'}\n",
      "{'bcc_id': 14, 'from_id': 129, 'from_name': 'Ostend, Belgium', 'to_id': 130, 'to_name': 'Callantsoog, Netherlands'}\n"
     ]
    }
   ],
   "source": [
    "bcc_partition = memgraph.execute_and_fetch(\n",
    "    \"\"\"\n",
    "    CALL biconnected_components.get()\n",
    "    YIELD bcc_id, node_from, node_to\n",
    "    RETURN\n",
    "        bcc_id,\n",
    "        node_from.id AS from_id,\n",
    "        node_from.name AS from_name,\n",
    "        node_to.id AS to_id,\n",
    "        node_to.name AS to_name\n",
    "    LIMIT 15;\n",
    "    \"\"\"\n",
    ")\n",
    "for relationship in bcc_partition:\n",
    "    print(relationship)"
   ],
   "metadata": {
    "collapsed": false,
    "pycharm": {
     "name": "#%%\n"
    }
   }
  }
 ],
 "metadata": {
  "kernelspec": {
   "display_name": "Python 3 (ipykernel)",
   "language": "python",
   "name": "python3"
  },
  "language_info": {
   "codemirror_mode": {
    "name": "ipython",
    "version": 3
   },
   "file_extension": ".py",
   "mimetype": "text/x-python",
   "name": "python",
   "nbconvert_exporter": "python",
   "pygments_lexer": "ipython3",
   "version": "3.9.7"
  }
 },
 "nbformat": 4,
 "nbformat_minor": 1
}