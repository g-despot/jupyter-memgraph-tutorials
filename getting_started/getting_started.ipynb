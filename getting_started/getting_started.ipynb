{
 "cells": [
  {
   "cell_type": "markdown",
   "id": "b50a0dba",
   "metadata": {},
   "source": [
    "# How to play with Memgraph in a Jupyter Notebook? \n",
    "\n",
    "Through this short tutorial, you will learn how to install Memgraph, connect to it from a Jupyter Notebook and perform data analysis using graph algorithms.\n",
    "\n",
    "## 1. Prerequisites\n",
    "\n",
    "For this tutorial, you will need to install:\n",
    "- [Jupyter](https://jupyter.org/install)\n",
    "- [Docker](https://docs.docker.com/get-docker/)\n",
    "\n",
    "Docker is used because Memgraph is a native Linux application and cannot be installed on Windows and macOS."
   ]
  },
  {
   "cell_type": "markdown",
   "id": "d81bb720",
   "metadata": {},
   "source": [
    "## 2. Installation using Docker\n",
    "\n",
    "After you install Docker, you can set up Memgraph by running:\n",
    "\n",
    "```\n",
    "docker run -it -p 7687:7687 -p 3000:3000 memgraph/memgraph-platform\n",
    "```\n",
    "\n",
    "This command will start the download and after it finishes, run the Memgraph container."
   ]
  },
  {
   "cell_type": "markdown",
   "id": "2c53ab73",
   "metadata": {},
   "source": [
    "## 3. Connecting to Memgraph with GQLAlchemy\n",
    "\n",
    "We will be using the **GQLAlchemy** object graph mapper (OGM) to connect to Memgraph and execute **Cypher** queries easily. GQLAlchemy also serves as a Python driver/client for Memgraph. You can install it using:\n",
    "\n",
    "```\n",
    "pip install gqlalchemy\n",
    "```\n",
    "\n",
    "> **Hint**: You may need to install [CMake](https://cmake.org/download/) before installing GQLAlchemy.\n",
    "\n",
    "Maybe you got confused when I mentioned Cypher. You can think of Cypher as SQL for graph databases. It contains many of the same language constructs like `CREATE`, `UPDATE`, `DELETE`... and it's used to query the database."
   ]
  },
  {
   "cell_type": "code",
   "execution_count": 1,
   "id": "d6e35b90",
   "metadata": {},
   "outputs": [],
   "source": [
    "from gqlalchemy import Memgraph"
   ]
  },
  {
   "cell_type": "code",
   "execution_count": 2,
   "id": "17b8101a",
   "metadata": {},
   "outputs": [],
   "source": [
    "memgraph = Memgraph(\"127.0.0.1\", 7687)"
   ]
  },
  {
   "cell_type": "markdown",
   "id": "743d7b6b",
   "metadata": {},
   "source": [
    "Let's make sure that Memgraph is empty before we start with anything else."
   ]
  },
  {
   "cell_type": "code",
   "execution_count": 3,
   "id": "5746a3bb",
   "metadata": {},
   "outputs": [],
   "source": [
    "memgraph.drop_database()"
   ]
  },
  {
   "cell_type": "markdown",
   "id": "3d9da1f4",
   "metadata": {},
   "source": [
    "## 4. Importing data from CSV files\n",
    "\n",
    "You will need to download [this file](https://github.com/g-despot/jupyter-memgraph-tutorials/blob/main/karate-club.csv) which contains a simple dataset called Zachary's karate club. To import it into Memgraph, we will first need to copy it to the Docker container where Memgraph is running. \n",
    "Find the `CONTAINER_ID` by running:\n",
    "\n",
    "```\n",
    "docker ps\n",
    "```\n",
    "\n",
    "Copy the file with the following command (don't forget to replace `CONTAINER_ID`):\n",
    "\n",
    "```\n",
    "docker cp karate-club.csv CONTAINER_ID:karate-club.csv\n",
    "```\n",
    "\n",
    "Now, we can execute the Cypher command `LOAD CSV`, which is used for loading data from CSV files:"
   ]
  },
  {
   "cell_type": "code",
   "execution_count": 4,
   "id": "b34cac6b",
   "metadata": {},
   "outputs": [],
   "source": [
    "memgraph.execute(\"\"\"\n",
    "    LOAD CSV FROM \"/karate-club.csv\" NO HEADER AS row\n",
    "    MERGE (p1:Person {id: row[0]})\n",
    "    MERGE (p2:Person {id: row[1]})\n",
    "    MERGE (p1)-[:FRIENDS_WITH]->(p2);\n",
    "\"\"\")"
   ]
  },
  {
   "cell_type": "markdown",
   "id": "d46b4c05",
   "metadata": {},
   "source": [
    "## 5. Querying the database and retrieving results\n",
    "\n",
    "Let's make sure that our data was imported correctly by retrieving it:"
   ]
  },
  {
   "cell_type": "code",
   "execution_count": 5,
   "id": "7da3d5a7",
   "metadata": {},
   "outputs": [],
   "source": [
    "results = memgraph.execute_and_fetch(\"\"\"\n",
    "    MATCH (p1:Person)\n",
    "    RETURN p1\n",
    "    ORDER BY ToInteger(p1.id) ASC;\n",
    "\"\"\")"
   ]
  },
  {
   "cell_type": "code",
   "execution_count": 6,
   "id": "3cfb2c13",
   "metadata": {},
   "outputs": [
    {
     "name": "stdout",
     "output_type": "stream",
     "text": [
      "<Node id=1730 labels={'Person'} properties={'id': '1'}>\n",
      "<Node id=1731 labels={'Person'} properties={'id': '2'}>\n",
      "<Node id=1732 labels={'Person'} properties={'id': '3'}>\n",
      "<Node id=1733 labels={'Person'} properties={'id': '4'}>\n",
      "<Node id=1734 labels={'Person'} properties={'id': '5'}>\n",
      "<Node id=1735 labels={'Person'} properties={'id': '6'}>\n",
      "<Node id=1736 labels={'Person'} properties={'id': '7'}>\n",
      "<Node id=1737 labels={'Person'} properties={'id': '8'}>\n",
      "<Node id=1738 labels={'Person'} properties={'id': '9'}>\n",
      "<Node id=1739 labels={'Person'} properties={'id': '10'}>\n",
      "<Node id=1740 labels={'Person'} properties={'id': '11'}>\n",
      "<Node id=1741 labels={'Person'} properties={'id': '12'}>\n",
      "<Node id=1742 labels={'Person'} properties={'id': '13'}>\n",
      "<Node id=1743 labels={'Person'} properties={'id': '14'}>\n",
      "<Node id=1758 labels={'Person'} properties={'id': '15'}>\n",
      "<Node id=1759 labels={'Person'} properties={'id': '16'}>\n",
      "<Node id=1744 labels={'Person'} properties={'id': '17'}>\n",
      "<Node id=1745 labels={'Person'} properties={'id': '18'}>\n",
      "<Node id=1760 labels={'Person'} properties={'id': '19'}>\n",
      "<Node id=1746 labels={'Person'} properties={'id': '20'}>\n",
      "<Node id=1761 labels={'Person'} properties={'id': '21'}>\n",
      "<Node id=1747 labels={'Person'} properties={'id': '22'}>\n",
      "<Node id=1762 labels={'Person'} properties={'id': '23'}>\n",
      "<Node id=1748 labels={'Person'} properties={'id': '24'}>\n",
      "<Node id=1750 labels={'Person'} properties={'id': '25'}>\n",
      "<Node id=1749 labels={'Person'} properties={'id': '26'}>\n",
      "<Node id=1754 labels={'Person'} properties={'id': '27'}>\n",
      "<Node id=1751 labels={'Person'} properties={'id': '28'}>\n",
      "<Node id=1752 labels={'Person'} properties={'id': '29'}>\n",
      "<Node id=1753 labels={'Person'} properties={'id': '30'}>\n",
      "<Node id=1755 labels={'Person'} properties={'id': '31'}>\n",
      "<Node id=1756 labels={'Person'} properties={'id': '32'}>\n",
      "<Node id=1757 labels={'Person'} properties={'id': '33'}>\n",
      "<Node id=1763 labels={'Person'} properties={'id': '34'}>\n"
     ]
    }
   ],
   "source": [
    "for result in results:\n",
    "    print(result['p1'])"
   ]
  },
  {
   "cell_type": "markdown",
   "id": "0e87b224",
   "metadata": {},
   "source": [
    "## 6. Calculating PageRank\n",
    "\n",
    "Now, let's do something clever with our graph. \n",
    "For example, calculating PageRank for each node:"
   ]
  },
  {
   "cell_type": "code",
   "execution_count": 7,
   "id": "1a868444",
   "metadata": {},
   "outputs": [],
   "source": [
    "results = memgraph.execute_and_fetch(\"\"\"\n",
    "    CALL pagerank.get()\n",
    "    YIELD node, rank\n",
    "    RETURN node, rank;\n",
    "\"\"\")"
   ]
  },
  {
   "cell_type": "code",
   "execution_count": 8,
   "id": "bcc07704",
   "metadata": {},
   "outputs": [
    {
     "name": "stdout",
     "output_type": "stream",
     "text": [
      "The PageRank of node  1 :  0.015060494762879958\n",
      "The PageRank of node  2 :  0.015860583547157955\n",
      "The PageRank of node  3 :  0.01754577054904349\n",
      "The PageRank of node  4 :  0.01941000866987936\n",
      "The PageRank of node  5 :  0.015860583547157955\n",
      "The PageRank of node  6 :  0.015860583547157955\n",
      "The PageRank of node  7 :  0.027095163559728172\n",
      "The PageRank of node  8 :  0.02490951112634518\n",
      "The PageRank of node  9 :  0.017724821667993825\n",
      "The PageRank of node  10 :  0.016924732883715828\n",
      "The PageRank of node  11 :  0.027095163559728172\n",
      "The PageRank of node  12 :  0.015860583547157955\n",
      "The PageRank of node  13 :  0.021360086003623775\n",
      "The PageRank of node  14 :  0.02490951112634518\n",
      "The PageRank of node  17 :  0.04258521579367699\n",
      "The PageRank of node  18 :  0.01754577054904349\n",
      "The PageRank of node  20 :  0.01754577054904349\n",
      "The PageRank of node  22 :  0.01754577054904349\n",
      "The PageRank of node  24 :  0.015060494762879958\n",
      "The PageRank of node  26 :  0.02188791905538554\n",
      "The PageRank of node  25 :  0.015060494762879958\n",
      "The PageRank of node  28 :  0.02375215717622141\n",
      "The PageRank of node  29 :  0.016924732883715828\n",
      "The PageRank of node  30 :  0.02402148914679353\n",
      "The PageRank of node  27 :  0.015060494762879958\n",
      "The PageRank of node  31 :  0.021767714570697073\n",
      "The PageRank of node  32 :  0.045925466402630885\n",
      "The PageRank of node  33 :  0.09548933597150853\n",
      "The PageRank of node  15 :  0.015060494762879958\n",
      "The PageRank of node  16 :  0.015060494762879958\n",
      "The PageRank of node  19 :  0.015060494762879958\n",
      "The PageRank of node  21 :  0.015060494762879958\n",
      "The PageRank of node  23 :  0.015060494762879958\n",
      "The PageRank of node  34 :  0.25904710115128515\n"
     ]
    }
   ],
   "source": [
    "for result in results:\n",
    "    print(\"The PageRank of node \", result['node'].properties['id'], \": \", result['rank'])"
   ]
  },
  {
   "cell_type": "markdown",
   "id": "ad1aa5bb",
   "metadata": {},
   "source": [
    "## 7. Calculating betweenness centrality\n",
    "\n",
    "You probably get the gist now: "
   ]
  },
  {
   "cell_type": "code",
   "execution_count": 9,
   "id": "f2f7c774",
   "metadata": {},
   "outputs": [],
   "source": [
    "results = memgraph.execute_and_fetch(\"\"\"\n",
    "    CALL betweenness_centrality.get()\n",
    "    YIELD node, betweenness_centrality\n",
    "    RETURN node, betweenness_centrality;\n",
    "\"\"\")"
   ]
  },
  {
   "cell_type": "code",
   "execution_count": 10,
   "id": "7e576242",
   "metadata": {},
   "outputs": [
    {
     "name": "stdout",
     "output_type": "stream",
     "text": [
      "The betweenness centrality of node  1 :  0.0\n",
      "The betweenness centrality of node  2 :  0.0004734848484848485\n",
      "The betweenness centrality of node  3 :  0.008364898989898988\n",
      "The betweenness centrality of node  4 :  0.001893939393939394\n",
      "The betweenness centrality of node  5 :  0.0\n",
      "The betweenness centrality of node  6 :  0.0004734848484848485\n",
      "The betweenness centrality of node  7 :  0.0014204545454545455\n",
      "The betweenness centrality of node  8 :  0.0\n",
      "The betweenness centrality of node  9 :  0.002130681818181818\n",
      "The betweenness centrality of node  10 :  0.00015782828282828281\n",
      "The betweenness centrality of node  11 :  0.0\n",
      "The betweenness centrality of node  12 :  0.0\n",
      "The betweenness centrality of node  13 :  0.0\n",
      "The betweenness centrality of node  14 :  0.0016571969696969697\n",
      "The betweenness centrality of node  17 :  0.0\n",
      "The betweenness centrality of node  18 :  0.0\n",
      "The betweenness centrality of node  20 :  0.0005523989898989899\n",
      "The betweenness centrality of node  22 :  0.0\n",
      "The betweenness centrality of node  24 :  0.0\n",
      "The betweenness centrality of node  26 :  0.000946969696969697\n",
      "The betweenness centrality of node  25 :  0.0\n",
      "The betweenness centrality of node  28 :  0.0006313131313131313\n",
      "The betweenness centrality of node  29 :  0.002051767676767677\n",
      "The betweenness centrality of node  30 :  0.000946969696969697\n",
      "The betweenness centrality of node  27 :  0.0\n",
      "The betweenness centrality of node  31 :  0.0007891414141414141\n",
      "The betweenness centrality of node  32 :  0.004813762626262626\n",
      "The betweenness centrality of node  33 :  0.00015782828282828281\n",
      "The betweenness centrality of node  15 :  0.0\n",
      "The betweenness centrality of node  16 :  0.0\n",
      "The betweenness centrality of node  19 :  0.0\n",
      "The betweenness centrality of node  21 :  0.0\n",
      "The betweenness centrality of node  23 :  0.0\n",
      "The betweenness centrality of node  34 :  0.0\n"
     ]
    }
   ],
   "source": [
    "for result in results:\n",
    "    print(\"The betweenness centrality of node \", result['node'].properties['id'], \": \", result['betweenness_centrality'])"
   ]
  },
  {
   "cell_type": "markdown",
   "id": "ef5de90b",
   "metadata": {},
   "source": [
    "Visit the [Memgraph MAGE](https://github.com/memgraph/mage) graph library, which contains many other algorithms. You can also implement and submit your own algorithms and utility procedures."
   ]
  },
  {
   "cell_type": "markdown",
   "id": "fbbd74c8",
   "metadata": {},
   "source": [
    "## What's next?\n",
    "\n",
    "Now it's time for you to use Memgraph on a graph problem!\n",
    "\n",
    "You can always check out [Memgraph Playground](https://playground.memgraph.com/) for some cool use cases and examples.\n",
    "Definitely don't forget to register for the **[Memgraph App Challenge](https://memgraph.com/memgraph-app-challenge)** and check out **[what else you can work on](https://memgraph.com/memgraph-app-challenge#options)** if graph analysis with Jupyter is not your cup of tea."
   ]
  }
 ],
 "metadata": {
  "kernelspec": {
   "display_name": "Python 3 (ipykernel)",
   "language": "python",
   "name": "python3"
  },
  "language_info": {
   "codemirror_mode": {
    "name": "ipython",
    "version": 3
   },
   "file_extension": ".py",
   "mimetype": "text/x-python",
   "name": "python",
   "nbconvert_exporter": "python",
   "pygments_lexer": "ipython3",
   "version": "3.8.10"
  }
 },
 "nbformat": 4,
 "nbformat_minor": 5
}
