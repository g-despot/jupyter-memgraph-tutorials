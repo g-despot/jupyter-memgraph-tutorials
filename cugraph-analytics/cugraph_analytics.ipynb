{
 "cells": [
  {
   "cell_type": "markdown",
   "metadata": {},
   "source": [
    "# Running Graph Analytics on Large Scale Graphs Effortlessly with Nvidia and Memgraph \n",
    "\n",
    "This tutorial will show you how to use  **PageRank** graph analysis and **Louvain** community detection on a **Facebook dataset** containing 1.3 million relationships. Upon completing it, you will know how to run analytics algorithms on your dataset using **Python**. Then, you can run any of the following algorithms:\n",
    "* Balanced Cut (clustering)\n",
    "* Spectral Clustering (clustering)\n",
    "* HITS (hubs vs. authorities analytics)\n",
    "* Leiden (community detection)\n",
    "* Katz Centrality\n",
    "* Betweenness Centrality\n",
    "\n",
    "All of the algorithms above are powered by **[Nvidia cuGraph](https://rapids.ai/)** and they will execute on **GPU**.\n",
    "\n"
   ]
  },
  {
   "cell_type": "markdown",
   "metadata": {},
   "source": [
    "## Prerequisites\n",
    "\n",
    "To follow the tutorial, please install:\n",
    "- [Docker](https://docs.docker.com/get-docker/) - needed to run `memgraph/memgraph-mage:1.3-cugraph-22.02-cuda-11.5` image we use\n",
    "- [Jupyter](https://jupyter.org/install) - using jupyter-notebook you can write  `CSV` importing and graph analytics in one file\n",
    "- [GQLAlchemy](https://pypi.org/project/gqlalchemy/) - used to connect Memgraph with Python\n",
    "- [Memgraph Lab](https://memgraph.com/lab) - a GUI tool we use to visualize graphs\n",
    "\n",
    "Here are brief instructions on how to install everything you will need."
   ]
  },
  {
   "cell_type": "markdown",
   "source": [
    "### Memgraph with Docker\n",
    "We need *[Docker](https://www.docker.com/)* because Memgraph is a native Linux application and can't be installed on Windows and macOS. In this tutorial, we will use `memgraph/memgraph-mage:1.3-cugraph-22.02-cuda-11.5` Docker image. Check our [guide](https://memgraph.com/docs/mage/installation/cugraph) on setting everything up. Note, all `cuGraph` Docker images are available [here](https://hub.docker.com/r/memgraph/memgraph-mage/tags?page=1&name=cugraph). Depending on CUDA drivers on your machine, be sure to Download correct image. Check out compatibility between drivers and CUDA on official [NVIDIA page](https://docs.nvidia.com/deploy/cuda-compatibility/index.html).\n",
    "\n",
    "\n",
    "Before running the `memgraph/memgraph-mage:1.3-cugraph-22.02-cuda-11.5` image, position yourself inside the `jupyter-memgraph-tutorials/cugraph-analytics` folder with the terminal. When you get there, we’ll show you a nifty \"hack\" with the docker run command.\n",
    "\n",
    "\n",
    "All the data we need is inside `.csv` files, and Memgraph needs to have access to those files. But because we will run Memgraph within a Docker container and the files are currently on our machine, we need to transfer them inside the same container where the Memgraph will be running. So let's create a Docker volume by mounting our current `data/facebook_clean_data/` folder to the `/samples` folder inside the Docker containers. `.csv` files will be located inside the `/samples` folder within the Docker, where *Memgraph* will find them when needed.\n",
    "\n",
    "Now we can start the `Docker image` image:\n",
    "\n",
    "```\n",
    "docker run -it -p 7687:7687 -p 7444:7444 --volume ./data/facebook_clean_data/:/samples memgraph/memgraph-mage:1.3-cugraph-22.02-cuda-11.5\n",
    "```\n",
    "If successful, you should see a message similar to the following:\n",
    "```\n",
    "You are running Memgraph vX.X.X\n",
    "To get started with Memgraph, visit https://memgr.ph/start\n",
    "```\n",
    "\n",
    "### Jupyter notebook\n",
    "With Memgraph running, let’s install **Jupyter**. We used **jupyter-lab**, which you can install as follows:\n",
    "```\n",
    "pip install jupyterlab\n",
    "```\n",
    "\n",
    "As mentioned before, `.csv` files holding the dataset we will use in the tutorial are located  in the repository folder `cugraph-analytics/data`.\n",
    "\n",
    "### GQLAlchemy installation\n",
    "**[GQLAlchemy](https://memgraph.com/docs/gqlalchemy/)** is an object graph mapper (OGM) used to connect to Memgraph and execute queries using **Python**. You can think of Cypher as SQL for graph databases. It contains many of the same language constructs such as CREATE, UPDATE, DELETE, etc...\n",
    "\n",
    "Go to the GQLAlachemy [installation](https://memgraph.com/docs/gqlalchemy/installation) page for installation instructions and more information. If you have `CMake`, the easiest way to install `GQLAlchemy` is with `pip`:\n",
    "\n",
    "```\n",
    "pip install gqlalchemy\n",
    "```\n",
    "\n",
    "### Memgraph Lab installation\n",
    "The last piece of tech you will need is **[Memgraph Lab](https://memgraph.com/lab)**.  You will use it to connect to **Memgraph** and create data visualizations. Check out how to install **Memgraph Lab**  as a desktop application for [Windows](https://memgraph.com/docs/memgraph-lab/installation/windows#step-2---installing-and-setting-up-memgraph-lab), [Mac](https://memgraph.com/docs/memgraph-lab/installation/macos#step-2---installing-and-setting-up-memgraph-lab)  or [Linux](https://memgraph.com/docs/memgraph-lab/installation/linux#step-2---installing-and-setting-up-memgraph-lab), and then [connect to Memgraph database](https://memgraph.com/docs/memgraph-lab/connect-to-memgraph#connecting-to-memgraph).\n",
    "\n",
    "With the **Memgraph Lab** installed and connected, we are ready to connect to Memgraph with **GQLAlchemy**, import our large dataset and run graph analytics using **Python**."
   ],
   "metadata": {
    "collapsed": false,
    "pycharm": {
     "name": "#%% md\n"
    }
   }
  },
  {
   "cell_type": "markdown",
   "source": [
    "## Connecting to Memgraph with GQLAlchemy\n",
    "\n",
    "The next three lines of code will import `qglalchemy`, connect to **Memgraph** database instance via `host:127.0.0.1` and `port:7687`, and clear the database, just to be sure we are starting with a clean slate."
   ],
   "metadata": {
    "collapsed": false,
    "pycharm": {
     "name": "#%% md\n"
    }
   }
  },
  {
   "cell_type": "code",
   "execution_count": 21,
   "metadata": {},
   "outputs": [],
   "source": [
    "from gqlalchemy import Memgraph"
   ]
  },
  {
   "cell_type": "code",
   "execution_count": 22,
   "metadata": {},
   "outputs": [],
   "source": [
    "memgraph = Memgraph(\"127.0.0.1\", 7687)"
   ]
  },
  {
   "cell_type": "code",
   "execution_count": 3,
   "metadata": {},
   "outputs": [],
   "source": [
    "memgraph.drop_database()"
   ]
  },
  {
   "cell_type": "markdown",
   "metadata": {},
   "source": [
    "Let's import the dataset from `.csv` files and learn how to perform **PageRank** and **Louvain community detection** using **Python**."
   ]
  },
  {
   "cell_type": "markdown",
   "source": [
    "## Importing data\n",
    "\n",
    "The `.csv` files containing the [**Facebook** dataset](https://snap.stanford.edu/data/gemsec-Facebook.html) have the following structure:\n",
    "```\n",
    "node_1,node_2\n",
    "0,1794\n",
    "0,3102\n",
    "0,16645\n",
    "```\n",
    "The dataset consists of verified Facebook pages belonging to various categories and dating back to November 2017. Each node stands for a page, and relationships represent mutual likes. The nodes are reindexed (starting from 0) to achieve a certain level of anonymity. Because Memgraph imports indexed data faster, we will create an index for `Page` nodes over the `id` property.\""
   ],
   "metadata": {
    "collapsed": false,
    "pycharm": {
     "name": "#%% md\n"
    }
   }
  },
  {
   "cell_type": "code",
   "execution_count": 4,
   "metadata": {},
   "outputs": [],
   "source": [
    "memgraph.execute(\n",
    "    \"\"\"\n",
    "    CREATE INDEX ON :Page(id);\n",
    "    \"\"\"\n",
    ")"
   ]
  },
  {
   "cell_type": "markdown",
   "metadata": {},
   "source": [
    "Now, to make full use of our \"hack\" from before, let's list through our local files  in the `./data/facebook_clean_data/` folder to create their paths by concatenating the file names and the `/samples/` folder. Those paths will then represent the paths to the `.csv` files in the Docker container."
   ]
  },
  {
   "cell_type": "code",
   "execution_count": 7,
   "metadata": {},
   "outputs": [],
   "source": [
    "import os\n",
    "from os import listdir\n",
    "from os.path import isfile, join\n",
    "csv_dir_path = os.path.abspath(\"./data/facebook_clean_data/\")\n",
    "csv_files = [join(csv_dir_path, f) for f in listdir(csv_dir_path) if isfile(join(csv_dir_path, f))]\n"
   ]
  },
  {
   "cell_type": "code",
   "execution_count": 8,
   "metadata": {},
   "outputs": [],
   "source": [
    "import os\n",
    "from os import listdir\n",
    "from os.path import isfile, join\n",
    "csv_dir_path = os.path.abspath(\"./data/facebook_clean_data/\")\n",
    "csv_files = [f\"/samples/{f}\" for f in listdir(csv_dir_path) if isfile(join(csv_dir_path, f))]"
   ]
  },
  {
   "cell_type": "markdown",
   "source": [
    "Once we have all the `.csv` files, we can load them with the following query:"
   ],
   "metadata": {
    "collapsed": false,
    "pycharm": {
     "name": "#%% md\n"
    }
   }
  },
  {
   "cell_type": "code",
   "execution_count": null,
   "outputs": [],
   "source": [
    "for csv_file_path in csv_files:\n",
    "    memgraph.execute(\n",
    "        f\"\"\"\n",
    "        LOAD CSV FROM \"{csv_file_path}\" WITH HEADER AS row\n",
    "        MERGE (p1:Page {{id: row.node_1}})\n",
    "        MERGE (p2:Page {{id: row.node_2}})\n",
    "        MERGE (p1)-[:LIKES]->(p2);\n",
    "        \"\"\"\n",
    "    )"
   ],
   "metadata": {
    "collapsed": false,
    "pycharm": {
     "name": "#%%\n"
    }
   }
  },
  {
   "cell_type": "markdown",
   "source": [
    "You can find out more about the `LOAD CSV` clause for importing `.csv` files in our [docs](https://memgraph.com/docs/memgraph/import-data/load-csv-clause).\n",
    "\n",
    "We are all set to use PageRank and Louvain community detection algorithms with Python\n",
    "to find out which pages in our network are most important and to find all the communities\n",
    "we have in a network."
   ],
   "metadata": {
    "collapsed": false,
    "pycharm": {
     "name": "#%% md\n"
    }
   }
  },
  {
   "cell_type": "markdown",
   "metadata": {},
   "source": [
    "## PageRank importance analysis\n",
    "Now, let's execute PageRank to find the important pages of the Facebook dataset. To read more about how **Pagerank** works,  go to our **[docs](https://memgraph.com/docs/mage/query-modules/cpp/pagerank)** page. All algorithms mentioned in the [introduction](#introduction) were developed by **[Nvidia](https://rapids.ai/)**, and they come integrated within **Memgraph MAGE**. Our goal in **Memgraph** is to make it easy for you to use fast algorithms on graph databases.\n",
    "\n",
    "The graph algorithms in MAGE are implemented in C++ or Python, and include a large selection ranging from **graph neural networks** to various centrality measures. Find out more at the [MAGE docs page](https://memgraph.com/docs/mage/algorithms) and in our [tutorials](https://memgraph.com/categories/tutorials) on how to use such analytics to classify nodes, predict relationships, and much more! Everything inside MAGE is integrated in a way to make PageRank easy and quick. The following query executes the algorithm and stores the computed PageRank scores in the `rank` property, and it only takes ~4 seconds for our graph of more than 1 million edges!\n"
   ]
  },
  {
   "cell_type": "code",
   "execution_count": 11,
   "metadata": {},
   "outputs": [],
   "source": [
    "  memgraph.execute(\n",
    "        \"\"\"\n",
    "        CALL cugraph.pagerank.get() YIELD node,rank\n",
    "        SET node.rank = rank;\n",
    "        \"\"\"\n",
    "    )"
   ]
  },
  {
   "cell_type": "markdown",
   "metadata": {},
   "source": [
    "Now, ranks are ready and you can retrieve them with the following Python call:"
   ]
  },
  {
   "cell_type": "code",
   "execution_count": null,
   "metadata": {
    "pycharm": {
     "is_executing": true
    }
   },
   "outputs": [],
   "source": [
    "results =  memgraph.execute_and_fetch(\n",
    "        \"\"\"\n",
    "        MATCH (n)\n",
    "        RETURN n.id as node, n.rank as rank\n",
    "        ORDER BY rank DESC\n",
    "        LIMIT 10;\n",
    "        \"\"\"\n",
    "    )\n",
    "for dict_result in results:\n",
    "    print(f\"node id: {dict_result['node']}, rank: {dict_result['rank']}\")"
   ]
  },
  {
   "cell_type": "markdown",
   "metadata": {},
   "source": [
    " With the above code, we got the 10 nodes with the highest rank score in a Python dictionary. Time to visualize the results with **[Memgraph Lab](https://memgraph.com/lab)**!\n",
    "\n",
    "Open `Execute Query` view in **Memgraph Lab** and run the following query:\n",
    "```\n",
    "MATCH (n)\n",
    "WITH n\n",
    "ORDER BY n.rank DESC\n",
    "LIMIT 3\n",
    "MATCH (n)<-[e]-(m)\n",
    "RETURN *;\n",
    "```\n",
    "\n",
    "In the first part of this query, we first `MATCH` all the nodes. In the second part of the query we `ORDER` nodes by their `rank` in descending order, and for the first `3` of them get all pages that are connected to them. We need the `WITH` clause to connect the two parts of the query.\n",
    "\n",
    "\n",
    "Besides creating beautiful visualizations powered by [D3.js](https://d3js.org/) and our [graph style script](https://memgraph.com/docs/memgraph-lab/graph-style-script-language), you can use Memgraph Lab to [query your graph database](https://memgraph.com/docs/memgraph-lab/connect-to-memgraph#executing-queries) for the following:\n",
    " * write graph algorithms in **Python**, **C++**, or even **Rust**\n",
    " * check Memgraph Database Logs\n",
    " * visualize graph schema\n",
    " * import/export dataset\n",
    "\n",
    "If you don't have your own dataset at hand, there are plenty of datasets available in Memgraph Lab that you can explore. Everything you might need to know about Memgraph Lab can be found in our [docs](https://memgraph.com/docs/memgraph-lab/).\n",
    "\n",
    "Now, that's it concerning PageRank, next you will see how to use Louvain community detection to find communities in the graph."
   ]
  },
  {
   "cell_type": "markdown",
   "metadata": {},
   "source": [
    "## Community detection with Louvain\n",
    "The Louvain algorithm measures how connected the nodes within a community are if we would compare them to how connected they would be in a random network. Also, it recursively merges communities into a single node and executes the modularity clustering on the condensed graphs. This is one of the most popular community detection algorithms. Let's run it to find how many communities there are inside the graph. First, we will let Louvain execute and save `cluster_id` as a property for every node."
   ]
  },
  {
   "cell_type": "code",
   "execution_count": 23,
   "metadata": {},
   "outputs": [],
   "source": [
    "memgraph.execute(\n",
    "    \"\"\"\n",
    "    CALL cugraph.louvain.get() YIELD cluster_id, node\n",
    "    SET node.cluster_id = cluster_id;\n",
    "    \"\"\"\n",
    ")"
   ]
  },
  {
   "cell_type": "markdown",
   "metadata": {
    "pycharm": {
     "name": "#%% md\n"
    }
   },
   "source": []
  },
  {
   "cell_type": "code",
   "execution_count": null,
   "metadata": {
    "pycharm": {
     "is_executing": true
    }
   },
   "outputs": [],
   "source": [
    "results =  memgraph.execute_and_fetch(\n",
    "        \"\"\"\n",
    "        MATCH (n)\n",
    "        WITH DISTINCT n.cluster_id as cluster_id\n",
    "        RETURN count(cluster_id ) as num_of_clusters;\n",
    "        \"\"\"\n",
    "    )\n",
    "# we will get only 1 result\n",
    "result = list(results)[0]\n",
    "\n",
    "#don't forget that results are saved in a dict\n",
    "print(f\"Number of clusters: {result['num_of_clusters']}\")\n"
   ]
  },
  {
   "cell_type": "markdown",
   "metadata": {
    "pycharm": {
     "name": "#%% md\n"
    }
   },
   "source": [
    "You can now dive in and explore the graph's community structure. For example, let's find *border nodes* (they belong to one community, but are connected to node(s) in other communities. The Louvain method attempts to minimize their number, so we shouldn't see very many. Run the following query in Memgraph Lab:\n",
    "\n",
    "```\n",
    "MATCH  (n2)<-[e1]-(n1)-[e]->(m1)\n",
    "WHERE n1.cluster_id != m1.cluster_id AND n1.cluster_id = n2.cluster_id\n",
    "RETURN *\n",
    "LIMIT 1000;\n",
    "```\n",
    "This query `MATCH`es node `n1` and its relationships to nodes `n2` and `m1` with\n",
    "respectively:`(n2)<-[e1]-(n1)` and `(n1)-[e]->(m1)`. Next, it keeps (`FILTER`)\n",
    "only those matches `WHERE` `n1` and `n2` have a different `cluster_id` than `m1`.\n",
    "Using `LIMIT 1000`, we limit the results to show at most 1000 such relationships for easier visualization."
   ]
  },
  {
   "cell_type": "markdown",
   "source": [
    "## Where to next?\n",
    "And there you have it - millions of nodes imported and two graph analytics algorithms used.\n",
    "Now you can import huge graphs and do the analytics you want in a matter of seconds.\n",
    "If you like what we do, don't hesitate to give us a star on  **[Memgraph](https://github.com/memgraph/memgraph)**, **[Memgraph MAGE](https://github.com/memgraph/mage)** and also don't forget to give a star to devs in **[Rapids.ai cuGraph](https://github.com/rapidsai/cugraph)** .\n",
    "\n",
    "If you have any questions, feel free to ask us Memgraphers on **[Discord](https://discord.gg/memgraph)**.\n",
    "\n",
    "\n",
    "Onwards and upwards!"
   ],
   "metadata": {
    "collapsed": false,
    "pycharm": {
     "name": "#%% md\n"
    }
   }
  },
  {
   "cell_type": "code",
   "execution_count": null,
   "outputs": [],
   "source": [],
   "metadata": {
    "collapsed": false,
    "pycharm": {
     "name": "#%%\n"
    }
   }
  }
 ],
 "metadata": {
  "interpreter": {
   "hash": "916dbcbb3f70747c44a77c7bcd40155683ae19c65e1c03b4aa3499c5328201f1"
  },
  "kernelspec": {
   "display_name": "Python 3 (ipykernel)",
   "language": "python",
   "name": "python3"
  },
  "language_info": {
   "codemirror_mode": {
    "name": "ipython",
    "version": 3
   },
   "file_extension": ".py",
   "mimetype": "text/x-python",
   "name": "python",
   "nbconvert_exporter": "python",
   "pygments_lexer": "ipython3",
   "version": "3.8.10"
  }
 },
 "nbformat": 4,
 "nbformat_minor": 4
}