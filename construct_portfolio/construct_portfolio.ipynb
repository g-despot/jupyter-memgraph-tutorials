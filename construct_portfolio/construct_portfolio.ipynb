{
 "cells": [
  {
   "cell_type": "markdown",
   "metadata": {},
   "source": [
    "# Stock market analytics and constructing diversified stock portfolio using graph theory\n",
    "\n",
    "This tutorial will show you how to use graph analytics for analyzing stock market and how to construct diversified stock portfolio using **Leiden** community detection algorithm on a **S&P 500 dataset**."
   ]
  },
  {
   "cell_type": "markdown",
   "metadata": {},
   "source": [
    "\n",
    "## Prerequisites <a name=\"prerequisites\"></a>\n",
    "\n",
    "For this tutorial, we need to install:\n",
    "\n",
    "- [Docker](https://docs.docker.com/get-docker/) - to run Memgraph, since Memgraph is a native Linux application and cannot be installed on Windows and macOS\n",
    "- [Memgraph Platform](https://memgraph.com/docs/memgraph/installation) - the complete streaming graph application platform; follow the instructions to install Memgraph Platform with Docker for your OS\n",
    "- [GQLAlchemy](https://pypi.org/project/gqlalchemy/)\n",
    "\n",
    "> ### Memgraph Platform installation using Docker\n",
    ">\n",
    "> After we install Docker, we can run the Memgraph Platform container by running:\n",
    ">\n",
    ">```\n",
    ">docker run -it -p 7687:7687 -p 7444:7444 -p 3000:3000 memgraph/memgraph-platform\n",
    ">```\n",
    ">\n",
    ">**Memgraph Platform** contains:\n",
    ">\n",
    ">- **MemgraphDB** - the database that holds your data\n",
    ">- **Memgraph Lab** - visual user interface for running queries and visualizing graph data (running at >`localhost:3000`)\n",
    ">- **mgconsole** - command-line interface for running queries\n",
    ">- **MAGE** - graph algorithms and modules library\n",
    "\n",
    "We will use the **GQLAlchemy**'s object graph mapper (OGM) to connect to Memgraph and quickly execute **Cypher** queries. GQLAlchemy also serves as a Python driver/client for Memgraph. We can install it using:\n",
    "\n",
    "```\n",
    "pip install gqlalchemy\n",
    "```\n",
    "\n",
    "> You may need to install [CMake](https://cmake.org/download/) before installing GQLAlchemy.\n"
   ]
  },
  {
   "cell_type": "markdown",
   "metadata": {},
   "source": [
    "## Connect to Memgraph with GQLAlchemy"
   ]
  },
  {
   "cell_type": "code",
   "execution_count": null,
   "metadata": {},
   "outputs": [],
   "source": [
    "from gqlalchemy import Memgraph\n",
    "memgraph = Memgraph(\"127.0.0.1\", 7687)\n"
   ]
  },
  {
   "cell_type": "markdown",
   "metadata": {},
   "source": [
    "Let's see if there's anything in the database. To do that, we can count the number of nodes in the database with the following Cypher query:\n",
    "```\n",
    "MATCH (n) RETURN count(n) AS number_of_nodes;\n",
    "```\n",
    "\n",
    "With the GQLAlchemy, you can execute that query and fetch its results:"
   ]
  },
  {
   "cell_type": "code",
   "execution_count": null,
   "metadata": {},
   "outputs": [],
   "source": [
    "results = memgraph.execute_and_fetch(\n",
    "    \"\"\"\n",
    "    MATCH (n) RETURN count(n) AS number_of_nodes ;\n",
    "    \"\"\"\n",
    ")\n",
    "print(next(results))\n"
   ]
  },
  {
   "cell_type": "markdown",
   "metadata": {},
   "source": [
    "## Load the dataset\n",
    "\n",
    "The simplest way to load a dataset into Memgraph is by using **Memgraph Lab** which is currently running on `localhost:3000`. The first thing you're going to see on that address is the **Quick Connect**. You just have to click `Connect`!"
   ]
  },
  {
   "cell_type": "markdown",
   "metadata": {},
   "source": [
    "<img alt=\"movies_graph_model\" src=\"https://raw.githubusercontent.com/memgraph/jupyter-memgraph-tutorials/2bb531a3459d5b07953ecb124b50ff677ee337bd/construct_portfolio/img/memgraph-lab-quick-connect.png\" width=\"800\" />"
   ]
  },
  {
   "cell_type": "markdown",
   "metadata": {},
   "source": [
    "After you click `Connect`, head over to the `Datasets` tab, and load **S&P 500 stock prices** dataset."
   ]
  },
  {
   "cell_type": "markdown",
   "metadata": {},
   "source": [
    "<img alt=\"movies_graph_model\" src=\"https://raw.githubusercontent.com/memgraph/jupyter-memgraph-tutorials/2bb531a3459d5b07953ecb124b50ff677ee337bd/construct_portfolio/img/memgraph-lab-load-dataset.png\" width=\"800\" />"
   ]
  },
  {
   "cell_type": "markdown",
   "metadata": {},
   "source": [
    "Now, let's again check the **number of nodes** and **relationships** in the database:"
   ]
  },
  {
   "cell_type": "code",
   "execution_count": null,
   "metadata": {},
   "outputs": [],
   "source": [
    "results = memgraph.execute_and_fetch(\n",
    "    \"\"\"\n",
    "    MATCH (n) RETURN count(n) AS number_of_nodes ;\n",
    "    \"\"\"\n",
    ")\n",
    "print(next(results))\n"
   ]
  },
  {
   "cell_type": "markdown",
   "metadata": {},
   "source": [
    " In **Memgraph Lab** you can click on the **Graph Schema** tab and generate graph schema to see how the relationships are connecting the nodes in the database."
   ]
  },
  {
   "cell_type": "markdown",
   "metadata": {},
   "source": [
    "<img alt=\"movies_graph_model\" src=\"https://raw.githubusercontent.com/memgraph/jupyter-memgraph-tutorials/b483044ba9c88a4a43c7544d27af750bc84a36f8/construct_portfolio/img/graph-data-model.png\" width=\"800\" />"
   ]
  },
  {
   "cell_type": "markdown",
   "metadata": {},
   "source": [
    "## Stock market analysis with GQLAlchemy"
   ]
  },
  {
   "cell_type": "markdown",
   "metadata": {},
   "source": [
    "Let's first list all the stocks in the dataset:"
   ]
  },
  {
   "cell_type": "code",
   "execution_count": null,
   "metadata": {},
   "outputs": [],
   "source": [
    "results = memgraph.execute_and_fetch(\n",
    "    \"\"\"\n",
    "    MATCH (s:Stock)\n",
    "    RETURN collect(s.ticker) as tickers;\n",
    "    \"\"\"\n",
    ")\n",
    "\n",
    "print(next(results)['tickers'])\n"
   ]
  },
  {
   "cell_type": "markdown",
   "metadata": {},
   "source": [
    "We can find stocks that had best daily return for each day since 01-05-2022, Let's see how:"
   ]
  },
  {
   "cell_type": "code",
   "execution_count": null,
   "metadata": {},
   "outputs": [],
   "source": [
    "results = memgraph.execute_and_fetch(\n",
    "    \"\"\"      MATCH (s:Stock)-[r:Traded_On]->(d:TradingDay)\n",
    "      WITH max(r.close/r.open) as max_daily_return, d\n",
    "      MATCH (s:Stock)-[r:Traded_On]->(d:TradingDay) \n",
    "      WHERE (r.close/r.open) = max_daily_return AND d.date > \"2022-05-01\"\n",
    "      RETURN DISTINCT collect(s.ticker) as ticker;\n",
    "      \"\"\"\n",
    ")\n",
    "\n",
    "print(next(results)['ticker'])\n"
   ]
  },
  {
   "cell_type": "markdown",
   "metadata": {},
   "source": [
    "If we want to find stocks that had above average trading volume, we can do that with:"
   ]
  },
  {
   "cell_type": "code",
   "execution_count": null,
   "metadata": {},
   "outputs": [],
   "source": [
    "results = memgraph.execute_and_fetch(\n",
    "    \"\"\" MATCH (s:Stock)-[r:Traded_On]->(d:TradingDay)\n",
    "      WITH avg(r.volume) as avg_volume, d\n",
    "      MATCH (s:Stock)-[r:Traded_On]->(d:TradingDay) \n",
    "      WHERE r.volume > avg_volume AND d.date > \"2022-05-01\"\n",
    "      RETURN DISTINCT s.ticker as ticker;\n",
    "      \"\"\"\n",
    ")\n",
    "\n",
    "tickers = [x['ticker'] for x in list(results)]\n",
    "print(tickers)\n"
   ]
  },
  {
   "cell_type": "markdown",
   "metadata": {},
   "source": [
    "## Constructing diverisified stock portfolio"
   ]
  },
  {
   "cell_type": "markdown",
   "metadata": {},
   "source": [
    "The basic concept of constructing diversified stock portfolio is spreading your money among a variety of different investments in an effort to improve your risk-adjusted returns. One way of doing this is by finding stocks that behave similar and group them together to form a community. After we find stock communities, from each community we can pick stocks that will be part of our portfolio. In this tutorial, for finding communities we will use ***Leiden Algorithm***."
   ]
  },
  {
   "cell_type": "markdown",
   "metadata": {},
   "source": [
    "### Community detection with Leiden\n",
    "The Leiden algorithm is community detection algorithm. It is based upon the *network modularity* metric, i.e. how well-connected the nodes within communities are compared to a network with randomized edges. It optimizes for maximum modularity by recursively merging communities into a single node and measuring the modularity of the condensed graph's clustering. "
   ]
  },
  {
   "cell_type": "markdown",
   "metadata": {},
   "source": [
    "Before we start using Leiden algorithm for construct our stock portfolio, we first need to load custom query module to memgraph. If you are interested in implementation, custom query module can be found in `construct_portfolio.py`."
   ]
  },
  {
   "cell_type": "code",
   "execution_count": null,
   "metadata": {},
   "outputs": [],
   "source": [
    "module_name = 'construct_portfolio.py'\n",
    "file_text = open('construct_portfolio.py', \"r\").read().replace(\"'\", '\"')\n",
    "query = f\"CALL mg.create_module_file('{module_name}','{file_text}') YIELD *;\"\n",
    "list(memgraph.execute_and_fetch(query))\n"
   ]
  },
  {
   "cell_type": "markdown",
   "metadata": {},
   "source": [
    "After we loaded custom query module, we can start calling procedure. Procedure can be called with following parameters.\n",
    "\n",
    "- stock_tickers - list of stock tickers which we are taking in consideration for constructing portfolio.\n",
    "- values - list of values used for calculating correlations between stocks (for example stock daily returns)\n",
    "- n_trading_days_back - number of days taking in consideration while calculating correlations\n",
    "- n_best_performing - number of best performing stocks to pick from each community\n",
    "- resolution_parameter - Higher resolutions lead to more smaller communities, while lower resolutions lead to fewer larger communities.\n",
    "- correlation_measure - measure to use for calculating correlations between stocks\n",
    "- number_of_iterations - number of iterations used in leiden algorithm"
   ]
  },
  {
   "cell_type": "code",
   "execution_count": null,
   "metadata": {},
   "outputs": [],
   "source": [
    "communities_record = list(memgraph.execute_and_fetch(\"\"\"\n",
    "    MATCH (s:Stock)-[r:Traded_On]->(d:TradingDay)\n",
    "    WHERE d.date < \"2022-04-27\"\n",
    "    WITH collect(s.ticker) as stocks,collect(r.close/r.open) as daily_returns\n",
    "    CALL construct_portfolio.get(stocks,daily_returns,5,5,0.7,\"pearson\")\n",
    "    YIELD community_index, community\n",
    "    RETURN community_index, community;\n",
    "\n",
    "    \"\"\"\n",
    "                                                     ))\n",
    "\n",
    "for community in communities_record:\n",
    "    print(\"Community_index:\", community['community_index'],\n",
    "          \"Community members:\", community['community'])\n"
   ]
  },
  {
   "cell_type": "markdown",
   "metadata": {},
   "source": [
    "## Conclusion"
   ]
  },
  {
   "cell_type": "markdown",
   "metadata": {},
   "source": [
    "In this tutorial, we analyzed stock market and used Leiden algorithm ,implemented in custom query module `construct_portfolio.py`, for finding stock communities so we could construct risk diversified portfolio. This is not financial advice, do your own research before investing. "
   ]
  }
 ],
 "metadata": {
  "interpreter": {
   "hash": "916dbcbb3f70747c44a77c7bcd40155683ae19c65e1c03b4aa3499c5328201f1"
  },
  "kernelspec": {
   "display_name": "Python 3.8.10 64-bit",
   "language": "python",
   "name": "python3"
  },
  "language_info": {
   "codemirror_mode": {
    "name": "ipython",
    "version": 3
   },
   "file_extension": ".py",
   "mimetype": "text/x-python",
   "name": "python",
   "nbconvert_exporter": "python",
   "pygments_lexer": "ipython3",
   "version": "3.8.10"
  },
  "orig_nbformat": 4
 },
 "nbformat": 4,
 "nbformat_minor": 2
}
